{
 "cells": [
  {
   "cell_type": "code",
   "execution_count": 16,
   "metadata": {},
   "outputs": [],
   "source": [
    "import cv2\n",
    "import numpy as np\n",
    "import pandas as pd\n",
    "import glob\n",
    "import easyocr\n",
    "import re\n",
    "from tqdm import tqdm\n",
    "import fitz\n",
    "import os"
   ]
  },
  {
   "cell_type": "code",
   "execution_count": 17,
   "metadata": {},
   "outputs": [],
   "source": [
    "import os\n",
    "root_directory=r\"F:\\AP EROLL\\AP new\\AP_EROLL\"\n",
    "districts=os.listdir(root_directory)\n",
    "list_of_AC_paths=[]\n",
    "for district in districts:\n",
    "    district_path = (os.path.join(root_directory,district))\n",
    "    acs = os.listdir(district_path)\n",
    "    for ac in acs:\n",
    "        ac_path = os.path.join(district_path, ac)\n",
    "        list_of_AC_paths.append(ac_path)"
   ]
  },
  {
   "cell_type": "code",
   "execution_count": 18,
   "metadata": {},
   "outputs": [],
   "source": [
    "Start_Ac=0\n",
    "End_Ac=73"
   ]
  },
  {
   "cell_type": "code",
   "execution_count": 19,
   "metadata": {},
   "outputs": [],
   "source": [
    "def extract_first_page_as_image(pdf_folder, output_folder, dpi_factor=3.2):\n",
    "    files = [f for f in os.listdir(pdf_folder) if f.endswith('.pdf')]\n",
    "\n",
    "    for file in files:\n",
    "        pdffile = os.path.join(pdf_folder, file)\n",
    "        doc = fitz.open(pdffile)\n",
    "        page = doc.load_page(0)  # number of page\n",
    "\n",
    "        # Get the pixmap with the specified DPI\n",
    "        pix = page.get_pixmap(matrix=fitz.Matrix(dpi_factor, dpi_factor))\n",
    "\n",
    "        # Output file path (saving each image with a unique name)\n",
    "        output = os.path.join(output_folder, os.path.splitext(file)[0] + '_page1.jpg')\n",
    "\n",
    "        pix.save(output)\n",
    "        doc.close()"
   ]
  },
  {
   "cell_type": "code",
   "execution_count": 20,
   "metadata": {},
   "outputs": [],
   "source": [
    "def extract_polling_number(sentence):\n",
    "    # Define the pattern using regular expressions\n",
    "    pattern = r'\\b(\\d+)\\b'\n",
    "\n",
    "    # Search for the pattern in the sentence\n",
    "    match = re.search(pattern, sentence)\n",
    "\n",
    "    # Check if a match is found\n",
    "    if match:\n",
    "        # Extract the assembly number\n",
    "        assembly_number = match.group(1)\n",
    "        return assembly_number\n",
    "    else:\n",
    "        return None"
   ]
  },
  {
   "cell_type": "code",
   "execution_count": 21,
   "metadata": {},
   "outputs": [],
   "source": [
    "def extract_polling_station_info(text):\n",
    "    # Find the substring between \"Polling Station\" and \"Address of Polling Station\"\n",
    "    start_keyword = \"Polling Station\"\n",
    "    end_keyword = \"Address of Polling Station\"\n",
    "\n",
    "    start_index = text.find(start_keyword) + len(start_keyword)\n",
    "    end_index = text.find(end_keyword, start_index)\n",
    "\n",
    "    polling_station_name = ''.join(char for char in text[start_index:end_index].strip() if not char.isdigit())\n",
    "\n",
    "    # Find the substring after \"Address of Polling Station\"\n",
    "    address_start_index = end_index + len(end_keyword)\n",
    "    polling_station_address = text[address_start_index:].strip().replace(':', '')\n",
    "\n",
    "    return polling_station_name.strip(), polling_station_address.strip()"
   ]
  },
  {
   "cell_type": "code",
   "execution_count": 22,
   "metadata": {},
   "outputs": [],
   "source": [
    "def collect_uppercase_words(text):\n",
    "    # Split the text into words using space as a separator\n",
    "    words = text.split()\n",
    "\n",
    "    # Filter and collect words in upper case\n",
    "    uppercase_words = [word for word in words if word.isupper()]\n",
    "\n",
    "    return uppercase_words"
   ]
  },
  {
   "cell_type": "code",
   "execution_count": 23,
   "metadata": {},
   "outputs": [],
   "source": [
    "def extract_info_after_phrase(text, phrase):\n",
    "    # Find the index of the specified phrase\n",
    "    index = text.find(phrase)\n",
    "    result = text[index + len(phrase):].strip()\n",
    "    return result"
   ]
  },
  {
   "cell_type": "code",
   "execution_count": 24,
   "metadata": {},
   "outputs": [],
   "source": [
    "def convert_to_x_y_w_h(points):\n",
    "    x_values, y_values = zip(*points)\n",
    "    x_min, x_max = min(x_values), max(x_values)\n",
    "    y_min, y_max = min(y_values), max(y_values)\n",
    "    width = x_max - x_min\n",
    "    height = y_max - y_min\n",
    "    return x_min, y_min, width, height"
   ]
  },
  {
   "cell_type": "code",
   "execution_count": 25,
   "metadata": {},
   "outputs": [],
   "source": [
    "def process_image(path):\n",
    "    image = cv2.imread(path)\n",
    "    img_gray = cv2.cvtColor(image, cv2.COLOR_BGR2GRAY)\n",
    "    ret, thresh = cv2.threshold(img_gray, 150, 255, cv2.THRESH_BINARY)\n",
    "\n",
    "    contours, _ = cv2.findContours(image=thresh, mode=cv2.RETR_TREE, method=cv2.CHAIN_APPROX_NONE)\n",
    "\n",
    "    required_cnt = [cnt for cnt in contours if cv2.contourArea(cnt) >= 4000]\n",
    "    required_cnt.pop(0)\n",
    "\n",
    "    font = cv2.FONT_HERSHEY_SIMPLEX\n",
    "    font_scale = 0.5\n",
    "    font_color = (255, 0, 0)\n",
    "    other_font_color = (0, 255, 0)\n",
    "\n",
    "    contour_coordinates = {}\n",
    "    for i, cnt in enumerate(required_cnt):\n",
    "        approx = cv2.approxPolyDP(cnt, 0.00 * cv2.arcLength(cnt, True), True)\n",
    "        cv2.drawContours(image, [approx], 0, (0, 0, 255), 5)\n",
    "\n",
    "        n = approx.ravel()\n",
    "        coordinates_list = []\n",
    "\n",
    "        for j in range(0, len(n), 2):\n",
    "            x, y = n[j], n[j + 1]\n",
    "            string = str(x) + \" \" + str(y)\n",
    "\n",
    "            if j == 0:\n",
    "                cv2.putText(image, \"Arrow tip\", (x, y), font, font_scale, font_color)\n",
    "            else:\n",
    "                cv2.putText(image, string, (x, y), font, font_scale, other_font_color)\n",
    "            coordinates_list.append((x, y))\n",
    "\n",
    "        contour_coordinates[i] = coordinates_list\n",
    "\n",
    "    final_coor = [convert_to_x_y_w_h(contour_coordinates[i]) for i in range(len(contour_coordinates))]\n",
    "    \n",
    "    return final_coor,img_gray\n"
   ]
  },
  {
   "cell_type": "code",
   "execution_count": 26,
   "metadata": {},
   "outputs": [],
   "source": [
    "import re\n",
    "\n",
    "def extract_text_between_phrases(text, phrase1, phrase2):\n",
    "    patt= re.compile(f'{re.escape(phrase1)}(.*?){re.escape(phrase2)}')\n",
    "    mat = patt.search(text)\n",
    "\n",
    "    if mat:\n",
    "        return mat.group(1)\n",
    "    else:\n",
    "        return None\n"
   ]
  },
  {
   "cell_type": "code",
   "execution_count": 27,
   "metadata": {},
   "outputs": [],
   "source": [
    "def add_space_to_words(words):\n",
    "    # Iterate through each word in the list\n",
    "    for i in range(len(words)):\n",
    "        # Check if the word doesn't end with a space\n",
    "        if not words[i].endswith(' '):\n",
    "            # Add a space at the end of the word\n",
    "            words[i] += ' '\n",
    "\n"
   ]
  },
  {
   "cell_type": "code",
   "execution_count": 28,
   "metadata": {},
   "outputs": [],
   "source": [
    "def geo_graphic_extraction(text):\n",
    "\n",
    "    modified_sentence = re.sub(r'\\d+', '', text)\n",
    "    input_text = modified_sentence\n",
    "    \n",
    "    pattern = re.compile(r'([A-Z][a-z\\s:]+)')\n",
    "\n",
    "    matches = pattern.findall(input_text)\n",
    "    add_space_to_words(matches)\n",
    "    text=\"\".join(matches)\n",
    "    split_words=text.split(\" \")\n",
    "    filtered_words = [word for word in split_words if len(word) > 1]\n",
    "\n",
    "    t_1=\" \".join(filtered_words[:4])\n",
    "    t_2=\" \".join(filtered_words[4:6])\n",
    "    t_3=\" \".join(filtered_words[6:8])\n",
    "    t_4=\"\".join(filtered_words[8:10])\n",
    "    t_5=\" \".join(filtered_words[10:12])\n",
    "    t_6=filtered_words[12]\n",
    "    t_7=\" \".join(filtered_words[13:])\n",
    "\n",
    "    return t_1,t_2,t_3,t_4,t_5,t_6,t_7\n"
   ]
  },
  {
   "cell_type": "code",
   "execution_count": 29,
   "metadata": {},
   "outputs": [
    {
     "name": "stderr",
     "output_type": "stream",
     "text": [
      "0it [00:00, ?it/s]Neither CUDA nor MPS are available - defaulting to CPU. Note: This module is much faster with a GPU.\n",
      "Neither CUDA nor MPS are available - defaulting to CPU. Note: This module is much faster with a GPU.\n"
     ]
    },
    {
     "name": "stdout",
     "output_type": "stream",
     "text": [
      "('Main Town or Village', 'Post Oftice', 'Police Station', 'TehsilMandal', 'Revenue Division', 'District', 'Pin code')\n"
     ]
    },
    {
     "name": "stderr",
     "output_type": "stream",
     "text": [
      "Neither CUDA nor MPS are available - defaulting to CPU. Note: This module is much faster with a GPU.\n"
     ]
    },
    {
     "name": "stdout",
     "output_type": "stream",
     "text": [
      "('Main Town or Village', 'Post Oftice', 'Police Station', 'TehsilMandal', 'Revenue Division', 'District', 'Pin code')\n"
     ]
    },
    {
     "name": "stderr",
     "output_type": "stream",
     "text": [
      "Neither CUDA nor MPS are available - defaulting to CPU. Note: This module is much faster with a GPU.\n"
     ]
    },
    {
     "name": "stdout",
     "output_type": "stream",
     "text": [
      "('Main Town or village', 'Post Oftice', 'Police Station', 'TehsilMandal', 'Rovenu Division', 'District', 'Pin code')\n"
     ]
    },
    {
     "name": "stderr",
     "output_type": "stream",
     "text": [
      "Neither CUDA nor MPS are available - defaulting to CPU. Note: This module is much faster with a GPU.\n"
     ]
    },
    {
     "name": "stdout",
     "output_type": "stream",
     "text": [
      "('Main Town or village', 'Post Oftice', 'Police Station', 'TehsilMandal', 'Rovenu Division', 'District', 'Pin code')\n"
     ]
    },
    {
     "name": "stderr",
     "output_type": "stream",
     "text": [
      "Neither CUDA nor MPS are available - defaulting to CPU. Note: This module is much faster with a GPU.\n"
     ]
    },
    {
     "name": "stdout",
     "output_type": "stream",
     "text": [
      "('Main Town or village', 'Post Oftice', 'Police Station', 'TehsilMandal', 'Rovenu Division', 'District', 'Pin code')\n"
     ]
    },
    {
     "name": "stderr",
     "output_type": "stream",
     "text": [
      "Neither CUDA nor MPS are available - defaulting to CPU. Note: This module is much faster with a GPU.\n"
     ]
    },
    {
     "name": "stdout",
     "output_type": "stream",
     "text": [
      "('Main Town or village', 'Post Oftice', 'Police Station', 'TehsilMandal', 'Rovenu Division', 'District', 'Pin code')\n"
     ]
    },
    {
     "name": "stderr",
     "output_type": "stream",
     "text": [
      "Neither CUDA nor MPS are available - defaulting to CPU. Note: This module is much faster with a GPU.\n"
     ]
    },
    {
     "name": "stdout",
     "output_type": "stream",
     "text": [
      "('Main Town or village', 'Post Oftice', 'Police Station', 'TehsilMandal', 'Rovenu Division', 'District', 'Pin code')\n"
     ]
    },
    {
     "name": "stderr",
     "output_type": "stream",
     "text": [
      "Neither CUDA nor MPS are available - defaulting to CPU. Note: This module is much faster with a GPU.\n"
     ]
    },
    {
     "name": "stdout",
     "output_type": "stream",
     "text": [
      "('Main Town or Village', 'Post Oftice', 'Police Station', 'TehsilMandal', 'Revenue Division', 'District', 'Pin code')\n"
     ]
    },
    {
     "name": "stderr",
     "output_type": "stream",
     "text": [
      "Neither CUDA nor MPS are available - defaulting to CPU. Note: This module is much faster with a GPU.\n"
     ]
    },
    {
     "name": "stdout",
     "output_type": "stream",
     "text": [
      "('Main Town or village', 'Post Oftice', 'Police Station', 'TehsilMandal', 'Rovenu Division', 'District', 'Pin code')\n"
     ]
    },
    {
     "name": "stderr",
     "output_type": "stream",
     "text": [
      "Neither CUDA nor MPS are available - defaulting to CPU. Note: This module is much faster with a GPU.\n"
     ]
    },
    {
     "name": "stdout",
     "output_type": "stream",
     "text": [
      "('Main Town or village', 'Post Oftice', 'Police Station', 'TehsilMandal', 'Rovenu Division', 'District', 'Pin code')\n"
     ]
    },
    {
     "name": "stderr",
     "output_type": "stream",
     "text": [
      "Neither CUDA nor MPS are available - defaulting to CPU. Note: This module is much faster with a GPU.\n"
     ]
    },
    {
     "name": "stdout",
     "output_type": "stream",
     "text": [
      "('Main Town or village', 'Post Oftice', 'Police Station', 'TehsilMandal', 'Rovenu Division', 'District', 'Pin code')\n"
     ]
    },
    {
     "name": "stderr",
     "output_type": "stream",
     "text": [
      "Neither CUDA nor MPS are available - defaulting to CPU. Note: This module is much faster with a GPU.\n"
     ]
    },
    {
     "name": "stdout",
     "output_type": "stream",
     "text": [
      "('Main Town or village', 'Post Oftice', 'Police Station', 'TehsilMandal', 'Rovenu Division', 'District', 'Pin code')\n"
     ]
    },
    {
     "name": "stderr",
     "output_type": "stream",
     "text": [
      "Neither CUDA nor MPS are available - defaulting to CPU. Note: This module is much faster with a GPU.\n"
     ]
    },
    {
     "name": "stdout",
     "output_type": "stream",
     "text": [
      "('Main Town or Village', 'Post Oftice', 'Police Station', 'TehsilMandal', 'Revenue Division', 'District', 'Pin code')\n"
     ]
    },
    {
     "name": "stderr",
     "output_type": "stream",
     "text": [
      "Neither CUDA nor MPS are available - defaulting to CPU. Note: This module is much faster with a GPU.\n"
     ]
    },
    {
     "name": "stdout",
     "output_type": "stream",
     "text": [
      "('Main Town Or Village', 'Post Office', 'Police Station', 'TehsiMandal', 'Revenue Division', 'District', 'Pin code')\n"
     ]
    },
    {
     "name": "stderr",
     "output_type": "stream",
     "text": [
      "Neither CUDA nor MPS are available - defaulting to CPU. Note: This module is much faster with a GPU.\n"
     ]
    },
    {
     "name": "stdout",
     "output_type": "stream",
     "text": [
      "('Main Town or village', 'Post Oftice', 'Police Station', 'TehsilMandal', 'Rovenu Division', 'District', 'Pin code')\n"
     ]
    },
    {
     "name": "stderr",
     "output_type": "stream",
     "text": [
      "Neither CUDA nor MPS are available - defaulting to CPU. Note: This module is much faster with a GPU.\n"
     ]
    },
    {
     "name": "stdout",
     "output_type": "stream",
     "text": [
      "('Main Town or village', 'Post Oftice', 'Police Station', 'TehsilMandal', 'Rovenu Division', 'District', 'Pin code')\n"
     ]
    },
    {
     "name": "stderr",
     "output_type": "stream",
     "text": [
      "Neither CUDA nor MPS are available - defaulting to CPU. Note: This module is much faster with a GPU.\n"
     ]
    },
    {
     "name": "stdout",
     "output_type": "stream",
     "text": [
      "('Main Town or village', 'Liv Post', 'Oftice Livi', 'PoliceStation', 'Tehsil Mandal', 'Rovenu', 'Division District Pin code')\n"
     ]
    },
    {
     "name": "stderr",
     "output_type": "stream",
     "text": [
      "Neither CUDA nor MPS are available - defaulting to CPU. Note: This module is much faster with a GPU.\n"
     ]
    },
    {
     "name": "stdout",
     "output_type": "stream",
     "text": [
      "('Main Town or village', 'Post Oftice', 'Police Station', 'TehsilMandal', 'Rovenu Division', 'District', 'Pin code')\n"
     ]
    },
    {
     "name": "stderr",
     "output_type": "stream",
     "text": [
      "Neither CUDA nor MPS are available - defaulting to CPU. Note: This module is much faster with a GPU.\n"
     ]
    },
    {
     "name": "stdout",
     "output_type": "stream",
     "text": [
      "('Main Town or village', 'Post Oftice', 'Police Station', 'TehsilMandal', 'Rovenu Division', 'District', 'Pin code')\n"
     ]
    },
    {
     "name": "stderr",
     "output_type": "stream",
     "text": [
      "Neither CUDA nor MPS are available - defaulting to CPU. Note: This module is much faster with a GPU.\n"
     ]
    },
    {
     "name": "stdout",
     "output_type": "stream",
     "text": [
      "('Main Town or village', 'Post Oftice', 'Police Station', 'TehsilMandal', 'Rovenu Division', 'District', 'Pin code')\n"
     ]
    },
    {
     "name": "stderr",
     "output_type": "stream",
     "text": [
      "Neither CUDA nor MPS are available - defaulting to CPU. Note: This module is much faster with a GPU.\n"
     ]
    },
    {
     "name": "stdout",
     "output_type": "stream",
     "text": [
      "('Main Town or village', 'Post Oftice', 'Police Station', 'TehsilMandal', 'Rovenu Division', 'District', 'Pin code')\n"
     ]
    },
    {
     "name": "stderr",
     "output_type": "stream",
     "text": [
      "Neither CUDA nor MPS are available - defaulting to CPU. Note: This module is much faster with a GPU.\n"
     ]
    },
    {
     "name": "stdout",
     "output_type": "stream",
     "text": [
      "('Main Town or village', 'Post Oftice', 'Police Station', 'TehsilMandal', 'Rovenu Division', 'District', 'Pin code')\n"
     ]
    },
    {
     "name": "stderr",
     "output_type": "stream",
     "text": [
      "Neither CUDA nor MPS are available - defaulting to CPU. Note: This module is much faster with a GPU.\n"
     ]
    },
    {
     "name": "stdout",
     "output_type": "stream",
     "text": [
      "('Main Town or village', 'Post Oftice', 'Police Station', 'TehsilMandal', 'Rovenu Division', 'District', 'Pin code')\n"
     ]
    },
    {
     "name": "stderr",
     "output_type": "stream",
     "text": [
      "Neither CUDA nor MPS are available - defaulting to CPU. Note: This module is much faster with a GPU.\n"
     ]
    },
    {
     "name": "stdout",
     "output_type": "stream",
     "text": [
      "('Main Town or Village', 'Post Oftice', 'Police Station', 'TehsilMandal', 'Revenue Division', 'District', 'Pin code')\n"
     ]
    },
    {
     "name": "stderr",
     "output_type": "stream",
     "text": [
      "Neither CUDA nor MPS are available - defaulting to CPU. Note: This module is much faster with a GPU.\n"
     ]
    },
    {
     "name": "stdout",
     "output_type": "stream",
     "text": [
      "('Main Town or village', 'Post Oftice', 'Police Station', 'TehsilMandal', 'Rovenu Division', 'District', 'Pin code')\n"
     ]
    },
    {
     "name": "stderr",
     "output_type": "stream",
     "text": [
      "Neither CUDA nor MPS are available - defaulting to CPU. Note: This module is much faster with a GPU.\n"
     ]
    },
    {
     "name": "stdout",
     "output_type": "stream",
     "text": [
      "('Main Town or village', 'Post Oftice', 'Police Station', 'TehsilMandal', 'Rovenu Division', 'District', 'Pin code')\n"
     ]
    },
    {
     "name": "stderr",
     "output_type": "stream",
     "text": [
      "Neither CUDA nor MPS are available - defaulting to CPU. Note: This module is much faster with a GPU.\n"
     ]
    },
    {
     "name": "stdout",
     "output_type": "stream",
     "text": [
      "('Main Town Or Village', 'Post Oifice', 'Police Station', 'TehsilMandal', 'Revenue Division', 'District', 'Pin code')\n"
     ]
    },
    {
     "name": "stderr",
     "output_type": "stream",
     "text": [
      "Neither CUDA nor MPS are available - defaulting to CPU. Note: This module is much faster with a GPU.\n"
     ]
    },
    {
     "name": "stdout",
     "output_type": "stream",
     "text": [
      "('Main Town or village', 'Post Oftice', 'Police Station', 'TehsiMandal', 'Rovenue Division', 'District', 'Pin coda')\n"
     ]
    },
    {
     "name": "stderr",
     "output_type": "stream",
     "text": [
      "Neither CUDA nor MPS are available - defaulting to CPU. Note: This module is much faster with a GPU.\n"
     ]
    },
    {
     "name": "stdout",
     "output_type": "stream",
     "text": [
      "('Main Town or Village', 'Post Oftice', 'Police Station', 'TehsilMandal', 'Revenue Division', 'District', 'Pin code')\n"
     ]
    },
    {
     "name": "stderr",
     "output_type": "stream",
     "text": [
      "Neither CUDA nor MPS are available - defaulting to CPU. Note: This module is much faster with a GPU.\n"
     ]
    },
    {
     "name": "stdout",
     "output_type": "stream",
     "text": [
      "('Main Town or Village', 'Post Oftice', 'Police Station', 'TehsilMandal', 'Revenue Division', 'District', 'Pin code')\n"
     ]
    },
    {
     "name": "stderr",
     "output_type": "stream",
     "text": [
      "Neither CUDA nor MPS are available - defaulting to CPU. Note: This module is much faster with a GPU.\n"
     ]
    },
    {
     "name": "stdout",
     "output_type": "stream",
     "text": [
      "('Main Town Or Village', 'Post Office', 'Police Station', 'TehsiMandal', 'Revenuc Division', 'District', 'Lu Pin code')\n"
     ]
    },
    {
     "name": "stderr",
     "output_type": "stream",
     "text": [
      "Neither CUDA nor MPS are available - defaulting to CPU. Note: This module is much faster with a GPU.\n"
     ]
    },
    {
     "name": "stdout",
     "output_type": "stream",
     "text": [
      "('Main Town or village', 'Post Oftice', 'Police Station', 'TehsilMandal', 'Rovenu Division', 'District', 'Pin code')\n"
     ]
    },
    {
     "name": "stderr",
     "output_type": "stream",
     "text": [
      "Neither CUDA nor MPS are available - defaulting to CPU. Note: This module is much faster with a GPU.\n"
     ]
    },
    {
     "name": "stdout",
     "output_type": "stream",
     "text": [
      "('Main Town or village', 'Post Oftice', 'Police Station', 'TehsilMandal', 'Rovenu Division', 'District', 'Pin code')\n"
     ]
    },
    {
     "name": "stderr",
     "output_type": "stream",
     "text": [
      "Neither CUDA nor MPS are available - defaulting to CPU. Note: This module is much faster with a GPU.\n"
     ]
    },
    {
     "name": "stdout",
     "output_type": "stream",
     "text": [
      "('Main Town Or Village', 'Post Ofiice', 'Police Station', 'TehsilMandal', 'Aevenue Division', 'District', 'Pin coda')\n"
     ]
    },
    {
     "name": "stderr",
     "output_type": "stream",
     "text": [
      "Neither CUDA nor MPS are available - defaulting to CPU. Note: This module is much faster with a GPU.\n"
     ]
    },
    {
     "name": "stdout",
     "output_type": "stream",
     "text": [
      "('Main Town or Village', 'Post Oftice', 'Police Station', 'TehsilMandal', 'Revenue Division', 'District', 'Pin code')\n"
     ]
    },
    {
     "name": "stderr",
     "output_type": "stream",
     "text": [
      "Neither CUDA nor MPS are available - defaulting to CPU. Note: This module is much faster with a GPU.\n"
     ]
    },
    {
     "name": "stdout",
     "output_type": "stream",
     "text": [
      "('Main Town or village', 'Post Oftice', 'Police Station', 'TehsilMandal', 'Rovenu Division', 'District', 'Pin code')\n"
     ]
    },
    {
     "name": "stderr",
     "output_type": "stream",
     "text": [
      "Neither CUDA nor MPS are available - defaulting to CPU. Note: This module is much faster with a GPU.\n"
     ]
    },
    {
     "name": "stdout",
     "output_type": "stream",
     "text": [
      "('Main Town or village', 'Post Oftice', 'Police Station', 'TehsilMandal', 'Rovenu Division', 'District', 'Pin code')\n"
     ]
    },
    {
     "name": "stderr",
     "output_type": "stream",
     "text": [
      "Neither CUDA nor MPS are available - defaulting to CPU. Note: This module is much faster with a GPU.\n"
     ]
    },
    {
     "name": "stdout",
     "output_type": "stream",
     "text": [
      "('Main Town or village', 'Post Oftice', 'Police Station', 'TehsilMandal', 'Rovenu Division', 'District', 'Pin code')\n"
     ]
    },
    {
     "name": "stderr",
     "output_type": "stream",
     "text": [
      "Neither CUDA nor MPS are available - defaulting to CPU. Note: This module is much faster with a GPU.\n"
     ]
    },
    {
     "name": "stdout",
     "output_type": "stream",
     "text": [
      "('Main Town or village', 'Post Oftice', 'Police Station', 'TehsilMandal', 'Rovenu Division', 'District', 'Pin code')\n"
     ]
    },
    {
     "name": "stderr",
     "output_type": "stream",
     "text": [
      "Neither CUDA nor MPS are available - defaulting to CPU. Note: This module is much faster with a GPU.\n"
     ]
    },
    {
     "name": "stdout",
     "output_type": "stream",
     "text": [
      "('Main Town Or village', 'Post Oftice', 'Police Station', 'TehsilMandal', 'Rovenue Division', 'District', 'Pin coda')\n"
     ]
    },
    {
     "name": "stderr",
     "output_type": "stream",
     "text": [
      "Neither CUDA nor MPS are available - defaulting to CPU. Note: This module is much faster with a GPU.\n"
     ]
    },
    {
     "name": "stdout",
     "output_type": "stream",
     "text": [
      "('Main Town or village', 'Post Oftice', 'Police Station', 'TehsilMandal', 'Rovenu Division', 'District', 'Pin code')\n"
     ]
    },
    {
     "name": "stderr",
     "output_type": "stream",
     "text": [
      "Neither CUDA nor MPS are available - defaulting to CPU. Note: This module is much faster with a GPU.\n"
     ]
    },
    {
     "name": "stdout",
     "output_type": "stream",
     "text": [
      "('Main Town or village', 'Post Oftice', 'Police Station', 'TehsilMandal', 'Rovenu Division', 'District', 'Pin code')\n"
     ]
    },
    {
     "name": "stderr",
     "output_type": "stream",
     "text": [
      "Neither CUDA nor MPS are available - defaulting to CPU. Note: This module is much faster with a GPU.\n"
     ]
    },
    {
     "name": "stdout",
     "output_type": "stream",
     "text": [
      "('Main Town or village', 'Post Oftice', 'Police Station', 'TehsilMandal', 'Rovenu Division', 'District', 'Pin code')\n"
     ]
    },
    {
     "name": "stderr",
     "output_type": "stream",
     "text": [
      "Neither CUDA nor MPS are available - defaulting to CPU. Note: This module is much faster with a GPU.\n"
     ]
    },
    {
     "name": "stdout",
     "output_type": "stream",
     "text": [
      "('Main Town or village', 'Post Oftice', 'Police Station', 'TehsilMandal', 'Rovenu Division', 'District', 'Pin code')\n"
     ]
    },
    {
     "name": "stderr",
     "output_type": "stream",
     "text": [
      "Neither CUDA nor MPS are available - defaulting to CPU. Note: This module is much faster with a GPU.\n"
     ]
    },
    {
     "name": "stdout",
     "output_type": "stream",
     "text": [
      "('Main Town or village', 'Post Office', 'Police Station', 'TehsilMandal', 'Rovenue Division', 'District', 'Pin coda')\n"
     ]
    },
    {
     "name": "stderr",
     "output_type": "stream",
     "text": [
      "Neither CUDA nor MPS are available - defaulting to CPU. Note: This module is much faster with a GPU.\n"
     ]
    },
    {
     "name": "stdout",
     "output_type": "stream",
     "text": [
      "('Main Town or Village', 'Post Oftice', 'Police Station', 'TehsilMandal', 'Revenue Division', 'District', 'Pin code')\n"
     ]
    },
    {
     "name": "stderr",
     "output_type": "stream",
     "text": [
      "Neither CUDA nor MPS are available - defaulting to CPU. Note: This module is much faster with a GPU.\n"
     ]
    },
    {
     "name": "stdout",
     "output_type": "stream",
     "text": [
      "('Main Town Or Village', 'Post Office', 'Police Station', 'TehsilMandal', 'Revenue Division', 'District', 'Pin code')\n"
     ]
    },
    {
     "name": "stderr",
     "output_type": "stream",
     "text": [
      "Neither CUDA nor MPS are available - defaulting to CPU. Note: This module is much faster with a GPU.\n"
     ]
    },
    {
     "name": "stdout",
     "output_type": "stream",
     "text": [
      "('Main Town or village', 'Post Oftice', 'Police Station', 'TehsilMandal', 'Rovenu Division', 'District', 'Pin code')\n"
     ]
    },
    {
     "name": "stderr",
     "output_type": "stream",
     "text": [
      "Neither CUDA nor MPS are available - defaulting to CPU. Note: This module is much faster with a GPU.\n"
     ]
    },
    {
     "name": "stdout",
     "output_type": "stream",
     "text": [
      "('Main Town Or Village', 'Post Oifice', 'Police Station', 'TehsilMandal', 'Revenuc Division', 'District', 'Pin code')\n"
     ]
    },
    {
     "name": "stderr",
     "output_type": "stream",
     "text": [
      "Neither CUDA nor MPS are available - defaulting to CPU. Note: This module is much faster with a GPU.\n"
     ]
    },
    {
     "name": "stdout",
     "output_type": "stream",
     "text": [
      "('Main Town or village', 'Post Oftice', 'Police Station', 'TehsilMandal', 'Rovenu Division', 'District', 'Pin code')\n"
     ]
    },
    {
     "name": "stderr",
     "output_type": "stream",
     "text": [
      "Neither CUDA nor MPS are available - defaulting to CPU. Note: This module is much faster with a GPU.\n"
     ]
    },
    {
     "name": "stdout",
     "output_type": "stream",
     "text": [
      "('Main Town or village', 'Post Oftice', 'Police Station', 'TehsilMandal', 'Rovenu Division', 'District', 'Pin code')\n"
     ]
    },
    {
     "name": "stderr",
     "output_type": "stream",
     "text": [
      "Neither CUDA nor MPS are available - defaulting to CPU. Note: This module is much faster with a GPU.\n"
     ]
    },
    {
     "name": "stdout",
     "output_type": "stream",
     "text": [
      "('Main Town or village', 'Post Office', 'Police Station', 'TehsilMandal', 'Rovenu Division', 'District', 'Pin code')\n"
     ]
    },
    {
     "name": "stderr",
     "output_type": "stream",
     "text": [
      "Neither CUDA nor MPS are available - defaulting to CPU. Note: This module is much faster with a GPU.\n"
     ]
    },
    {
     "name": "stdout",
     "output_type": "stream",
     "text": [
      "('Main Town Or village', 'Post Oftice', 'Police Station', 'TehsilMandal', 'Rovenue Division', 'District', 'Pin coda')\n"
     ]
    },
    {
     "name": "stderr",
     "output_type": "stream",
     "text": [
      "Neither CUDA nor MPS are available - defaulting to CPU. Note: This module is much faster with a GPU.\n"
     ]
    },
    {
     "name": "stdout",
     "output_type": "stream",
     "text": [
      "('Main Town or village', 'Post Oftice', 'Police Station', 'TehsilMandal', 'Rovenu Division', 'District', 'Pin code')\n"
     ]
    },
    {
     "name": "stderr",
     "output_type": "stream",
     "text": [
      "Neither CUDA nor MPS are available - defaulting to CPU. Note: This module is much faster with a GPU.\n"
     ]
    },
    {
     "name": "stdout",
     "output_type": "stream",
     "text": [
      "('Main Town or village', 'Post Oftice', 'Police Station', 'TehsilMandal', 'Rovenu Division', 'District', 'Pin code')\n"
     ]
    },
    {
     "name": "stderr",
     "output_type": "stream",
     "text": [
      "Neither CUDA nor MPS are available - defaulting to CPU. Note: This module is much faster with a GPU.\n"
     ]
    },
    {
     "name": "stdout",
     "output_type": "stream",
     "text": [
      "('Main Town or village', 'Post Oftice', 'Police Station', 'TehsilMandal', 'Rovenu Division', 'District', 'Pin code')\n"
     ]
    },
    {
     "name": "stderr",
     "output_type": "stream",
     "text": [
      "Neither CUDA nor MPS are available - defaulting to CPU. Note: This module is much faster with a GPU.\n"
     ]
    },
    {
     "name": "stdout",
     "output_type": "stream",
     "text": [
      "('Main Town or Village', 'Post Oftice', 'Police Station', 'TehsilMandal', 'Revenue Division', 'District', 'Pin code')\n"
     ]
    },
    {
     "name": "stderr",
     "output_type": "stream",
     "text": [
      "Neither CUDA nor MPS are available - defaulting to CPU. Note: This module is much faster with a GPU.\n"
     ]
    },
    {
     "name": "stdout",
     "output_type": "stream",
     "text": [
      "('Main Town or village', 'Post Office', 'Police Station', 'TehsilMandal', 'Rovenue Division', 'District', 'Pin code')\n"
     ]
    },
    {
     "name": "stderr",
     "output_type": "stream",
     "text": [
      "Neither CUDA nor MPS are available - defaulting to CPU. Note: This module is much faster with a GPU.\n"
     ]
    },
    {
     "name": "stdout",
     "output_type": "stream",
     "text": [
      "('Main Town or village', 'Post Oftice', 'Police Station', 'TehsilMandal', 'Rovenu Division', 'District', 'Pin code')\n"
     ]
    },
    {
     "name": "stderr",
     "output_type": "stream",
     "text": [
      "Neither CUDA nor MPS are available - defaulting to CPU. Note: This module is much faster with a GPU.\n"
     ]
    },
    {
     "name": "stdout",
     "output_type": "stream",
     "text": [
      "('Main Town or village', 'Post Oftice', 'Police Station', 'TehsilMandal', 'Rovenu Division', 'District', 'Pin code')\n"
     ]
    },
    {
     "name": "stderr",
     "output_type": "stream",
     "text": [
      "Neither CUDA nor MPS are available - defaulting to CPU. Note: This module is much faster with a GPU.\n"
     ]
    },
    {
     "name": "stdout",
     "output_type": "stream",
     "text": [
      "('Main Town or village', 'Post Oftice', 'Police Station', 'TehsilMandal', 'Rovenu Division', 'District', 'Pin code')\n"
     ]
    },
    {
     "name": "stderr",
     "output_type": "stream",
     "text": [
      "Neither CUDA nor MPS are available - defaulting to CPU. Note: This module is much faster with a GPU.\n"
     ]
    },
    {
     "name": "stdout",
     "output_type": "stream",
     "text": [
      "('Main Tcwn Or village', 'Post Oftice', 'Police Station', 'TehsilMandal', 'Rovenue Division', 'District', 'Pin coda')\n"
     ]
    },
    {
     "name": "stderr",
     "output_type": "stream",
     "text": [
      "Neither CUDA nor MPS are available - defaulting to CPU. Note: This module is much faster with a GPU.\n"
     ]
    },
    {
     "name": "stdout",
     "output_type": "stream",
     "text": [
      "('Main Tcwn Or village', 'Post Oftice', 'Police Station', 'TehsilMandal', 'Rovenue Division', 'District', 'Pin coda')\n"
     ]
    },
    {
     "name": "stderr",
     "output_type": "stream",
     "text": [
      "Neither CUDA nor MPS are available - defaulting to CPU. Note: This module is much faster with a GPU.\n"
     ]
    },
    {
     "name": "stdout",
     "output_type": "stream",
     "text": [
      "('Main Tcwn Or village', 'Post Oftice', 'Police Station', 'TehsilMandal', 'Rovenue Division', 'District', 'Pin coda')\n"
     ]
    },
    {
     "name": "stderr",
     "output_type": "stream",
     "text": [
      "Neither CUDA nor MPS are available - defaulting to CPU. Note: This module is much faster with a GPU.\n"
     ]
    },
    {
     "name": "stdout",
     "output_type": "stream",
     "text": [
      "('Main Tcwn Or village', 'Post Oftice', 'Police Station', 'TehsilMandal', 'Rovenue Division', 'District', 'Pin coda')\n"
     ]
    },
    {
     "name": "stderr",
     "output_type": "stream",
     "text": [
      "Neither CUDA nor MPS are available - defaulting to CPU. Note: This module is much faster with a GPU.\n"
     ]
    },
    {
     "name": "stdout",
     "output_type": "stream",
     "text": [
      "('Main Tcwn Or village', 'Post Oftice', 'Police Station', 'TehsilMandal', 'Rovenue Division', 'District', 'Pin coda')\n"
     ]
    },
    {
     "name": "stderr",
     "output_type": "stream",
     "text": [
      "Neither CUDA nor MPS are available - defaulting to CPU. Note: This module is much faster with a GPU.\n"
     ]
    },
    {
     "name": "stdout",
     "output_type": "stream",
     "text": [
      "('Main Tcwn Or village', 'Post Oftice', 'Police Station', 'TehsilMandal', 'Rovenue Division', 'District', 'Pin coda')\n"
     ]
    },
    {
     "name": "stderr",
     "output_type": "stream",
     "text": [
      "Neither CUDA nor MPS are available - defaulting to CPU. Note: This module is much faster with a GPU.\n"
     ]
    },
    {
     "name": "stdout",
     "output_type": "stream",
     "text": [
      "('Main Town or Village', 'Post Oftice', 'Police Station', 'TehsilMandal', 'Revenue Division', 'District', 'Pin code')\n"
     ]
    },
    {
     "name": "stderr",
     "output_type": "stream",
     "text": [
      "Neither CUDA nor MPS are available - defaulting to CPU. Note: This module is much faster with a GPU.\n"
     ]
    },
    {
     "name": "stdout",
     "output_type": "stream",
     "text": [
      "('Main Tcwn Or village', 'Post Oftice', 'Police Station', 'TehsilMandal', 'Rovenue Division', 'District', 'Pin coda')\n"
     ]
    },
    {
     "name": "stderr",
     "output_type": "stream",
     "text": [
      "Neither CUDA nor MPS are available - defaulting to CPU. Note: This module is much faster with a GPU.\n"
     ]
    },
    {
     "name": "stdout",
     "output_type": "stream",
     "text": [
      "('Main Tcwn Or village', 'Post Oftice', 'Police Station', 'TehsilMandal', 'Rovenue Division', 'District', 'Pin coda')\n"
     ]
    },
    {
     "name": "stderr",
     "output_type": "stream",
     "text": [
      "Neither CUDA nor MPS are available - defaulting to CPU. Note: This module is much faster with a GPU.\n"
     ]
    },
    {
     "name": "stdout",
     "output_type": "stream",
     "text": [
      "('Main Tcwn Or village', 'Post Oftice', 'Police Station', 'TehsilMandal', 'Rovenue Division', 'District', 'Pin coda')\n"
     ]
    },
    {
     "name": "stderr",
     "output_type": "stream",
     "text": [
      "Neither CUDA nor MPS are available - defaulting to CPU. Note: This module is much faster with a GPU.\n"
     ]
    },
    {
     "name": "stdout",
     "output_type": "stream",
     "text": [
      "('Main Tcwn Or village', 'Post Oftice', 'Police Station', 'TehsilMandal', 'Rovenue Division', 'District', 'Pin coda')\n"
     ]
    },
    {
     "name": "stderr",
     "output_type": "stream",
     "text": [
      "Neither CUDA nor MPS are available - defaulting to CPU. Note: This module is much faster with a GPU.\n"
     ]
    },
    {
     "name": "stdout",
     "output_type": "stream",
     "text": [
      "('Main Town Or Village', 'Post Office', 'Police Station', 'TehsiMandal', 'Revenuc Division', 'District', 'Pin code')\n"
     ]
    },
    {
     "name": "stderr",
     "output_type": "stream",
     "text": [
      "Neither CUDA nor MPS are available - defaulting to CPU. Note: This module is much faster with a GPU.\n"
     ]
    },
    {
     "name": "stdout",
     "output_type": "stream",
     "text": [
      "('Main Tcwn Or village', 'Post Oftice', 'Police Station', 'TehsilMandal', 'Rovenue Division', 'District', 'Pin coda')\n"
     ]
    },
    {
     "name": "stderr",
     "output_type": "stream",
     "text": [
      "Neither CUDA nor MPS are available - defaulting to CPU. Note: This module is much faster with a GPU.\n"
     ]
    },
    {
     "name": "stdout",
     "output_type": "stream",
     "text": [
      "('Main Tcwn Or village', 'Post Oftice', 'Police Station', 'TehsilMandal', 'Rovenue Division', 'District', 'Pin coda')\n"
     ]
    },
    {
     "name": "stderr",
     "output_type": "stream",
     "text": [
      "Neither CUDA nor MPS are available - defaulting to CPU. Note: This module is much faster with a GPU.\n"
     ]
    },
    {
     "name": "stdout",
     "output_type": "stream",
     "text": [
      "('Main Tcwn Or village', 'Post Oftice', 'Police Station', 'TehsilMandal', 'Rovenue Division', 'District', 'Pin coda')\n"
     ]
    },
    {
     "name": "stderr",
     "output_type": "stream",
     "text": [
      "Neither CUDA nor MPS are available - defaulting to CPU. Note: This module is much faster with a GPU.\n"
     ]
    },
    {
     "name": "stdout",
     "output_type": "stream",
     "text": [
      "('Main Tcwn Or village', 'Post Oftice', 'Police Station', 'TehsilMandal', 'Rovenue Division', 'District', 'Pin coda')\n"
     ]
    },
    {
     "name": "stderr",
     "output_type": "stream",
     "text": [
      "Neither CUDA nor MPS are available - defaulting to CPU. Note: This module is much faster with a GPU.\n"
     ]
    },
    {
     "name": "stdout",
     "output_type": "stream",
     "text": [
      "('Main Tcwn Or village', 'Post Oftice', 'Police Station', 'TehsilMandal', 'Rovenue Division', 'District', 'Pin coda')\n"
     ]
    },
    {
     "name": "stderr",
     "output_type": "stream",
     "text": [
      "Neither CUDA nor MPS are available - defaulting to CPU. Note: This module is much faster with a GPU.\n"
     ]
    },
    {
     "name": "stdout",
     "output_type": "stream",
     "text": [
      "('Main Town or Village', 'Post Oftice', 'Police Station', 'TehsilMandal', 'Revenue Division', 'District', 'Pin code')\n"
     ]
    },
    {
     "name": "stderr",
     "output_type": "stream",
     "text": [
      "Neither CUDA nor MPS are available - defaulting to CPU. Note: This module is much faster with a GPU.\n"
     ]
    },
    {
     "name": "stdout",
     "output_type": "stream",
     "text": [
      "('Main Tcwn Or village', 'Post Oftice', 'Police Station', 'TehsilMandal', 'Rovenue Division', 'District', 'Pin coda')\n"
     ]
    },
    {
     "name": "stderr",
     "output_type": "stream",
     "text": [
      "Neither CUDA nor MPS are available - defaulting to CPU. Note: This module is much faster with a GPU.\n"
     ]
    },
    {
     "name": "stdout",
     "output_type": "stream",
     "text": [
      "('Main Tcwn Or village', 'Post Oftice', 'Police Station', 'TehsilMandal', 'Rovenue Division', 'District', 'Pin coda')\n"
     ]
    },
    {
     "name": "stderr",
     "output_type": "stream",
     "text": [
      "Neither CUDA nor MPS are available - defaulting to CPU. Note: This module is much faster with a GPU.\n"
     ]
    },
    {
     "name": "stdout",
     "output_type": "stream",
     "text": [
      "('Main Tcwn Or village', 'Post Oftice', 'Police Station', 'TehsilMandal', 'Rovenue Division', 'District', 'Pin coda')\n"
     ]
    },
    {
     "name": "stderr",
     "output_type": "stream",
     "text": [
      "Neither CUDA nor MPS are available - defaulting to CPU. Note: This module is much faster with a GPU.\n"
     ]
    },
    {
     "name": "stdout",
     "output_type": "stream",
     "text": [
      "('Main Tcwn Or village', 'Post Oftice', 'Police Station', 'TehsilMandal', 'Rovenue Division', 'District', 'Pin coda')\n"
     ]
    },
    {
     "name": "stderr",
     "output_type": "stream",
     "text": [
      "Neither CUDA nor MPS are available - defaulting to CPU. Note: This module is much faster with a GPU.\n"
     ]
    },
    {
     "name": "stdout",
     "output_type": "stream",
     "text": [
      "('Main Tcwn Or village', 'Post Oftice', 'Police Station', 'TehsilMandal', 'Rovenue Division', 'District', 'Pin coda')\n"
     ]
    },
    {
     "name": "stderr",
     "output_type": "stream",
     "text": [
      "Neither CUDA nor MPS are available - defaulting to CPU. Note: This module is much faster with a GPU.\n"
     ]
    },
    {
     "name": "stdout",
     "output_type": "stream",
     "text": [
      "('Main Tcwn Or village', 'Post Oftice', 'Police Station', 'TehsilMandal', 'Rovenue Division', 'District', 'Pin coda')\n"
     ]
    },
    {
     "name": "stderr",
     "output_type": "stream",
     "text": [
      "Neither CUDA nor MPS are available - defaulting to CPU. Note: This module is much faster with a GPU.\n"
     ]
    },
    {
     "name": "stdout",
     "output_type": "stream",
     "text": [
      "('Main Tcwn Or village', 'Post Oftice', 'Police Station', 'TehsilMandal', 'Rovenue Division', 'District', 'Pin coda')\n"
     ]
    },
    {
     "name": "stderr",
     "output_type": "stream",
     "text": [
      "Neither CUDA nor MPS are available - defaulting to CPU. Note: This module is much faster with a GPU.\n"
     ]
    },
    {
     "name": "stdout",
     "output_type": "stream",
     "text": [
      "('Main Tcwn Or village', 'Post Oftice', 'Police Station', 'TehsilMandal', 'Rovenue Division', 'District', 'Pin coda')\n"
     ]
    },
    {
     "name": "stderr",
     "output_type": "stream",
     "text": [
      "Neither CUDA nor MPS are available - defaulting to CPU. Note: This module is much faster with a GPU.\n"
     ]
    },
    {
     "name": "stdout",
     "output_type": "stream",
     "text": [
      "('Main Tcwn Or village', 'Post Oftice', 'Police Station', 'TehsilMandal', 'Rovenue Division', 'District', 'Pin coda')\n"
     ]
    },
    {
     "name": "stderr",
     "output_type": "stream",
     "text": [
      "Neither CUDA nor MPS are available - defaulting to CPU. Note: This module is much faster with a GPU.\n"
     ]
    },
    {
     "name": "stdout",
     "output_type": "stream",
     "text": [
      "('Main Tcwn Or village', 'Post Oftice', 'Police Station', 'TehsilMandal', 'Rovenue Division', 'District', 'Pin coda')\n"
     ]
    },
    {
     "name": "stderr",
     "output_type": "stream",
     "text": [
      "Neither CUDA nor MPS are available - defaulting to CPU. Note: This module is much faster with a GPU.\n"
     ]
    },
    {
     "name": "stdout",
     "output_type": "stream",
     "text": [
      "('Main Town or Village', 'Post Oftice', 'Police Station', 'TehsilMandal', 'Revenue Division', 'District', 'Pin code')\n"
     ]
    },
    {
     "name": "stderr",
     "output_type": "stream",
     "text": [
      "Neither CUDA nor MPS are available - defaulting to CPU. Note: This module is much faster with a GPU.\n"
     ]
    },
    {
     "name": "stdout",
     "output_type": "stream",
     "text": [
      "('Main Tcwn Or village', 'Post Oftice', 'Police Station', 'TehsilMandal', 'Rovenue Division', 'District', 'Pin coda')\n"
     ]
    },
    {
     "name": "stderr",
     "output_type": "stream",
     "text": [
      "Neither CUDA nor MPS are available - defaulting to CPU. Note: This module is much faster with a GPU.\n"
     ]
    },
    {
     "name": "stdout",
     "output_type": "stream",
     "text": [
      "('Main Tcwn Or village', 'Post Oftice', 'Police Station', 'TehsilMandal', 'Rovenue Division', 'District', 'Pin coda')\n"
     ]
    },
    {
     "name": "stderr",
     "output_type": "stream",
     "text": [
      "Neither CUDA nor MPS are available - defaulting to CPU. Note: This module is much faster with a GPU.\n"
     ]
    },
    {
     "name": "stdout",
     "output_type": "stream",
     "text": [
      "('Main Tcwn Or village', 'Post Oftice', 'Police Station', 'TehsilMandal', 'Rovenue Division', 'District', 'Pin coda')\n"
     ]
    },
    {
     "name": "stderr",
     "output_type": "stream",
     "text": [
      "Neither CUDA nor MPS are available - defaulting to CPU. Note: This module is much faster with a GPU.\n"
     ]
    },
    {
     "name": "stdout",
     "output_type": "stream",
     "text": [
      "('Main Tcwn Or village', 'Post Oftice', 'Police Station', 'TehsilMandal', 'Rovenue Division', 'District', 'Pin coda')\n"
     ]
    },
    {
     "name": "stderr",
     "output_type": "stream",
     "text": [
      "Neither CUDA nor MPS are available - defaulting to CPU. Note: This module is much faster with a GPU.\n"
     ]
    },
    {
     "name": "stdout",
     "output_type": "stream",
     "text": [
      "('Main Tcwn Or village', 'Post Oftice', 'Police Station', 'TehsilMandal', 'Rovenue Division', 'District', 'Pin coda')\n"
     ]
    },
    {
     "name": "stderr",
     "output_type": "stream",
     "text": [
      "Neither CUDA nor MPS are available - defaulting to CPU. Note: This module is much faster with a GPU.\n"
     ]
    },
    {
     "name": "stdout",
     "output_type": "stream",
     "text": [
      "('Main Tcwn Or village', 'Post Oftice', 'Police Station', 'TehsilMandal', 'Rovenue Division', 'District', 'Pin coda')\n"
     ]
    },
    {
     "name": "stderr",
     "output_type": "stream",
     "text": [
      "Neither CUDA nor MPS are available - defaulting to CPU. Note: This module is much faster with a GPU.\n"
     ]
    },
    {
     "name": "stdout",
     "output_type": "stream",
     "text": [
      "('Main Tcwn Or village', 'Post Oftice', 'Police Station', 'TehsilMandal', 'Rovenue Division', 'District', 'Pin coda')\n"
     ]
    },
    {
     "name": "stderr",
     "output_type": "stream",
     "text": [
      "Neither CUDA nor MPS are available - defaulting to CPU. Note: This module is much faster with a GPU.\n"
     ]
    },
    {
     "name": "stdout",
     "output_type": "stream",
     "text": [
      "('Main Tcwn Or village', 'Post Oftice', 'Police Station', 'TehsilMandal', 'Rovenue Division', 'District', 'Pin coda')\n"
     ]
    },
    {
     "name": "stderr",
     "output_type": "stream",
     "text": [
      "Neither CUDA nor MPS are available - defaulting to CPU. Note: This module is much faster with a GPU.\n"
     ]
    },
    {
     "name": "stdout",
     "output_type": "stream",
     "text": [
      "('Main Tcwn Or village', 'Post Oftice', 'Police Station', 'TehsilMandal', 'Rovenue Division', 'District', 'Pin coda')\n"
     ]
    },
    {
     "name": "stderr",
     "output_type": "stream",
     "text": [
      "Neither CUDA nor MPS are available - defaulting to CPU. Note: This module is much faster with a GPU.\n"
     ]
    },
    {
     "name": "stdout",
     "output_type": "stream",
     "text": [
      "('Main Tcwn Or village', 'Post Oftice', 'Police Station', 'TehsilMandal', 'Rovenue Division', 'District', 'Pin coda')\n"
     ]
    },
    {
     "name": "stderr",
     "output_type": "stream",
     "text": [
      "Neither CUDA nor MPS are available - defaulting to CPU. Note: This module is much faster with a GPU.\n"
     ]
    },
    {
     "name": "stdout",
     "output_type": "stream",
     "text": [
      "('Main Town or Village', 'Post Oftice', 'Police Station', 'TehsilMandal', 'Revenue Division', 'District', 'Pin code')\n"
     ]
    },
    {
     "name": "stderr",
     "output_type": "stream",
     "text": [
      "Neither CUDA nor MPS are available - defaulting to CPU. Note: This module is much faster with a GPU.\n"
     ]
    },
    {
     "name": "stdout",
     "output_type": "stream",
     "text": [
      "('Main Tcwn Or village', 'Post Oftice', 'Police Station', 'TehsilMandal', 'Rovenue Division', 'District', 'Pin coda')\n"
     ]
    },
    {
     "name": "stderr",
     "output_type": "stream",
     "text": [
      "Neither CUDA nor MPS are available - defaulting to CPU. Note: This module is much faster with a GPU.\n"
     ]
    },
    {
     "name": "stdout",
     "output_type": "stream",
     "text": [
      "('Main Tcwn Or village', 'Post Oftice', 'Police Station', 'TehsilMandal', 'Rovenue Division', 'District', 'Pin coda')\n"
     ]
    },
    {
     "name": "stderr",
     "output_type": "stream",
     "text": [
      "Neither CUDA nor MPS are available - defaulting to CPU. Note: This module is much faster with a GPU.\n"
     ]
    },
    {
     "name": "stdout",
     "output_type": "stream",
     "text": [
      "('Main Tcwn Or village', 'Post Oftice', 'Police Station', 'TehsilMandal', 'Rovenue Division', 'District', 'Pin coda')\n"
     ]
    },
    {
     "name": "stderr",
     "output_type": "stream",
     "text": [
      "Neither CUDA nor MPS are available - defaulting to CPU. Note: This module is much faster with a GPU.\n"
     ]
    },
    {
     "name": "stdout",
     "output_type": "stream",
     "text": [
      "('Main Tcwn Or village', 'Post Oftice', 'Police Station', 'TehsilMandal', 'Rovenue Division', 'District', 'Pin coda')\n"
     ]
    },
    {
     "name": "stderr",
     "output_type": "stream",
     "text": [
      "Neither CUDA nor MPS are available - defaulting to CPU. Note: This module is much faster with a GPU.\n"
     ]
    },
    {
     "name": "stdout",
     "output_type": "stream",
     "text": [
      "('Main Tcwn Or village', 'Post Oftice', 'Police Station', 'TehsilMandal', 'Rovenue Division', 'District', 'Pin coda')\n"
     ]
    },
    {
     "name": "stderr",
     "output_type": "stream",
     "text": [
      "Neither CUDA nor MPS are available - defaulting to CPU. Note: This module is much faster with a GPU.\n"
     ]
    },
    {
     "name": "stdout",
     "output_type": "stream",
     "text": [
      "('Main Town cr Village', 'Post Offtice', 'Police Station', 'TehsilMandal', 'Revenue Division', 'District', 'Pin code')\n"
     ]
    },
    {
     "name": "stderr",
     "output_type": "stream",
     "text": [
      "Neither CUDA nor MPS are available - defaulting to CPU. Note: This module is much faster with a GPU.\n"
     ]
    },
    {
     "name": "stdout",
     "output_type": "stream",
     "text": [
      "('Main Tcwn Or village', 'Post Oftice', 'Police Station', 'TehsilMandal', 'Rovenue Division', 'District', 'Pin coda')\n"
     ]
    },
    {
     "name": "stderr",
     "output_type": "stream",
     "text": [
      "Neither CUDA nor MPS are available - defaulting to CPU. Note: This module is much faster with a GPU.\n"
     ]
    },
    {
     "name": "stdout",
     "output_type": "stream",
     "text": [
      "('Main Tcwn Or village', 'Post Oftice', 'Police Station', 'TehsilMandal', 'Rovenue Division', 'District', 'Pin coda')\n"
     ]
    },
    {
     "name": "stderr",
     "output_type": "stream",
     "text": [
      "Neither CUDA nor MPS are available - defaulting to CPU. Note: This module is much faster with a GPU.\n"
     ]
    },
    {
     "name": "stdout",
     "output_type": "stream",
     "text": [
      "('Main Tcwn Or village', 'Post Oftice', 'Police Station', 'TehsilMandal', 'Rovenue Division', 'District', 'Pin coda')\n"
     ]
    },
    {
     "name": "stderr",
     "output_type": "stream",
     "text": [
      "Neither CUDA nor MPS are available - defaulting to CPU. Note: This module is much faster with a GPU.\n"
     ]
    },
    {
     "name": "stdout",
     "output_type": "stream",
     "text": [
      "('Main Tcwn Or village', 'Post Oftice', 'Police Station', 'TehsilMandal', 'Rovenue Division', 'District', 'Pin coda')\n"
     ]
    },
    {
     "name": "stderr",
     "output_type": "stream",
     "text": [
      "Neither CUDA nor MPS are available - defaulting to CPU. Note: This module is much faster with a GPU.\n"
     ]
    },
    {
     "name": "stdout",
     "output_type": "stream",
     "text": [
      "('Main Town or Village', 'Post Oftice', 'Police Station', 'TehsilMandal', 'Revenue Division', 'District', 'Pin code')\n"
     ]
    },
    {
     "name": "stderr",
     "output_type": "stream",
     "text": [
      "Neither CUDA nor MPS are available - defaulting to CPU. Note: This module is much faster with a GPU.\n"
     ]
    },
    {
     "name": "stdout",
     "output_type": "stream",
     "text": [
      "('Main Town or Village', 'Post Oftice', 'Police Station', 'TehsilMandal', 'Revenue Division', 'District', 'Pin code')\n"
     ]
    },
    {
     "name": "stderr",
     "output_type": "stream",
     "text": [
      "Neither CUDA nor MPS are available - defaulting to CPU. Note: This module is much faster with a GPU.\n"
     ]
    },
    {
     "name": "stdout",
     "output_type": "stream",
     "text": [
      "('Main Tcwn Or village', 'Post Oftice', 'Police Station', 'TehsilMandal', 'Rovenue Division', 'District', 'Pin coda')\n"
     ]
    },
    {
     "name": "stderr",
     "output_type": "stream",
     "text": [
      "Neither CUDA nor MPS are available - defaulting to CPU. Note: This module is much faster with a GPU.\n"
     ]
    },
    {
     "name": "stdout",
     "output_type": "stream",
     "text": [
      "('Main Tcwn Or village', 'Post Oftice', 'Police Station', 'TehsilMandal', 'Rovenue Division', 'District', 'Pin coda')\n"
     ]
    },
    {
     "name": "stderr",
     "output_type": "stream",
     "text": [
      "Neither CUDA nor MPS are available - defaulting to CPU. Note: This module is much faster with a GPU.\n"
     ]
    },
    {
     "name": "stdout",
     "output_type": "stream",
     "text": [
      "('Main Tcwn Or village', 'Post Oftice', 'Police Station', 'TehsilMandal', 'Rovenue Division', 'District', 'Pin coda')\n"
     ]
    },
    {
     "name": "stderr",
     "output_type": "stream",
     "text": [
      "Neither CUDA nor MPS are available - defaulting to CPU. Note: This module is much faster with a GPU.\n"
     ]
    },
    {
     "name": "stdout",
     "output_type": "stream",
     "text": [
      "('Main Town or village', 'Post Office', 'Police Station', 'TehsilMandal', 'Rovenue Division', 'District', 'Pin code')\n"
     ]
    },
    {
     "name": "stderr",
     "output_type": "stream",
     "text": [
      "Neither CUDA nor MPS are available - defaulting to CPU. Note: This module is much faster with a GPU.\n"
     ]
    },
    {
     "name": "stdout",
     "output_type": "stream",
     "text": [
      "('Main Town or village', 'Post Office', 'Police Station', 'TehsilMandal', 'Rovenue Division', 'District', 'Pin code')\n"
     ]
    },
    {
     "name": "stderr",
     "output_type": "stream",
     "text": [
      "Neither CUDA nor MPS are available - defaulting to CPU. Note: This module is much faster with a GPU.\n"
     ]
    },
    {
     "name": "stdout",
     "output_type": "stream",
     "text": [
      "('Main Town or village', 'Post Oftice', 'Police Station', 'TehsilMandal', 'Rovenu Division', 'District', 'Pin code')\n"
     ]
    },
    {
     "name": "stderr",
     "output_type": "stream",
     "text": [
      "Neither CUDA nor MPS are available - defaulting to CPU. Note: This module is much faster with a GPU.\n"
     ]
    },
    {
     "name": "stdout",
     "output_type": "stream",
     "text": [
      "('Main Town or village', 'Post Office', 'Police Station', 'TehsilMandal', 'Rovenue Division', 'District', 'Pin code')\n"
     ]
    },
    {
     "name": "stderr",
     "output_type": "stream",
     "text": [
      "Neither CUDA nor MPS are available - defaulting to CPU. Note: This module is much faster with a GPU.\n"
     ]
    },
    {
     "name": "stdout",
     "output_type": "stream",
     "text": [
      "('Main Town or village', 'Post Oftice', 'Police Station', 'TehsilMandal', 'Rovenu Division', 'District', 'Pin code')\n"
     ]
    },
    {
     "name": "stderr",
     "output_type": "stream",
     "text": [
      "Neither CUDA nor MPS are available - defaulting to CPU. Note: This module is much faster with a GPU.\n"
     ]
    },
    {
     "name": "stdout",
     "output_type": "stream",
     "text": [
      "('Main Town or village', 'Post Oftice', 'Police Station', 'TehsilMandal', 'Rovenu Division', 'District', 'Pin code')\n"
     ]
    },
    {
     "name": "stderr",
     "output_type": "stream",
     "text": [
      "Neither CUDA nor MPS are available - defaulting to CPU. Note: This module is much faster with a GPU.\n"
     ]
    },
    {
     "name": "stdout",
     "output_type": "stream",
     "text": [
      "('Main Town or village', 'Post Oftice', 'Police Station', 'TehsilMandal', 'Rovenu Division', 'District', 'Pin code')\n"
     ]
    },
    {
     "name": "stderr",
     "output_type": "stream",
     "text": [
      "Neither CUDA nor MPS are available - defaulting to CPU. Note: This module is much faster with a GPU.\n"
     ]
    },
    {
     "name": "stdout",
     "output_type": "stream",
     "text": [
      "('Main Town or Village', 'Post Oftice', 'Police Station', 'TehsilMandal', 'Revenue Division', 'District', 'Pin code')\n"
     ]
    },
    {
     "name": "stderr",
     "output_type": "stream",
     "text": [
      "Neither CUDA nor MPS are available - defaulting to CPU. Note: This module is much faster with a GPU.\n"
     ]
    },
    {
     "name": "stdout",
     "output_type": "stream",
     "text": [
      "('Main Town or village', 'Post Oftice', 'Police Station', 'TehsilMandal', 'Rovenu Division', 'District', 'Pin code')\n"
     ]
    },
    {
     "name": "stderr",
     "output_type": "stream",
     "text": [
      "Neither CUDA nor MPS are available - defaulting to CPU. Note: This module is much faster with a GPU.\n"
     ]
    },
    {
     "name": "stdout",
     "output_type": "stream",
     "text": [
      "('Main Town or village', 'Post Oftice', 'Police Station', 'TehsilMandal', 'Rovenu Division', 'District', 'Pin code')\n"
     ]
    },
    {
     "name": "stderr",
     "output_type": "stream",
     "text": [
      "Neither CUDA nor MPS are available - defaulting to CPU. Note: This module is much faster with a GPU.\n"
     ]
    },
    {
     "name": "stdout",
     "output_type": "stream",
     "text": [
      "('Main Town or village', 'Post Office', 'Police Station', 'TehsilMandal', 'Rovenue Division', 'District', 'Pin code')\n"
     ]
    },
    {
     "name": "stderr",
     "output_type": "stream",
     "text": [
      "Neither CUDA nor MPS are available - defaulting to CPU. Note: This module is much faster with a GPU.\n"
     ]
    },
    {
     "name": "stdout",
     "output_type": "stream",
     "text": [
      "('Main Town or village', 'Post Oftice', 'Police Station', 'TehsilMandal', 'Rovenu Division', 'District', 'Pin code')\n"
     ]
    },
    {
     "name": "stderr",
     "output_type": "stream",
     "text": [
      "Neither CUDA nor MPS are available - defaulting to CPU. Note: This module is much faster with a GPU.\n"
     ]
    },
    {
     "name": "stdout",
     "output_type": "stream",
     "text": [
      "('Main Town or village', 'Post Oftice', 'Police Station', 'TehsilMandal', 'Rovenu Division', 'District', 'Pin code')\n"
     ]
    },
    {
     "name": "stderr",
     "output_type": "stream",
     "text": [
      "Neither CUDA nor MPS are available - defaulting to CPU. Note: This module is much faster with a GPU.\n"
     ]
    },
    {
     "name": "stdout",
     "output_type": "stream",
     "text": [
      "('Main Town or village', 'Post Oftice', 'Police Station', 'TehsilMandal', 'Rovenu Division', 'District', 'Pin code')\n"
     ]
    },
    {
     "name": "stderr",
     "output_type": "stream",
     "text": [
      "Neither CUDA nor MPS are available - defaulting to CPU. Note: This module is much faster with a GPU.\n"
     ]
    },
    {
     "name": "stdout",
     "output_type": "stream",
     "text": [
      "('Main Town or village', 'Post Oftice', 'Police Station', 'TehsilMandal', 'Rovenu Division', 'District', 'Pin code')\n"
     ]
    },
    {
     "name": "stderr",
     "output_type": "stream",
     "text": [
      "Neither CUDA nor MPS are available - defaulting to CPU. Note: This module is much faster with a GPU.\n"
     ]
    },
    {
     "name": "stdout",
     "output_type": "stream",
     "text": [
      "('Main Town or village', 'Post Oftice', 'Police Station', 'TehsilMandal', 'Rovenu Division', 'District', 'Pin code')\n"
     ]
    },
    {
     "name": "stderr",
     "output_type": "stream",
     "text": [
      "Neither CUDA nor MPS are available - defaulting to CPU. Note: This module is much faster with a GPU.\n"
     ]
    },
    {
     "name": "stdout",
     "output_type": "stream",
     "text": [
      "('Main Town or village', 'Post Oftice', 'Police Station', 'TehsilMandal', 'Rovenu Division', 'District', 'Pin code')\n"
     ]
    },
    {
     "name": "stderr",
     "output_type": "stream",
     "text": [
      "Neither CUDA nor MPS are available - defaulting to CPU. Note: This module is much faster with a GPU.\n"
     ]
    },
    {
     "name": "stdout",
     "output_type": "stream",
     "text": [
      "('Main Town or village', 'Post Oftice', 'Police Station', 'TehsilMandal', 'Rovenu Division', 'District', 'Pin code')\n"
     ]
    },
    {
     "name": "stderr",
     "output_type": "stream",
     "text": [
      "Neither CUDA nor MPS are available - defaulting to CPU. Note: This module is much faster with a GPU.\n"
     ]
    },
    {
     "name": "stdout",
     "output_type": "stream",
     "text": [
      "('Main Town or Village', 'Post Oftice', 'Police Station', 'TehsilMandal', 'Revenue Division', 'District', 'Pin code')\n"
     ]
    },
    {
     "name": "stderr",
     "output_type": "stream",
     "text": [
      "Neither CUDA nor MPS are available - defaulting to CPU. Note: This module is much faster with a GPU.\n"
     ]
    },
    {
     "name": "stdout",
     "output_type": "stream",
     "text": [
      "('Main Town or village', 'Post Oftice', 'Police Station', 'TehsilMandal', 'Rovenu Division', 'District', 'Pin code')\n"
     ]
    },
    {
     "name": "stderr",
     "output_type": "stream",
     "text": [
      "Neither CUDA nor MPS are available - defaulting to CPU. Note: This module is much faster with a GPU.\n"
     ]
    },
    {
     "name": "stdout",
     "output_type": "stream",
     "text": [
      "('Main Town Or Village', 'Post Office', 'Police Station', 'TehsilMandal', 'Revenuc Division', 'District', 'Lu Pin code')\n"
     ]
    },
    {
     "name": "stderr",
     "output_type": "stream",
     "text": [
      "Neither CUDA nor MPS are available - defaulting to CPU. Note: This module is much faster with a GPU.\n"
     ]
    },
    {
     "name": "stdout",
     "output_type": "stream",
     "text": [
      "('Main Town or village', 'Post Oftice', 'Police Station', 'TehsilMandal', 'Rovenu Division', 'District', 'Pin code')\n"
     ]
    },
    {
     "name": "stderr",
     "output_type": "stream",
     "text": [
      "Neither CUDA nor MPS are available - defaulting to CPU. Note: This module is much faster with a GPU.\n"
     ]
    },
    {
     "name": "stdout",
     "output_type": "stream",
     "text": [
      "('Main Town or village', 'Post Oftice', 'Police Station', 'TehsilMandal', 'Rovenu Division', 'District', 'Pin code')\n"
     ]
    },
    {
     "name": "stderr",
     "output_type": "stream",
     "text": [
      "Neither CUDA nor MPS are available - defaulting to CPU. Note: This module is much faster with a GPU.\n"
     ]
    },
    {
     "name": "stdout",
     "output_type": "stream",
     "text": [
      "('Main Town or village', 'Post Oftice', 'Police Station', 'TehsilMandal', 'Rovenu Division', 'District', 'Pin code')\n"
     ]
    },
    {
     "name": "stderr",
     "output_type": "stream",
     "text": [
      "Neither CUDA nor MPS are available - defaulting to CPU. Note: This module is much faster with a GPU.\n"
     ]
    },
    {
     "name": "stdout",
     "output_type": "stream",
     "text": [
      "('Main Town or village', 'Post Oftice', 'Police Station', 'TehsilMandal', 'Rovenu Division', 'District', 'Pin code')\n"
     ]
    },
    {
     "name": "stderr",
     "output_type": "stream",
     "text": [
      "Neither CUDA nor MPS are available - defaulting to CPU. Note: This module is much faster with a GPU.\n"
     ]
    },
    {
     "name": "stdout",
     "output_type": "stream",
     "text": [
      "('Main Town or village', 'Post Oftice', 'Police Station', 'TehsilMandal', 'Rovenu Division', 'District', 'Pin code')\n"
     ]
    },
    {
     "name": "stderr",
     "output_type": "stream",
     "text": [
      "Neither CUDA nor MPS are available - defaulting to CPU. Note: This module is much faster with a GPU.\n"
     ]
    },
    {
     "name": "stdout",
     "output_type": "stream",
     "text": [
      "('Main Town or village', 'Post Oftice', 'Police Station', 'TehsilMandal', 'Rovenu Division', 'District', 'Pin code')\n"
     ]
    },
    {
     "name": "stderr",
     "output_type": "stream",
     "text": [
      "Neither CUDA nor MPS are available - defaulting to CPU. Note: This module is much faster with a GPU.\n"
     ]
    },
    {
     "name": "stdout",
     "output_type": "stream",
     "text": [
      "('Main Town or village', 'Post Oftice', 'Police Station', 'TehsilMandal', 'Rovenu Division', 'District', 'Pin code')\n"
     ]
    },
    {
     "name": "stderr",
     "output_type": "stream",
     "text": [
      "Neither CUDA nor MPS are available - defaulting to CPU. Note: This module is much faster with a GPU.\n"
     ]
    },
    {
     "name": "stdout",
     "output_type": "stream",
     "text": [
      "('Main Town or village', 'Post Oftice', 'Police Station', 'TehsilMandal', 'Rovenu Division', 'District', 'Pin code')\n"
     ]
    },
    {
     "name": "stderr",
     "output_type": "stream",
     "text": [
      "Neither CUDA nor MPS are available - defaulting to CPU. Note: This module is much faster with a GPU.\n"
     ]
    },
    {
     "name": "stdout",
     "output_type": "stream",
     "text": [
      "('Main Town or village', 'Post Office', 'Police Station', 'TehsilMandal', 'Rovenu Division', 'District', 'Pin code')\n"
     ]
    },
    {
     "name": "stderr",
     "output_type": "stream",
     "text": [
      "Neither CUDA nor MPS are available - defaulting to CPU. Note: This module is much faster with a GPU.\n"
     ]
    },
    {
     "name": "stdout",
     "output_type": "stream",
     "text": [
      "('Main Town or village', 'Post Oftice', 'Police Station', 'TehsilMandal', 'Rovenu Division', 'District', 'Pin code')\n"
     ]
    },
    {
     "name": "stderr",
     "output_type": "stream",
     "text": [
      "Neither CUDA nor MPS are available - defaulting to CPU. Note: This module is much faster with a GPU.\n"
     ]
    },
    {
     "name": "stdout",
     "output_type": "stream",
     "text": [
      "('Main Town or village', 'Post Oftice', 'Police Station', 'TehsilMandal', 'Rovenu Division', 'District', 'Pin code')\n"
     ]
    },
    {
     "name": "stderr",
     "output_type": "stream",
     "text": [
      "Neither CUDA nor MPS are available - defaulting to CPU. Note: This module is much faster with a GPU.\n"
     ]
    },
    {
     "name": "stdout",
     "output_type": "stream",
     "text": [
      "('Main Town or village', 'Post Oftice', 'Police Station', 'TehsilMandal', 'Rovenu Division', 'District', 'Pin code')\n"
     ]
    },
    {
     "name": "stderr",
     "output_type": "stream",
     "text": [
      "Neither CUDA nor MPS are available - defaulting to CPU. Note: This module is much faster with a GPU.\n"
     ]
    },
    {
     "name": "stdout",
     "output_type": "stream",
     "text": [
      "('Main Town Or Village', 'Post Office', 'Police Station', 'TehsiMandal', 'Revenuc Division', 'District', 'Pin code')\n"
     ]
    },
    {
     "name": "stderr",
     "output_type": "stream",
     "text": [
      "Neither CUDA nor MPS are available - defaulting to CPU. Note: This module is much faster with a GPU.\n"
     ]
    },
    {
     "name": "stdout",
     "output_type": "stream",
     "text": [
      "('Main Town Or Village', 'Post Office', 'Police Station', 'TehsiMandal', 'Revenuc Division', 'District', 'Pin code')\n"
     ]
    },
    {
     "name": "stderr",
     "output_type": "stream",
     "text": [
      "Neither CUDA nor MPS are available - defaulting to CPU. Note: This module is much faster with a GPU.\n"
     ]
    },
    {
     "name": "stdout",
     "output_type": "stream",
     "text": [
      "('Main Town or village', 'Post Oftice', 'Police Station', 'TehsilMandal', 'Rovenu Division', 'District', 'Pin code')\n"
     ]
    },
    {
     "name": "stderr",
     "output_type": "stream",
     "text": [
      "Neither CUDA nor MPS are available - defaulting to CPU. Note: This module is much faster with a GPU.\n"
     ]
    },
    {
     "name": "stdout",
     "output_type": "stream",
     "text": [
      "('Main Town or village', 'Post Office', 'Police Station', 'TehsiMandal', 'Rovenue Division', 'District', 'Pin coda')\n"
     ]
    },
    {
     "name": "stderr",
     "output_type": "stream",
     "text": [
      "Neither CUDA nor MPS are available - defaulting to CPU. Note: This module is much faster with a GPU.\n"
     ]
    },
    {
     "name": "stdout",
     "output_type": "stream",
     "text": [
      "('Main Town or village', 'Post Office', 'Police Station', 'TehsiMandal', 'Rovenue Division', 'District', 'Pin coda')\n"
     ]
    },
    {
     "name": "stderr",
     "output_type": "stream",
     "text": [
      "Neither CUDA nor MPS are available - defaulting to CPU. Note: This module is much faster with a GPU.\n"
     ]
    },
    {
     "name": "stdout",
     "output_type": "stream",
     "text": [
      "('Main Town or village', 'Post Oftice', 'Police Station', 'TehsilMandal', 'Rovenu Division', 'District', 'Pin code')\n"
     ]
    },
    {
     "name": "stderr",
     "output_type": "stream",
     "text": [
      "Neither CUDA nor MPS are available - defaulting to CPU. Note: This module is much faster with a GPU.\n"
     ]
    },
    {
     "name": "stdout",
     "output_type": "stream",
     "text": [
      "('Main Town or village', 'Post Oftice', 'Police Station', 'TehsilMandal', 'Rovenu Division', 'District', 'Pin code')\n"
     ]
    },
    {
     "name": "stderr",
     "output_type": "stream",
     "text": [
      "Neither CUDA nor MPS are available - defaulting to CPU. Note: This module is much faster with a GPU.\n"
     ]
    },
    {
     "name": "stdout",
     "output_type": "stream",
     "text": [
      "('Main Town or Village', 'Post Oftice', 'Police Station', 'TehsilMandal', 'Revenue Division', 'District', 'Pin code')\n"
     ]
    },
    {
     "name": "stderr",
     "output_type": "stream",
     "text": [
      "Neither CUDA nor MPS are available - defaulting to CPU. Note: This module is much faster with a GPU.\n"
     ]
    },
    {
     "name": "stdout",
     "output_type": "stream",
     "text": [
      "('Main Town or village', 'Post Oftice', 'Police Station', 'TehsilMandal', 'Rovenu Division', 'District', 'Pin code')\n"
     ]
    },
    {
     "name": "stderr",
     "output_type": "stream",
     "text": [
      "Neither CUDA nor MPS are available - defaulting to CPU. Note: This module is much faster with a GPU.\n"
     ]
    },
    {
     "name": "stdout",
     "output_type": "stream",
     "text": [
      "('Main Town or village', 'Post Oftice', 'Police Station', 'TehsilMandal', 'Rovenu Division', 'District', 'Pin code')\n"
     ]
    },
    {
     "name": "stderr",
     "output_type": "stream",
     "text": [
      "Neither CUDA nor MPS are available - defaulting to CPU. Note: This module is much faster with a GPU.\n"
     ]
    },
    {
     "name": "stdout",
     "output_type": "stream",
     "text": [
      "('Main Town or village', 'Post Oftice', 'Police Station', 'TehsilMandal', 'Rovenu Division', 'District', 'Pin code')\n"
     ]
    },
    {
     "name": "stderr",
     "output_type": "stream",
     "text": [
      "Neither CUDA nor MPS are available - defaulting to CPU. Note: This module is much faster with a GPU.\n"
     ]
    },
    {
     "name": "stdout",
     "output_type": "stream",
     "text": [
      "('Main Town or village', 'Post Oftice', 'Police Station', 'TehsilMandal', 'Rovenu Division', 'District', 'Pin code')\n"
     ]
    },
    {
     "name": "stderr",
     "output_type": "stream",
     "text": [
      "Neither CUDA nor MPS are available - defaulting to CPU. Note: This module is much faster with a GPU.\n"
     ]
    },
    {
     "name": "stdout",
     "output_type": "stream",
     "text": [
      "('Main Town or village', 'Post Oftice', 'Police Station', 'TehsilMandal', 'Rovenu Division', 'District', 'Pin code')\n"
     ]
    },
    {
     "name": "stderr",
     "output_type": "stream",
     "text": [
      "Neither CUDA nor MPS are available - defaulting to CPU. Note: This module is much faster with a GPU.\n"
     ]
    },
    {
     "name": "stdout",
     "output_type": "stream",
     "text": [
      "('Main Town or village', 'Post Oftice', 'Police Station', 'TehsilMandal', 'Rovenu Division', 'District', 'Pin code')\n"
     ]
    },
    {
     "name": "stderr",
     "output_type": "stream",
     "text": [
      "Neither CUDA nor MPS are available - defaulting to CPU. Note: This module is much faster with a GPU.\n"
     ]
    },
    {
     "name": "stdout",
     "output_type": "stream",
     "text": [
      "('Main Town or village', 'Post Office', 'Police Station', 'TehsilMandal', 'Rovenue Division', 'District', 'Pin coda')\n"
     ]
    },
    {
     "name": "stderr",
     "output_type": "stream",
     "text": [
      "Neither CUDA nor MPS are available - defaulting to CPU. Note: This module is much faster with a GPU.\n"
     ]
    },
    {
     "name": "stdout",
     "output_type": "stream",
     "text": [
      "('Main Town or village', 'Post Oftice', 'Police Station', 'TehsilMandal', 'Rovenu Division', 'District', 'Pin code')\n"
     ]
    },
    {
     "name": "stderr",
     "output_type": "stream",
     "text": [
      "Neither CUDA nor MPS are available - defaulting to CPU. Note: This module is much faster with a GPU.\n"
     ]
    },
    {
     "name": "stdout",
     "output_type": "stream",
     "text": [
      "('Main Town or village', 'Post Oftice', 'Police Station', 'TehsilMandal', 'Rovenu Division', 'District', 'Pin code')\n"
     ]
    },
    {
     "name": "stderr",
     "output_type": "stream",
     "text": [
      "Neither CUDA nor MPS are available - defaulting to CPU. Note: This module is much faster with a GPU.\n"
     ]
    },
    {
     "name": "stdout",
     "output_type": "stream",
     "text": [
      "('Main Town or village', 'Post Oftice', 'Police Station', 'TehsilMandal', 'Rovenu Division', 'District', 'Pin code')\n"
     ]
    },
    {
     "name": "stderr",
     "output_type": "stream",
     "text": [
      "Neither CUDA nor MPS are available - defaulting to CPU. Note: This module is much faster with a GPU.\n"
     ]
    },
    {
     "name": "stdout",
     "output_type": "stream",
     "text": [
      "('Main Town or Village', 'Post Oftice', 'Police Station', 'TehsilMandal', 'Revenue Division', 'District', 'Pin code')\n"
     ]
    },
    {
     "name": "stderr",
     "output_type": "stream",
     "text": [
      "Neither CUDA nor MPS are available - defaulting to CPU. Note: This module is much faster with a GPU.\n"
     ]
    },
    {
     "name": "stdout",
     "output_type": "stream",
     "text": [
      "('Main Town or village', 'Post Office', 'Police Station', 'TehsilMandal', 'Rovenue Division', 'District', 'Pin coda')\n"
     ]
    },
    {
     "name": "stderr",
     "output_type": "stream",
     "text": [
      "Neither CUDA nor MPS are available - defaulting to CPU. Note: This module is much faster with a GPU.\n"
     ]
    },
    {
     "name": "stdout",
     "output_type": "stream",
     "text": [
      "('Main Town or village', 'Post Oftice', 'Police Station', 'TehsilMandal', 'Rovenu Division', 'District', 'Pin code')\n"
     ]
    },
    {
     "name": "stderr",
     "output_type": "stream",
     "text": [
      "Neither CUDA nor MPS are available - defaulting to CPU. Note: This module is much faster with a GPU.\n"
     ]
    },
    {
     "name": "stdout",
     "output_type": "stream",
     "text": [
      "('Main Town or village', 'Post Oftice', 'Police Station', 'TehsilMandal', 'Rovenu Division', 'District', 'Pin code')\n"
     ]
    },
    {
     "name": "stderr",
     "output_type": "stream",
     "text": [
      "Neither CUDA nor MPS are available - defaulting to CPU. Note: This module is much faster with a GPU.\n"
     ]
    },
    {
     "name": "stdout",
     "output_type": "stream",
     "text": [
      "('Main Town or village', 'Post Oftice', 'Police Station', 'TehsilMandal', 'Rovenu Division', 'District', 'Pin code')\n"
     ]
    },
    {
     "name": "stderr",
     "output_type": "stream",
     "text": [
      "Neither CUDA nor MPS are available - defaulting to CPU. Note: This module is much faster with a GPU.\n"
     ]
    },
    {
     "name": "stdout",
     "output_type": "stream",
     "text": [
      "('Main Town or village', 'Post Oftice', 'Police Station', 'TehsilMandal', 'Rovenu Division', 'District', 'Pin code')\n"
     ]
    },
    {
     "name": "stderr",
     "output_type": "stream",
     "text": [
      "Neither CUDA nor MPS are available - defaulting to CPU. Note: This module is much faster with a GPU.\n"
     ]
    },
    {
     "name": "stdout",
     "output_type": "stream",
     "text": [
      "('Main Town or village', 'Post Oftice', 'Police Station', 'TehsilMandal', 'Rovenu Division', 'District', 'Pin code')\n"
     ]
    },
    {
     "name": "stderr",
     "output_type": "stream",
     "text": [
      "Neither CUDA nor MPS are available - defaulting to CPU. Note: This module is much faster with a GPU.\n"
     ]
    },
    {
     "name": "stdout",
     "output_type": "stream",
     "text": [
      "('Main Town or village', 'Post Oftice', 'Police Station', 'TehsilMandal', 'Rovenu Division', 'District', 'Pin code')\n"
     ]
    },
    {
     "name": "stderr",
     "output_type": "stream",
     "text": [
      "Neither CUDA nor MPS are available - defaulting to CPU. Note: This module is much faster with a GPU.\n"
     ]
    },
    {
     "name": "stdout",
     "output_type": "stream",
     "text": [
      "('Main Town or village', 'Post Oftice', 'Police Station', 'TehsilMandal', 'Rovenu Division', 'District', 'Pin code')\n"
     ]
    },
    {
     "name": "stderr",
     "output_type": "stream",
     "text": [
      "Neither CUDA nor MPS are available - defaulting to CPU. Note: This module is much faster with a GPU.\n"
     ]
    },
    {
     "name": "stdout",
     "output_type": "stream",
     "text": [
      "('Main Town or village', 'Post Oftice', 'Police Station', 'TehsilMandal', 'Rovenu Division', 'District', 'Pin code')\n"
     ]
    },
    {
     "name": "stderr",
     "output_type": "stream",
     "text": [
      "Neither CUDA nor MPS are available - defaulting to CPU. Note: This module is much faster with a GPU.\n"
     ]
    },
    {
     "name": "stdout",
     "output_type": "stream",
     "text": [
      "('Main Town Or village', 'Post Otice', 'Police Station', 'TehsilMandal', 'Revenue Division', 'District', 'Pin coda')\n"
     ]
    },
    {
     "name": "stderr",
     "output_type": "stream",
     "text": [
      "Neither CUDA nor MPS are available - defaulting to CPU. Note: This module is much faster with a GPU.\n"
     ]
    },
    {
     "name": "stdout",
     "output_type": "stream",
     "text": [
      "('Main Town or village', 'Post Office', 'Police Station', 'TehsilMandal', 'Rovenu Division', 'District', 'Pin code')\n"
     ]
    },
    {
     "name": "stderr",
     "output_type": "stream",
     "text": [
      "Neither CUDA nor MPS are available - defaulting to CPU. Note: This module is much faster with a GPU.\n"
     ]
    },
    {
     "name": "stdout",
     "output_type": "stream",
     "text": [
      "('Main Town or village', 'Post Oftice', 'Police Station', 'TehsilMandal', 'Rovenu Division', 'District', 'Pin code')\n"
     ]
    },
    {
     "name": "stderr",
     "output_type": "stream",
     "text": [
      "Neither CUDA nor MPS are available - defaulting to CPU. Note: This module is much faster with a GPU.\n"
     ]
    },
    {
     "name": "stdout",
     "output_type": "stream",
     "text": [
      "('Main Town or village', 'Post Oftice', 'Police Station', 'TehsilMandal', 'Rovenu Division', 'District', 'Pin code')\n"
     ]
    },
    {
     "name": "stderr",
     "output_type": "stream",
     "text": [
      "Neither CUDA nor MPS are available - defaulting to CPU. Note: This module is much faster with a GPU.\n"
     ]
    },
    {
     "name": "stdout",
     "output_type": "stream",
     "text": [
      "('Main Town or village', 'Post Oftice', 'Police Station', 'TehsilMandal', 'Rovenu Division', 'District', 'Pin code')\n"
     ]
    },
    {
     "name": "stderr",
     "output_type": "stream",
     "text": [
      "Neither CUDA nor MPS are available - defaulting to CPU. Note: This module is much faster with a GPU.\n"
     ]
    },
    {
     "name": "stdout",
     "output_type": "stream",
     "text": [
      "('Main Town or village', 'Post Oftice', 'Police Station', 'TehsilMandal', 'Rovenu Division', 'District', 'Pin code')\n"
     ]
    },
    {
     "name": "stderr",
     "output_type": "stream",
     "text": [
      "Neither CUDA nor MPS are available - defaulting to CPU. Note: This module is much faster with a GPU.\n"
     ]
    },
    {
     "name": "stdout",
     "output_type": "stream",
     "text": [
      "('Main Town or village', 'Post Oftice', 'Police Station', 'TehsilMandal', 'Rovenu Division', 'District', 'Pin code')\n"
     ]
    },
    {
     "name": "stderr",
     "output_type": "stream",
     "text": [
      "Neither CUDA nor MPS are available - defaulting to CPU. Note: This module is much faster with a GPU.\n"
     ]
    },
    {
     "name": "stdout",
     "output_type": "stream",
     "text": [
      "('Main Town or village', 'Post Oftice', 'Police Station', 'TehsilMandal', 'Rovenu Division', 'District', 'Pin code')\n"
     ]
    },
    {
     "name": "stderr",
     "output_type": "stream",
     "text": [
      "Neither CUDA nor MPS are available - defaulting to CPU. Note: This module is much faster with a GPU.\n"
     ]
    },
    {
     "name": "stdout",
     "output_type": "stream",
     "text": [
      "('Main Town or village', 'Post Oftice', 'Police Station', 'TehsilMandal', 'Rovenu Division', 'District', 'Pin code')\n"
     ]
    },
    {
     "name": "stderr",
     "output_type": "stream",
     "text": [
      "Neither CUDA nor MPS are available - defaulting to CPU. Note: This module is much faster with a GPU.\n"
     ]
    },
    {
     "name": "stdout",
     "output_type": "stream",
     "text": [
      "('Main Town Or Village', 'Post Ofiice', 'Police Station', 'TehsilMandal', 'Aevenue Division', 'District', 'Pin coda')\n"
     ]
    },
    {
     "name": "stderr",
     "output_type": "stream",
     "text": [
      "Neither CUDA nor MPS are available - defaulting to CPU. Note: This module is much faster with a GPU.\n"
     ]
    },
    {
     "name": "stdout",
     "output_type": "stream",
     "text": [
      "('Main Town or village', 'Post Oftice', 'Police Station', 'TehsilMandal', 'Rovenu Division', 'District', 'Pin code')\n"
     ]
    },
    {
     "name": "stderr",
     "output_type": "stream",
     "text": [
      "Neither CUDA nor MPS are available - defaulting to CPU. Note: This module is much faster with a GPU.\n"
     ]
    },
    {
     "name": "stdout",
     "output_type": "stream",
     "text": [
      "('Main Town or village', 'Post Office', 'Police Station', 'TehsilMandal', 'Rovenue Division', 'District', 'Pin code')\n"
     ]
    },
    {
     "name": "stderr",
     "output_type": "stream",
     "text": [
      "Neither CUDA nor MPS are available - defaulting to CPU. Note: This module is much faster with a GPU.\n"
     ]
    },
    {
     "name": "stdout",
     "output_type": "stream",
     "text": [
      "('Main Town or Village', 'Post Oftice', 'Police Station', 'TehsilMandal', 'Revenue Division', 'District', 'Pin code')\n"
     ]
    },
    {
     "name": "stderr",
     "output_type": "stream",
     "text": [
      "Neither CUDA nor MPS are available - defaulting to CPU. Note: This module is much faster with a GPU.\n"
     ]
    },
    {
     "name": "stdout",
     "output_type": "stream",
     "text": [
      "('Main Town or village', 'Post Oftice', 'Police Station', 'TehsilMandal', 'Rovenu Division', 'District', 'Pin code')\n"
     ]
    },
    {
     "name": "stderr",
     "output_type": "stream",
     "text": [
      "Neither CUDA nor MPS are available - defaulting to CPU. Note: This module is much faster with a GPU.\n"
     ]
    },
    {
     "name": "stdout",
     "output_type": "stream",
     "text": [
      "('Main Town or village', 'Post Oftice', 'Police Station', 'TehsilMandal', 'Rovenu Division', 'District', 'Pin code')\n"
     ]
    },
    {
     "name": "stderr",
     "output_type": "stream",
     "text": [
      "Neither CUDA nor MPS are available - defaulting to CPU. Note: This module is much faster with a GPU.\n"
     ]
    },
    {
     "name": "stdout",
     "output_type": "stream",
     "text": [
      "('Main Town or Village', 'Post Oftice', 'Police Station', 'TehsilMandal', 'Revenue Division', 'District', 'Pin code')\n"
     ]
    },
    {
     "name": "stderr",
     "output_type": "stream",
     "text": [
      "Neither CUDA nor MPS are available - defaulting to CPU. Note: This module is much faster with a GPU.\n"
     ]
    },
    {
     "name": "stdout",
     "output_type": "stream",
     "text": [
      "('Main Town or Village', 'Post Oftice', 'Police Station', 'TehsilMandal', 'Revenue Division', 'District', 'Pin code')\n"
     ]
    },
    {
     "name": "stderr",
     "output_type": "stream",
     "text": [
      "Neither CUDA nor MPS are available - defaulting to CPU. Note: This module is much faster with a GPU.\n"
     ]
    },
    {
     "name": "stdout",
     "output_type": "stream",
     "text": [
      "('Main Town or village', 'Post Oftice', 'Police Station', 'TehsilMandal', 'Rovenu Division', 'District', 'Pin code')\n"
     ]
    },
    {
     "name": "stderr",
     "output_type": "stream",
     "text": [
      "Neither CUDA nor MPS are available - defaulting to CPU. Note: This module is much faster with a GPU.\n"
     ]
    },
    {
     "name": "stdout",
     "output_type": "stream",
     "text": [
      "('Main Town or village', 'Post Office', 'Police Station', 'TehsiMandal', 'Rovenue Division', 'District', 'Pin coda')\n"
     ]
    },
    {
     "name": "stderr",
     "output_type": "stream",
     "text": [
      "Neither CUDA nor MPS are available - defaulting to CPU. Note: This module is much faster with a GPU.\n"
     ]
    },
    {
     "name": "stdout",
     "output_type": "stream",
     "text": [
      "('Main Town or village', 'Post Oftice', 'Police Station', 'TehsilMandal', 'Rovenu Division', 'District', 'Pin code')\n"
     ]
    },
    {
     "name": "stderr",
     "output_type": "stream",
     "text": [
      "Neither CUDA nor MPS are available - defaulting to CPU. Note: This module is much faster with a GPU.\n"
     ]
    },
    {
     "name": "stdout",
     "output_type": "stream",
     "text": [
      "('Main Town or village', 'Post Oftice', 'Police Station', 'TehsilMandal', 'Rovenu Division', 'District', 'Pin code')\n"
     ]
    },
    {
     "name": "stderr",
     "output_type": "stream",
     "text": [
      "Neither CUDA nor MPS are available - defaulting to CPU. Note: This module is much faster with a GPU.\n"
     ]
    },
    {
     "name": "stdout",
     "output_type": "stream",
     "text": [
      "('Main Town or village', 'Post Office', 'Police Station', 'TehsilMandal', 'Rovenu Division', 'District', 'Pin code')\n"
     ]
    },
    {
     "name": "stderr",
     "output_type": "stream",
     "text": [
      "Neither CUDA nor MPS are available - defaulting to CPU. Note: This module is much faster with a GPU.\n"
     ]
    },
    {
     "name": "stdout",
     "output_type": "stream",
     "text": [
      "('Main Town or village', 'Post Office', 'Police Station', 'TehsilMandal', 'Rovenu Division', 'District', 'Pin code')\n"
     ]
    },
    {
     "name": "stderr",
     "output_type": "stream",
     "text": [
      "Neither CUDA nor MPS are available - defaulting to CPU. Note: This module is much faster with a GPU.\n"
     ]
    },
    {
     "name": "stdout",
     "output_type": "stream",
     "text": [
      "('Main Town or Village', 'Post Oftice', 'Police Station', 'TehsilMandal', 'Revenue Division', 'District', 'Pin code')\n"
     ]
    },
    {
     "name": "stderr",
     "output_type": "stream",
     "text": [
      "Neither CUDA nor MPS are available - defaulting to CPU. Note: This module is much faster with a GPU.\n"
     ]
    },
    {
     "name": "stdout",
     "output_type": "stream",
     "text": [
      "('Main Town or village', 'Post Oftice', 'Police Station', 'TehsilMandal', 'Rovenu Division', 'District', 'Pin code')\n"
     ]
    },
    {
     "name": "stderr",
     "output_type": "stream",
     "text": [
      "Neither CUDA nor MPS are available - defaulting to CPU. Note: This module is much faster with a GPU.\n"
     ]
    },
    {
     "name": "stdout",
     "output_type": "stream",
     "text": [
      "('Main Town or village', 'Post Oftice', 'Police Station', 'TehsilMandal', 'Rovenu Division', 'District', 'Pin code')\n"
     ]
    },
    {
     "name": "stderr",
     "output_type": "stream",
     "text": [
      "Neither CUDA nor MPS are available - defaulting to CPU. Note: This module is much faster with a GPU.\n"
     ]
    },
    {
     "name": "stdout",
     "output_type": "stream",
     "text": [
      "('Main Town or village', 'Post Oftice', 'Police Station', 'TehsilMandal', 'Rovenu Division', 'District', 'Pin code')\n"
     ]
    },
    {
     "name": "stderr",
     "output_type": "stream",
     "text": [
      "Neither CUDA nor MPS are available - defaulting to CPU. Note: This module is much faster with a GPU.\n"
     ]
    },
    {
     "name": "stdout",
     "output_type": "stream",
     "text": [
      "('Main Town or village', 'Post Oftice', 'Police Station', 'TehsilMandal', 'Rovenu Division', 'District', 'Pin code')\n"
     ]
    },
    {
     "name": "stderr",
     "output_type": "stream",
     "text": [
      "Neither CUDA nor MPS are available - defaulting to CPU. Note: This module is much faster with a GPU.\n"
     ]
    },
    {
     "name": "stdout",
     "output_type": "stream",
     "text": [
      "('Main Town or village', 'Post Oftice', 'Police Station', 'TehsilMandal', 'Rovenu Division', 'District', 'Pin code')\n"
     ]
    },
    {
     "name": "stderr",
     "output_type": "stream",
     "text": [
      "Neither CUDA nor MPS are available - defaulting to CPU. Note: This module is much faster with a GPU.\n"
     ]
    },
    {
     "name": "stdout",
     "output_type": "stream",
     "text": [
      "('Main Town or village', 'Post Oftice', 'Police Station', 'TehsilMandal', 'Rovenu Division', 'District', 'Pin code')\n"
     ]
    },
    {
     "name": "stderr",
     "output_type": "stream",
     "text": [
      "Neither CUDA nor MPS are available - defaulting to CPU. Note: This module is much faster with a GPU.\n"
     ]
    },
    {
     "name": "stdout",
     "output_type": "stream",
     "text": [
      "('Main Town or village', 'Post Oftice', 'Police Station', 'TehsilMandal', 'Rovenu Division', 'District', 'Pin code')\n"
     ]
    },
    {
     "name": "stderr",
     "output_type": "stream",
     "text": [
      "Neither CUDA nor MPS are available - defaulting to CPU. Note: This module is much faster with a GPU.\n"
     ]
    },
    {
     "name": "stdout",
     "output_type": "stream",
     "text": [
      "('Main Town Or Village', 'Post Ofice', 'Police Station', 'TehsiMandal', 'Revenue Division', 'District', 'Pin code')\n"
     ]
    },
    {
     "name": "stderr",
     "output_type": "stream",
     "text": [
      "Neither CUDA nor MPS are available - defaulting to CPU. Note: This module is much faster with a GPU.\n"
     ]
    },
    {
     "name": "stdout",
     "output_type": "stream",
     "text": [
      "('Main Town or village', 'Post Oftice', 'Police Station', 'TehsilMandal', 'Rovenu Division', 'District', 'Pin code')\n"
     ]
    },
    {
     "name": "stderr",
     "output_type": "stream",
     "text": [
      "Neither CUDA nor MPS are available - defaulting to CPU. Note: This module is much faster with a GPU.\n"
     ]
    },
    {
     "name": "stdout",
     "output_type": "stream",
     "text": [
      "('Main Town or village', 'Post Oftice', 'Police Station', 'TehsilMandal', 'Rovenu Division', 'District', 'Pin code')\n"
     ]
    },
    {
     "name": "stderr",
     "output_type": "stream",
     "text": [
      "Neither CUDA nor MPS are available - defaulting to CPU. Note: This module is much faster with a GPU.\n"
     ]
    },
    {
     "name": "stdout",
     "output_type": "stream",
     "text": [
      "('Main Town or Village', 'Post Oftice', 'Police Station', 'TehsilMandal', 'Revenue Division', 'District', 'Pin code')\n"
     ]
    },
    {
     "name": "stderr",
     "output_type": "stream",
     "text": [
      "Neither CUDA nor MPS are available - defaulting to CPU. Note: This module is much faster with a GPU.\n"
     ]
    },
    {
     "name": "stdout",
     "output_type": "stream",
     "text": [
      "('Main Town or village', 'Post Oftice', 'Police Station', 'TehsilMandal', 'Rovenu Division', 'District', 'Pin code')\n"
     ]
    },
    {
     "name": "stderr",
     "output_type": "stream",
     "text": [
      "Neither CUDA nor MPS are available - defaulting to CPU. Note: This module is much faster with a GPU.\n"
     ]
    },
    {
     "name": "stdout",
     "output_type": "stream",
     "text": [
      "('Main Town or village', 'Post Oftice', 'Police Station', 'TehsilMandal', 'Rovenu Division', 'District', 'Pin code')\n"
     ]
    },
    {
     "name": "stderr",
     "output_type": "stream",
     "text": [
      "Neither CUDA nor MPS are available - defaulting to CPU. Note: This module is much faster with a GPU.\n"
     ]
    },
    {
     "name": "stdout",
     "output_type": "stream",
     "text": [
      "('Main Town or village', 'Post Oftice', 'Police Station', 'TehsilMandal', 'Rovenu Division', 'District', 'Pin code')\n"
     ]
    },
    {
     "name": "stderr",
     "output_type": "stream",
     "text": [
      "Neither CUDA nor MPS are available - defaulting to CPU. Note: This module is much faster with a GPU.\n"
     ]
    },
    {
     "name": "stdout",
     "output_type": "stream",
     "text": [
      "('Main Tcwn Or village', 'Post Oftice', 'Police Station', 'TehsilMandal', 'Rovenue Division', 'District', 'Pin coda')\n"
     ]
    },
    {
     "name": "stderr",
     "output_type": "stream",
     "text": [
      "Neither CUDA nor MPS are available - defaulting to CPU. Note: This module is much faster with a GPU.\n"
     ]
    },
    {
     "name": "stdout",
     "output_type": "stream",
     "text": [
      "('Main Town or village', 'Post Oftice', 'Police Station', 'TehsilMandal', 'Rovenu Division', 'District', 'Pin code')\n"
     ]
    },
    {
     "name": "stderr",
     "output_type": "stream",
     "text": [
      "Neither CUDA nor MPS are available - defaulting to CPU. Note: This module is much faster with a GPU.\n"
     ]
    },
    {
     "name": "stdout",
     "output_type": "stream",
     "text": [
      "('Main Town or village', 'Post Oftice', 'Police Station', 'TehsilMandal', 'Rovenu Division', 'District', 'Pin code')\n"
     ]
    },
    {
     "name": "stderr",
     "output_type": "stream",
     "text": [
      "Neither CUDA nor MPS are available - defaulting to CPU. Note: This module is much faster with a GPU.\n"
     ]
    },
    {
     "name": "stdout",
     "output_type": "stream",
     "text": [
      "('Main Town or village', 'Post Oftice', 'Police Station', 'TehsilMandal', 'Rovenu Division', 'District', 'Pin code')\n"
     ]
    },
    {
     "name": "stderr",
     "output_type": "stream",
     "text": [
      "Neither CUDA nor MPS are available - defaulting to CPU. Note: This module is much faster with a GPU.\n"
     ]
    },
    {
     "name": "stdout",
     "output_type": "stream",
     "text": [
      "('Main Town or village', 'Post Oftice', 'Police Station', 'TehsilMandal', 'Rovenu Division', 'District', 'Pin code')\n"
     ]
    },
    {
     "name": "stderr",
     "output_type": "stream",
     "text": [
      "Neither CUDA nor MPS are available - defaulting to CPU. Note: This module is much faster with a GPU.\n"
     ]
    },
    {
     "name": "stdout",
     "output_type": "stream",
     "text": [
      "('Main Town or village', 'Post Oftice', 'Police Station', 'TehsilMandal', 'Rovenu Division', 'District', 'Pin code')\n"
     ]
    },
    {
     "name": "stderr",
     "output_type": "stream",
     "text": [
      "Neither CUDA nor MPS are available - defaulting to CPU. Note: This module is much faster with a GPU.\n"
     ]
    },
    {
     "name": "stdout",
     "output_type": "stream",
     "text": [
      "('Main Town or village', 'Post Oftice', 'Police Station', 'TehsilMandal', 'Rovenu Division', 'District', 'Pin code')\n"
     ]
    },
    {
     "name": "stderr",
     "output_type": "stream",
     "text": [
      "Neither CUDA nor MPS are available - defaulting to CPU. Note: This module is much faster with a GPU.\n"
     ]
    },
    {
     "name": "stdout",
     "output_type": "stream",
     "text": [
      "('Main Town or Village', 'Post Oftice', 'Police Station', 'TehsilMandal', 'Revenue Division', 'District', 'Pin code')\n"
     ]
    },
    {
     "name": "stderr",
     "output_type": "stream",
     "text": [
      "Neither CUDA nor MPS are available - defaulting to CPU. Note: This module is much faster with a GPU.\n"
     ]
    },
    {
     "name": "stdout",
     "output_type": "stream",
     "text": [
      "('Main Town or Village', 'Post Oftice', 'Police Station', 'TehsilMandal', 'Revenue Division', 'District', 'Pin code')\n"
     ]
    },
    {
     "name": "stderr",
     "output_type": "stream",
     "text": [
      "Neither CUDA nor MPS are available - defaulting to CPU. Note: This module is much faster with a GPU.\n"
     ]
    },
    {
     "name": "stdout",
     "output_type": "stream",
     "text": [
      "('Main Town or village', 'Post Oftice', 'Police Station', 'TehsilMandal', 'Rovenu Division', 'District', 'Pin code')\n"
     ]
    },
    {
     "name": "stderr",
     "output_type": "stream",
     "text": [
      "Neither CUDA nor MPS are available - defaulting to CPU. Note: This module is much faster with a GPU.\n"
     ]
    },
    {
     "name": "stdout",
     "output_type": "stream",
     "text": [
      "('Main Town or village', 'Post Oftice', 'Police Station', 'TehsilMandal', 'Rovenu Division', 'District', 'Pin code')\n",
      "list index out of range 3\n"
     ]
    },
    {
     "name": "stderr",
     "output_type": "stream",
     "text": [
      "Neither CUDA nor MPS are available - defaulting to CPU. Note: This module is much faster with a GPU.\n"
     ]
    },
    {
     "name": "stdout",
     "output_type": "stream",
     "text": [
      "('Main Town Or Village', 'Post Ofiice', 'Police Station', 'TehsilMandal', 'Aevenue Division', 'District', 'Pin coda')\n"
     ]
    },
    {
     "name": "stderr",
     "output_type": "stream",
     "text": [
      "Neither CUDA nor MPS are available - defaulting to CPU. Note: This module is much faster with a GPU.\n"
     ]
    },
    {
     "name": "stdout",
     "output_type": "stream",
     "text": [
      "('Main Town or village', 'Post Oftice', 'Police Station', 'TehsilMandal', 'Rovenu Division', 'District', 'Pin code')\n"
     ]
    },
    {
     "name": "stderr",
     "output_type": "stream",
     "text": [
      "Neither CUDA nor MPS are available - defaulting to CPU. Note: This module is much faster with a GPU.\n"
     ]
    },
    {
     "name": "stdout",
     "output_type": "stream",
     "text": [
      "('Main Town or village', 'Post Office', 'Police Station', 'TehsiMandal', 'Rovenue Division', 'District', 'Pin coda')\n"
     ]
    },
    {
     "name": "stderr",
     "output_type": "stream",
     "text": [
      "Neither CUDA nor MPS are available - defaulting to CPU. Note: This module is much faster with a GPU.\n"
     ]
    },
    {
     "name": "stdout",
     "output_type": "stream",
     "text": [
      "('Main Town or Village', 'Post Oftice', 'Police Station', 'TehsilMandal', 'Revenue Division', 'District', 'Pin code')\n"
     ]
    },
    {
     "name": "stderr",
     "output_type": "stream",
     "text": [
      "Neither CUDA nor MPS are available - defaulting to CPU. Note: This module is much faster with a GPU.\n"
     ]
    },
    {
     "name": "stdout",
     "output_type": "stream",
     "text": [
      "('Main Town or Village', 'Post Oftice', 'Police Station', 'TehsilMandal', 'Revenue Division', 'District', 'Pin code')\n"
     ]
    },
    {
     "name": "stderr",
     "output_type": "stream",
     "text": [
      "Neither CUDA nor MPS are available - defaulting to CPU. Note: This module is much faster with a GPU.\n"
     ]
    },
    {
     "name": "stdout",
     "output_type": "stream",
     "text": [
      "('Main Town or village', 'Post Office', 'Police Station', 'TehsilMandal', 'Rovenu Division', 'District', 'Pin code')\n"
     ]
    },
    {
     "name": "stderr",
     "output_type": "stream",
     "text": [
      "Neither CUDA nor MPS are available - defaulting to CPU. Note: This module is much faster with a GPU.\n"
     ]
    },
    {
     "name": "stdout",
     "output_type": "stream",
     "text": [
      "('Main Town or village', 'Post Office', 'Police Station', 'TehsilMandal', 'Rovenu Division', 'District', 'Pin code')\n"
     ]
    },
    {
     "name": "stderr",
     "output_type": "stream",
     "text": [
      "Neither CUDA nor MPS are available - defaulting to CPU. Note: This module is much faster with a GPU.\n"
     ]
    },
    {
     "name": "stdout",
     "output_type": "stream",
     "text": [
      "('Main Town or village', 'Post Office', 'Police Station', 'TehsilMandal', 'Rovenu Division', 'District', 'Pin code')\n"
     ]
    },
    {
     "name": "stderr",
     "output_type": "stream",
     "text": [
      "Neither CUDA nor MPS are available - defaulting to CPU. Note: This module is much faster with a GPU.\n"
     ]
    },
    {
     "name": "stdout",
     "output_type": "stream",
     "text": [
      "('Main Town or village', 'Post Office', 'Police Station', 'TehsilMandal', 'Rovenu Division', 'District', 'Pin code')\n"
     ]
    },
    {
     "name": "stderr",
     "output_type": "stream",
     "text": [
      "Neither CUDA nor MPS are available - defaulting to CPU. Note: This module is much faster with a GPU.\n"
     ]
    },
    {
     "name": "stdout",
     "output_type": "stream",
     "text": [
      "('Main Town or village', 'Post Office', 'Police Station', 'TehsilMandal', 'Rovenu Division', 'District', 'Pin code')\n"
     ]
    },
    {
     "name": "stderr",
     "output_type": "stream",
     "text": [
      "Neither CUDA nor MPS are available - defaulting to CPU. Note: This module is much faster with a GPU.\n"
     ]
    },
    {
     "name": "stdout",
     "output_type": "stream",
     "text": [
      "('Main Town or village', 'Post Office', 'Police Station', 'TehsilMandal', 'Rovenu Division', 'District', 'Pin code')\n"
     ]
    },
    {
     "name": "stderr",
     "output_type": "stream",
     "text": [
      "Neither CUDA nor MPS are available - defaulting to CPU. Note: This module is much faster with a GPU.\n"
     ]
    },
    {
     "name": "stdout",
     "output_type": "stream",
     "text": [
      "('Main Town or Village', 'Post Oftice', 'Police Station', 'TehsilMandal', 'Revenue Division', 'District', 'Pin code')\n"
     ]
    },
    {
     "name": "stderr",
     "output_type": "stream",
     "text": [
      "Neither CUDA nor MPS are available - defaulting to CPU. Note: This module is much faster with a GPU.\n"
     ]
    },
    {
     "name": "stdout",
     "output_type": "stream",
     "text": [
      "('Main Town or Village', 'Post Oftice', 'Police Station', 'TehsilMandal', 'Revenue Division', 'District', 'Pin code')\n"
     ]
    },
    {
     "name": "stderr",
     "output_type": "stream",
     "text": [
      "Neither CUDA nor MPS are available - defaulting to CPU. Note: This module is much faster with a GPU.\n"
     ]
    },
    {
     "name": "stdout",
     "output_type": "stream",
     "text": [
      "('Main Town or Village', 'Post Oftice', 'Police Station', 'TehsilMandal', 'Revenue Division', 'District', 'Pin code')\n"
     ]
    },
    {
     "name": "stderr",
     "output_type": "stream",
     "text": [
      "Neither CUDA nor MPS are available - defaulting to CPU. Note: This module is much faster with a GPU.\n"
     ]
    },
    {
     "name": "stdout",
     "output_type": "stream",
     "text": [
      "('Main Town or Village', 'Post Oftice', 'Police Station', 'TehsilMandal', 'Revenue Division', 'District', 'Pin code')\n"
     ]
    },
    {
     "name": "stderr",
     "output_type": "stream",
     "text": [
      "Neither CUDA nor MPS are available - defaulting to CPU. Note: This module is much faster with a GPU.\n"
     ]
    },
    {
     "name": "stdout",
     "output_type": "stream",
     "text": [
      "('Main Town or Village', 'Post Oftice', 'Police Station', 'TehsilMandal', 'Revenue Division', 'District', 'Pin code')\n"
     ]
    },
    {
     "name": "stderr",
     "output_type": "stream",
     "text": [
      "Neither CUDA nor MPS are available - defaulting to CPU. Note: This module is much faster with a GPU.\n"
     ]
    },
    {
     "name": "stdout",
     "output_type": "stream",
     "text": [
      "('Main Town or Village', 'Post Oftice', 'Police Station', 'TehsilMandal', 'Revenue Division', 'District', 'Pin code')\n"
     ]
    },
    {
     "name": "stderr",
     "output_type": "stream",
     "text": [
      "Neither CUDA nor MPS are available - defaulting to CPU. Note: This module is much faster with a GPU.\n"
     ]
    },
    {
     "name": "stdout",
     "output_type": "stream",
     "text": [
      "('Main Town or Village', 'Post Oftice', 'Police Station', 'TehsilMandal', 'Revenue Division', 'District', 'Pin code')\n"
     ]
    },
    {
     "name": "stderr",
     "output_type": "stream",
     "text": [
      "Neither CUDA nor MPS are available - defaulting to CPU. Note: This module is much faster with a GPU.\n"
     ]
    },
    {
     "name": "stdout",
     "output_type": "stream",
     "text": [
      "('Main Town or Village', 'Post Oftice', 'Police Station', 'TehsilMandal', 'Revenue Division', 'District', 'Pin code')\n"
     ]
    },
    {
     "name": "stderr",
     "output_type": "stream",
     "text": [
      "Neither CUDA nor MPS are available - defaulting to CPU. Note: This module is much faster with a GPU.\n"
     ]
    },
    {
     "name": "stdout",
     "output_type": "stream",
     "text": [
      "('Main Town or Village', 'Post Oftice', 'Police Station', 'TehsilMandal', 'Revenue Division', 'District', 'Pin code')\n"
     ]
    },
    {
     "name": "stderr",
     "output_type": "stream",
     "text": [
      "Neither CUDA nor MPS are available - defaulting to CPU. Note: This module is much faster with a GPU.\n"
     ]
    },
    {
     "name": "stdout",
     "output_type": "stream",
     "text": [
      "('Main Town or Village', 'Post Oftice', 'Police Station', 'TehsilMandal', 'Revenue Division', 'District', 'Pin code')\n"
     ]
    },
    {
     "name": "stderr",
     "output_type": "stream",
     "text": [
      "Neither CUDA nor MPS are available - defaulting to CPU. Note: This module is much faster with a GPU.\n"
     ]
    },
    {
     "name": "stdout",
     "output_type": "stream",
     "text": [
      "('Main Town or Village', 'Post Oftice', 'Police Station', 'TehsilMandal', 'Revenue Division', 'District', 'Pin code')\n"
     ]
    },
    {
     "name": "stderr",
     "output_type": "stream",
     "text": [
      "Neither CUDA nor MPS are available - defaulting to CPU. Note: This module is much faster with a GPU.\n"
     ]
    },
    {
     "name": "stdout",
     "output_type": "stream",
     "text": [
      "('Main Town or village', 'Post Oftice', 'Police Station', 'TehsilMandal', 'Rovenue Division', 'District', 'Pin coda')\n"
     ]
    },
    {
     "name": "stderr",
     "output_type": "stream",
     "text": [
      "Neither CUDA nor MPS are available - defaulting to CPU. Note: This module is much faster with a GPU.\n"
     ]
    },
    {
     "name": "stdout",
     "output_type": "stream",
     "text": [
      "('Main Town or Village', 'Post Oftice', 'Police Station', 'TehsilMandal', 'Revenue Division', 'District', 'Pin code')\n"
     ]
    },
    {
     "name": "stderr",
     "output_type": "stream",
     "text": [
      "Neither CUDA nor MPS are available - defaulting to CPU. Note: This module is much faster with a GPU.\n"
     ]
    },
    {
     "name": "stdout",
     "output_type": "stream",
     "text": [
      "('Main Town or Village', 'Post Oftice', 'Police Station', 'TehsilMandal', 'Revenue Division', 'District', 'Pin code')\n"
     ]
    },
    {
     "name": "stderr",
     "output_type": "stream",
     "text": [
      "Neither CUDA nor MPS are available - defaulting to CPU. Note: This module is much faster with a GPU.\n"
     ]
    },
    {
     "name": "stdout",
     "output_type": "stream",
     "text": [
      "('Main Town or village', 'Post Oftice', 'Police Station', 'TehsilMandal', 'Rovenu Division', 'District', 'Pin code')\n"
     ]
    },
    {
     "name": "stderr",
     "output_type": "stream",
     "text": [
      "Neither CUDA nor MPS are available - defaulting to CPU. Note: This module is much faster with a GPU.\n"
     ]
    },
    {
     "name": "stdout",
     "output_type": "stream",
     "text": [
      "('Main Town or village', 'Post Oftice', 'Police Station', 'TehsilMandal', 'Rovenu Division', 'District', 'Pin code')\n"
     ]
    },
    {
     "name": "stderr",
     "output_type": "stream",
     "text": [
      "Neither CUDA nor MPS are available - defaulting to CPU. Note: This module is much faster with a GPU.\n"
     ]
    },
    {
     "name": "stdout",
     "output_type": "stream",
     "text": [
      "('Main Town or village', 'Post Oftice', 'Police Station', 'TehsilMandal', 'Rovenu Division', 'District', 'Pin code')\n"
     ]
    },
    {
     "name": "stderr",
     "output_type": "stream",
     "text": [
      "Neither CUDA nor MPS are available - defaulting to CPU. Note: This module is much faster with a GPU.\n"
     ]
    },
    {
     "name": "stdout",
     "output_type": "stream",
     "text": [
      "('Main Town Or Village', 'Post Ofiice', 'Police Station', 'TehsiMandal', 'Revenuc Division', 'District', 'Pin code')\n"
     ]
    },
    {
     "name": "stderr",
     "output_type": "stream",
     "text": [
      "Neither CUDA nor MPS are available - defaulting to CPU. Note: This module is much faster with a GPU.\n"
     ]
    },
    {
     "name": "stdout",
     "output_type": "stream",
     "text": [
      "('Main Town or village', 'Post Oftice', 'Police Station', 'TehsilMandal', 'Rovenu Division', 'District', 'Pin code')\n"
     ]
    },
    {
     "name": "stderr",
     "output_type": "stream",
     "text": [
      "Neither CUDA nor MPS are available - defaulting to CPU. Note: This module is much faster with a GPU.\n"
     ]
    },
    {
     "name": "stdout",
     "output_type": "stream",
     "text": [
      "('Main Town or village', 'Post Oftice', 'Police Station', 'TehsilMandal', 'Rovenu Division', 'District', 'Pin code')\n"
     ]
    },
    {
     "name": "stderr",
     "output_type": "stream",
     "text": [
      "Neither CUDA nor MPS are available - defaulting to CPU. Note: This module is much faster with a GPU.\n"
     ]
    },
    {
     "name": "stdout",
     "output_type": "stream",
     "text": [
      "('Main Town or village', 'Post Oftice', 'Police Station', 'TehsilMandal', 'Rovenu Division', 'District', 'Pin code')\n"
     ]
    },
    {
     "name": "stderr",
     "output_type": "stream",
     "text": [
      "Neither CUDA nor MPS are available - defaulting to CPU. Note: This module is much faster with a GPU.\n"
     ]
    },
    {
     "name": "stdout",
     "output_type": "stream",
     "text": [
      "('Main Town or village', 'Post Oftice', 'Police Station', 'TehsilMandal', 'Rovenu Division', 'District', 'Pin code')\n"
     ]
    },
    {
     "name": "stderr",
     "output_type": "stream",
     "text": [
      "Neither CUDA nor MPS are available - defaulting to CPU. Note: This module is much faster with a GPU.\n"
     ]
    },
    {
     "name": "stdout",
     "output_type": "stream",
     "text": [
      "('Main Town or village', 'Post Oftice', 'Police Station', 'TehsilMandal', 'Rovenu Division', 'District', 'Pin code')\n"
     ]
    },
    {
     "name": "stderr",
     "output_type": "stream",
     "text": [
      "Neither CUDA nor MPS are available - defaulting to CPU. Note: This module is much faster with a GPU.\n"
     ]
    },
    {
     "name": "stdout",
     "output_type": "stream",
     "text": [
      "('Main Town or Village', 'Post Oftice', 'Police Station', 'TehsilMandal', 'Revenue Division', 'District', 'Pin code')\n"
     ]
    },
    {
     "name": "stderr",
     "output_type": "stream",
     "text": [
      "Neither CUDA nor MPS are available - defaulting to CPU. Note: This module is much faster with a GPU.\n"
     ]
    },
    {
     "name": "stdout",
     "output_type": "stream",
     "text": [
      "('Main Town or village', 'Post Oftice', 'Police Station', 'TehsilMandal', 'Rovenu Division', 'District', 'Pin code')\n"
     ]
    },
    {
     "name": "stderr",
     "output_type": "stream",
     "text": [
      "Neither CUDA nor MPS are available - defaulting to CPU. Note: This module is much faster with a GPU.\n"
     ]
    },
    {
     "name": "stdout",
     "output_type": "stream",
     "text": [
      "('Main Town or village', 'Post Oftice', 'Police Station', 'TehsilMandal', 'Rovenu Division', 'District', 'Pin code')\n"
     ]
    },
    {
     "name": "stderr",
     "output_type": "stream",
     "text": [
      "Neither CUDA nor MPS are available - defaulting to CPU. Note: This module is much faster with a GPU.\n"
     ]
    },
    {
     "name": "stdout",
     "output_type": "stream",
     "text": [
      "('Main Town or village', 'Post Oftice', 'Police Station', 'TehsilMandal', 'Rovenu Division', 'District', 'Pin code')\n"
     ]
    },
    {
     "name": "stderr",
     "output_type": "stream",
     "text": [
      "Neither CUDA nor MPS are available - defaulting to CPU. Note: This module is much faster with a GPU.\n"
     ]
    },
    {
     "name": "stdout",
     "output_type": "stream",
     "text": [
      "('Main Town or village', 'Post Oftice', 'Police Station', 'TehsilMandal', 'Rovenu Division', 'District', 'Pin code')\n"
     ]
    },
    {
     "name": "stderr",
     "output_type": "stream",
     "text": [
      "Neither CUDA nor MPS are available - defaulting to CPU. Note: This module is much faster with a GPU.\n"
     ]
    },
    {
     "name": "stdout",
     "output_type": "stream",
     "text": [
      "('Main Tcwn Or village', 'Post Oftice', 'Police Station', 'TehsilMandal', 'Rovenue Division', 'District', 'Pin coda')\n"
     ]
    },
    {
     "name": "stderr",
     "output_type": "stream",
     "text": [
      "Neither CUDA nor MPS are available - defaulting to CPU. Note: This module is much faster with a GPU.\n"
     ]
    },
    {
     "name": "stdout",
     "output_type": "stream",
     "text": [
      "('Main Town or village', 'Post Oftice', 'Police Station', 'TehsilMandal', 'Rovenu Division', 'District', 'Pin code')\n"
     ]
    },
    {
     "name": "stderr",
     "output_type": "stream",
     "text": [
      "Neither CUDA nor MPS are available - defaulting to CPU. Note: This module is much faster with a GPU.\n"
     ]
    },
    {
     "name": "stdout",
     "output_type": "stream",
     "text": [
      "('Main Town or village', 'Post Oftice', 'Police Station', 'TehsilMandal', 'Rovenu Division', 'District', 'Pin code')\n"
     ]
    },
    {
     "name": "stderr",
     "output_type": "stream",
     "text": [
      "Neither CUDA nor MPS are available - defaulting to CPU. Note: This module is much faster with a GPU.\n"
     ]
    },
    {
     "name": "stdout",
     "output_type": "stream",
     "text": [
      "('Main Town or village', 'Post Oftice', 'Police Station', 'TehsilMandal', 'Rovenu Division', 'District', 'Pin code')\n"
     ]
    },
    {
     "name": "stderr",
     "output_type": "stream",
     "text": [
      "Neither CUDA nor MPS are available - defaulting to CPU. Note: This module is much faster with a GPU.\n"
     ]
    },
    {
     "name": "stdout",
     "output_type": "stream",
     "text": [
      "('Main Town or village', 'Post Oftice', 'Police Station', 'TehsilMandal', 'Rovenu Division', 'District', 'Pin code')\n"
     ]
    },
    {
     "name": "stderr",
     "output_type": "stream",
     "text": [
      "Neither CUDA nor MPS are available - defaulting to CPU. Note: This module is much faster with a GPU.\n"
     ]
    },
    {
     "name": "stdout",
     "output_type": "stream",
     "text": [
      "('Main Town or village', 'Post Oftice', 'Police Station', 'TehsilMandal', 'Rovenu Division', 'District', 'Pin code')\n"
     ]
    },
    {
     "name": "stderr",
     "output_type": "stream",
     "text": [
      "Neither CUDA nor MPS are available - defaulting to CPU. Note: This module is much faster with a GPU.\n"
     ]
    },
    {
     "name": "stdout",
     "output_type": "stream",
     "text": [
      "('Main Town or Village', 'Post Oftice', 'Police Station', 'TehsilMandal', 'Revenue Division', 'District', 'Pin code')\n"
     ]
    },
    {
     "name": "stderr",
     "output_type": "stream",
     "text": [
      "Neither CUDA nor MPS are available - defaulting to CPU. Note: This module is much faster with a GPU.\n"
     ]
    },
    {
     "name": "stdout",
     "output_type": "stream",
     "text": [
      "('Main Town Or Village', 'Post Office', 'Police Station', 'TehsiMandal', 'Revenuc Division', 'District', 'Pin code')\n"
     ]
    },
    {
     "name": "stderr",
     "output_type": "stream",
     "text": [
      "Neither CUDA nor MPS are available - defaulting to CPU. Note: This module is much faster with a GPU.\n"
     ]
    },
    {
     "name": "stdout",
     "output_type": "stream",
     "text": [
      "('Main Town or village', 'Post Oftice', 'Police Station', 'TehsilMandal', 'Rovenu Division', 'District', 'Pin code')\n"
     ]
    },
    {
     "name": "stderr",
     "output_type": "stream",
     "text": [
      "Neither CUDA nor MPS are available - defaulting to CPU. Note: This module is much faster with a GPU.\n"
     ]
    },
    {
     "name": "stdout",
     "output_type": "stream",
     "text": [
      "('Main Town Or Village', 'Post Office', 'Police Station', 'TehsiMandal', 'Revenuc Division', 'District', 'Pin code')\n"
     ]
    },
    {
     "name": "stderr",
     "output_type": "stream",
     "text": [
      "Neither CUDA nor MPS are available - defaulting to CPU. Note: This module is much faster with a GPU.\n"
     ]
    },
    {
     "name": "stdout",
     "output_type": "stream",
     "text": [
      "('Main Town or village', 'Post Oftice', 'Police Station', 'TehsilMandal', 'Rovenu Division', 'District', 'Pin code')\n"
     ]
    },
    {
     "name": "stderr",
     "output_type": "stream",
     "text": [
      "Neither CUDA nor MPS are available - defaulting to CPU. Note: This module is much faster with a GPU.\n"
     ]
    },
    {
     "name": "stdout",
     "output_type": "stream",
     "text": [
      "('Main Town or village', 'Post Oftice', 'Police Station', 'TehsilMandal', 'Rovenu Division', 'District', 'Pin code')\n"
     ]
    },
    {
     "name": "stderr",
     "output_type": "stream",
     "text": [
      "Neither CUDA nor MPS are available - defaulting to CPU. Note: This module is much faster with a GPU.\n"
     ]
    },
    {
     "name": "stdout",
     "output_type": "stream",
     "text": [
      "('Main Town or village', 'Post Oftice', 'Police Station', 'TehsilMandal', 'Rovenu Division', 'District', 'Pin code')\n"
     ]
    },
    {
     "name": "stderr",
     "output_type": "stream",
     "text": [
      "Neither CUDA nor MPS are available - defaulting to CPU. Note: This module is much faster with a GPU.\n"
     ]
    },
    {
     "name": "stdout",
     "output_type": "stream",
     "text": [
      "('Main Town or village', 'Post Oftice', 'Police Station', 'TehsilMandal', 'Rovenu Division', 'District', 'Pin code')\n"
     ]
    },
    {
     "name": "stderr",
     "output_type": "stream",
     "text": [
      "Neither CUDA nor MPS are available - defaulting to CPU. Note: This module is much faster with a GPU.\n"
     ]
    },
    {
     "name": "stdout",
     "output_type": "stream",
     "text": [
      "('Main Town or village', 'Post Oftice', 'Police Station', 'TehsilMandal', 'Rovenu Division', 'District', 'Pin code')\n"
     ]
    },
    {
     "name": "stderr",
     "output_type": "stream",
     "text": [
      "Neither CUDA nor MPS are available - defaulting to CPU. Note: This module is much faster with a GPU.\n"
     ]
    },
    {
     "name": "stdout",
     "output_type": "stream",
     "text": [
      "('Main Town or village', 'Post Oftice', 'Police Station', 'TehsilMandal', 'Rovenu Division', 'District', 'Pin code')\n"
     ]
    },
    {
     "name": "stderr",
     "output_type": "stream",
     "text": [
      "Neither CUDA nor MPS are available - defaulting to CPU. Note: This module is much faster with a GPU.\n"
     ]
    },
    {
     "name": "stdout",
     "output_type": "stream",
     "text": [
      "('Main Town or village', 'Post Oftice', 'Police Station', 'TehsilMandal', 'Rovenu Division', 'District', 'Pin code')\n"
     ]
    },
    {
     "name": "stderr",
     "output_type": "stream",
     "text": [
      "Neither CUDA nor MPS are available - defaulting to CPU. Note: This module is much faster with a GPU.\n"
     ]
    },
    {
     "name": "stdout",
     "output_type": "stream",
     "text": [
      "('Main Town or Village', 'Post Oftice', 'Police Station', 'TehsilMandal', 'Revenue Division', 'District', 'Pin code')\n"
     ]
    },
    {
     "name": "stderr",
     "output_type": "stream",
     "text": [
      "Neither CUDA nor MPS are available - defaulting to CPU. Note: This module is much faster with a GPU.\n"
     ]
    },
    {
     "name": "stdout",
     "output_type": "stream",
     "text": [
      "('Main Town or village', 'Post Oftice', 'Police Station', 'TehsilMandal', 'Rovenu Division', 'District', 'Pin code')\n"
     ]
    },
    {
     "name": "stderr",
     "output_type": "stream",
     "text": [
      "Neither CUDA nor MPS are available - defaulting to CPU. Note: This module is much faster with a GPU.\n"
     ]
    },
    {
     "name": "stdout",
     "output_type": "stream",
     "text": [
      "('Main Town or village', 'Post Oftice', 'Police Station', 'TehsilMandal', 'Rovenu Division', 'District', 'Pin code')\n"
     ]
    },
    {
     "name": "stderr",
     "output_type": "stream",
     "text": [
      "Neither CUDA nor MPS are available - defaulting to CPU. Note: This module is much faster with a GPU.\n"
     ]
    },
    {
     "name": "stdout",
     "output_type": "stream",
     "text": [
      "('Main Town or village', 'Post Oftice', 'Police Station', 'TehsilMandal', 'Rovenu Division', 'District', 'Pin code')\n"
     ]
    },
    {
     "name": "stderr",
     "output_type": "stream",
     "text": [
      "Neither CUDA nor MPS are available - defaulting to CPU. Note: This module is much faster with a GPU.\n"
     ]
    },
    {
     "name": "stdout",
     "output_type": "stream",
     "text": [
      "('Main Town or village', 'Post Oftice', 'Police Station', 'TehsilMandal', 'Rovenu Division', 'District', 'Pin code')\n"
     ]
    },
    {
     "name": "stderr",
     "output_type": "stream",
     "text": [
      "Neither CUDA nor MPS are available - defaulting to CPU. Note: This module is much faster with a GPU.\n"
     ]
    },
    {
     "name": "stdout",
     "output_type": "stream",
     "text": [
      "('Main Town or village', 'Post Oftice', 'Police Station', 'TehsilMandal', 'Rovenu Division', 'District', 'Pin code')\n"
     ]
    },
    {
     "name": "stderr",
     "output_type": "stream",
     "text": [
      "Neither CUDA nor MPS are available - defaulting to CPU. Note: This module is much faster with a GPU.\n"
     ]
    },
    {
     "name": "stdout",
     "output_type": "stream",
     "text": [
      "('Main Town or village', 'Post Oftice', 'Police Station', 'TehsilMandal', 'Rovenu Division', 'District', 'Pin code')\n"
     ]
    },
    {
     "name": "stderr",
     "output_type": "stream",
     "text": [
      "Neither CUDA nor MPS are available - defaulting to CPU. Note: This module is much faster with a GPU.\n"
     ]
    },
    {
     "name": "stdout",
     "output_type": "stream",
     "text": [
      "('Main Town or village', 'Post Oftice', 'Police Station', 'TehsilMandal', 'Rovenu Division', 'District', 'Pin code')\n"
     ]
    },
    {
     "name": "stderr",
     "output_type": "stream",
     "text": [
      "Neither CUDA nor MPS are available - defaulting to CPU. Note: This module is much faster with a GPU.\n"
     ]
    },
    {
     "name": "stdout",
     "output_type": "stream",
     "text": [
      "('Main Town or village', 'Post Oftice', 'Police Station', 'TehsilMandal', 'Rovenu Division', 'District', 'Pin code')\n"
     ]
    },
    {
     "name": "stderr",
     "output_type": "stream",
     "text": [
      "Neither CUDA nor MPS are available - defaulting to CPU. Note: This module is much faster with a GPU.\n"
     ]
    },
    {
     "name": "stdout",
     "output_type": "stream",
     "text": [
      "('Main Town or village', 'Post Oftice', 'Police Station', 'TehsilMandal', 'Rovenu Division', 'District', 'Pin code')\n"
     ]
    },
    {
     "name": "stderr",
     "output_type": "stream",
     "text": [
      "Neither CUDA nor MPS are available - defaulting to CPU. Note: This module is much faster with a GPU.\n"
     ]
    },
    {
     "name": "stdout",
     "output_type": "stream",
     "text": [
      "('Main Town or village', 'Post Oftice', 'Police Station', 'TehsilMandal', 'Rovenu Division', 'District', 'Pin code')\n"
     ]
    },
    {
     "name": "stderr",
     "output_type": "stream",
     "text": [
      "Neither CUDA nor MPS are available - defaulting to CPU. Note: This module is much faster with a GPU.\n"
     ]
    },
    {
     "name": "stdout",
     "output_type": "stream",
     "text": [
      "('Main Town or Village', 'Post Oftice', 'Police Station', 'TehsilMandal', 'Revenue Division', 'District', 'Pin code')\n"
     ]
    },
    {
     "name": "stderr",
     "output_type": "stream",
     "text": [
      "Neither CUDA nor MPS are available - defaulting to CPU. Note: This module is much faster with a GPU.\n"
     ]
    },
    {
     "name": "stdout",
     "output_type": "stream",
     "text": [
      "('Main Town or village', 'Post Oftice', 'Police Station', 'TehsilMandal', 'Rovenu Division', 'District', 'Pin code')\n"
     ]
    },
    {
     "name": "stderr",
     "output_type": "stream",
     "text": [
      "Neither CUDA nor MPS are available - defaulting to CPU. Note: This module is much faster with a GPU.\n"
     ]
    },
    {
     "name": "stdout",
     "output_type": "stream",
     "text": [
      "('Main Town or village', 'Post Oftice', 'Police Station', 'TehsilMandal', 'Rovenu Division', 'District', 'Pin code')\n"
     ]
    },
    {
     "name": "stderr",
     "output_type": "stream",
     "text": [
      "Neither CUDA nor MPS are available - defaulting to CPU. Note: This module is much faster with a GPU.\n"
     ]
    },
    {
     "name": "stdout",
     "output_type": "stream",
     "text": [
      "('Main Town or Village', 'Post Oftice', 'Police Station', 'TehsilMandal', 'Revenue Division', 'District', 'Pin code')\n"
     ]
    },
    {
     "name": "stderr",
     "output_type": "stream",
     "text": [
      "Neither CUDA nor MPS are available - defaulting to CPU. Note: This module is much faster with a GPU.\n"
     ]
    },
    {
     "name": "stdout",
     "output_type": "stream",
     "text": [
      "('Main Town or village', 'Post Oftice', 'Police Station', 'TehsilMandal', 'Rovenu Division', 'District', 'Pin code')\n"
     ]
    },
    {
     "name": "stderr",
     "output_type": "stream",
     "text": [
      "Neither CUDA nor MPS are available - defaulting to CPU. Note: This module is much faster with a GPU.\n"
     ]
    },
    {
     "name": "stdout",
     "output_type": "stream",
     "text": [
      "('Main Town Or Village', 'Post Office', 'Police Station', 'TehsiMandal', 'Revenuc Division', 'District', 'Lu Pin code')\n"
     ]
    },
    {
     "name": "stderr",
     "output_type": "stream",
     "text": [
      "Neither CUDA nor MPS are available - defaulting to CPU. Note: This module is much faster with a GPU.\n"
     ]
    },
    {
     "name": "stdout",
     "output_type": "stream",
     "text": [
      "('Main Town or village', 'Post Oftice', 'Police Station', 'TehsilMandal', 'Rovenu Division', 'District', 'Pin code')\n"
     ]
    },
    {
     "name": "stderr",
     "output_type": "stream",
     "text": [
      "Neither CUDA nor MPS are available - defaulting to CPU. Note: This module is much faster with a GPU.\n"
     ]
    },
    {
     "name": "stdout",
     "output_type": "stream",
     "text": [
      "('Main Town or village', 'Post Oftice', 'Police Station', 'TehsilMandal', 'Rovenu Division', 'District', 'Pin code')\n"
     ]
    },
    {
     "name": "stderr",
     "output_type": "stream",
     "text": [
      "Neither CUDA nor MPS are available - defaulting to CPU. Note: This module is much faster with a GPU.\n"
     ]
    },
    {
     "name": "stdout",
     "output_type": "stream",
     "text": [
      "('Main Town or village', 'Post Oftice', 'Police Station', 'TehsilMandal', 'Rovenu Division', 'District', 'Pin code')\n"
     ]
    },
    {
     "name": "stderr",
     "output_type": "stream",
     "text": [
      "Neither CUDA nor MPS are available - defaulting to CPU. Note: This module is much faster with a GPU.\n"
     ]
    },
    {
     "name": "stdout",
     "output_type": "stream",
     "text": [
      "('Main Town or village', 'Post Oftice', 'Police Station', 'TehsilMandal', 'Rovenu Division', 'District', 'Pin code')\n"
     ]
    },
    {
     "name": "stderr",
     "output_type": "stream",
     "text": [
      "100%|██████████| 304/304 [22:46<00:00,  4.49s/it]"
     ]
    },
    {
     "name": "stdout",
     "output_type": "stream",
     "text": [
      "('Main Town or village', 'Post Oftice', 'Police Station', 'TehsilMandal', 'Rovenu Division', 'District', 'Pin code')\n"
     ]
    },
    {
     "name": "stderr",
     "output_type": "stream",
     "text": [
      "\n",
      "1it [23:53, 1433.40s/it]"
     ]
    },
    {
     "name": "stdout",
     "output_type": "stream",
     "text": [
      "Data has been saved to Excel successfully!-28 - Araku Valley\n"
     ]
    },
    {
     "name": "stderr",
     "output_type": "stream",
     "text": [
      "Neither CUDA nor MPS are available - defaulting to CPU. Note: This module is much faster with a GPU.\n",
      "Neither CUDA nor MPS are available - defaulting to CPU. Note: This module is much faster with a GPU.\n"
     ]
    },
    {
     "name": "stdout",
     "output_type": "stream",
     "text": [
      "('Main Town or village', 'Post Oftice', 'Police Station', 'TehsilMandal', 'Rovenu Division', 'District', 'Pin code')\n"
     ]
    },
    {
     "name": "stderr",
     "output_type": "stream",
     "text": [
      "Neither CUDA nor MPS are available - defaulting to CPU. Note: This module is much faster with a GPU.\n"
     ]
    },
    {
     "name": "stdout",
     "output_type": "stream",
     "text": [
      "('Main Town or village', 'Post Oftice', 'Police Station', 'TehsilMandal', 'Rovenu Division', 'District', 'Pin code')\n"
     ]
    },
    {
     "name": "stderr",
     "output_type": "stream",
     "text": [
      "Neither CUDA nor MPS are available - defaulting to CPU. Note: This module is much faster with a GPU.\n"
     ]
    },
    {
     "name": "stdout",
     "output_type": "stream",
     "text": [
      "('Main Town or village', 'Post Oftice', 'Police Station', 'TehsilMandal', 'Rovenu Division', 'District', 'Pin code')\n"
     ]
    },
    {
     "name": "stderr",
     "output_type": "stream",
     "text": [
      "Neither CUDA nor MPS are available - defaulting to CPU. Note: This module is much faster with a GPU.\n"
     ]
    },
    {
     "name": "stdout",
     "output_type": "stream",
     "text": [
      "('Main Town or village', 'Post Oftice', 'Police Station', 'TehsilMandal', 'Rovenu Division', 'District', 'Pin code')\n"
     ]
    },
    {
     "name": "stderr",
     "output_type": "stream",
     "text": [
      "Neither CUDA nor MPS are available - defaulting to CPU. Note: This module is much faster with a GPU.\n"
     ]
    },
    {
     "name": "stdout",
     "output_type": "stream",
     "text": [
      "('Main Town or village', 'Post Oftice', 'Police Station', 'TehsilMandal', 'Rovenu Division', 'District', 'Pin code')\n"
     ]
    },
    {
     "name": "stderr",
     "output_type": "stream",
     "text": [
      "Neither CUDA nor MPS are available - defaulting to CPU. Note: This module is much faster with a GPU.\n"
     ]
    },
    {
     "name": "stdout",
     "output_type": "stream",
     "text": [
      "('Main Town or village', 'Post Oftice', 'Police Station', 'TehsilMandal', 'Rovenu Division', 'District', 'Pin code')\n"
     ]
    },
    {
     "name": "stderr",
     "output_type": "stream",
     "text": [
      "Neither CUDA nor MPS are available - defaulting to CPU. Note: This module is much faster with a GPU.\n"
     ]
    },
    {
     "name": "stdout",
     "output_type": "stream",
     "text": [
      "('Main Town or village', 'Post Oftice', 'Police Station', 'TehsilMandal', 'Rovenu Division', 'District', 'Pin code')\n"
     ]
    },
    {
     "name": "stderr",
     "output_type": "stream",
     "text": [
      "Neither CUDA nor MPS are available - defaulting to CPU. Note: This module is much faster with a GPU.\n"
     ]
    },
    {
     "name": "stdout",
     "output_type": "stream",
     "text": [
      "('Main Town or village', 'Post Oftice', 'Police Station', 'TehsilMandal', 'Rovenu Division', 'District', 'Pin code')\n"
     ]
    },
    {
     "name": "stderr",
     "output_type": "stream",
     "text": [
      "Neither CUDA nor MPS are available - defaulting to CPU. Note: This module is much faster with a GPU.\n"
     ]
    },
    {
     "name": "stdout",
     "output_type": "stream",
     "text": [
      "('Main Town or village', 'Post Oftice', 'Police Station', 'TehsilMandal', 'Rovenu Division', 'District', 'Pin code')\n"
     ]
    },
    {
     "name": "stderr",
     "output_type": "stream",
     "text": [
      "Neither CUDA nor MPS are available - defaulting to CPU. Note: This module is much faster with a GPU.\n"
     ]
    },
    {
     "name": "stdout",
     "output_type": "stream",
     "text": [
      "('Main Town or village', 'Post Oftice', 'Police Station', 'TehsilMandal', 'Rovenu Division', 'District', 'Pin code')\n"
     ]
    },
    {
     "name": "stderr",
     "output_type": "stream",
     "text": [
      "Neither CUDA nor MPS are available - defaulting to CPU. Note: This module is much faster with a GPU.\n"
     ]
    },
    {
     "name": "stdout",
     "output_type": "stream",
     "text": [
      "('Main Town or village', 'Post Oftice', 'Police Station', 'TehsilMandal', 'Rovenu Division', 'District', 'Pin code')\n"
     ]
    },
    {
     "name": "stderr",
     "output_type": "stream",
     "text": [
      "Neither CUDA nor MPS are available - defaulting to CPU. Note: This module is much faster with a GPU.\n"
     ]
    },
    {
     "name": "stdout",
     "output_type": "stream",
     "text": [
      "('Main Town or village', 'Post Oftice', 'Police Station', 'TehsilMandal', 'Rovenu Division', 'District', 'Pin code')\n"
     ]
    },
    {
     "name": "stderr",
     "output_type": "stream",
     "text": [
      "Neither CUDA nor MPS are available - defaulting to CPU. Note: This module is much faster with a GPU.\n"
     ]
    },
    {
     "name": "stdout",
     "output_type": "stream",
     "text": [
      "('Main Town or village', 'Post Oftice', 'Police Station', 'TehsilMandal', 'Rovenu Division', 'District', 'Pin code')\n"
     ]
    },
    {
     "name": "stderr",
     "output_type": "stream",
     "text": [
      "Neither CUDA nor MPS are available - defaulting to CPU. Note: This module is much faster with a GPU.\n"
     ]
    },
    {
     "name": "stdout",
     "output_type": "stream",
     "text": [
      "('Main Town or village', 'Post Oftice', 'Police Station', 'TehsilMandal', 'Rovenu Division', 'District', 'Pin code')\n"
     ]
    },
    {
     "name": "stderr",
     "output_type": "stream",
     "text": [
      "Neither CUDA nor MPS are available - defaulting to CPU. Note: This module is much faster with a GPU.\n"
     ]
    },
    {
     "name": "stdout",
     "output_type": "stream",
     "text": [
      "('Main Town or village', 'Post Oftice', 'Police Station', 'TehsilMandal', 'Rovenu Division', 'District', 'Pin code')\n"
     ]
    },
    {
     "name": "stderr",
     "output_type": "stream",
     "text": [
      "Neither CUDA nor MPS are available - defaulting to CPU. Note: This module is much faster with a GPU.\n"
     ]
    },
    {
     "name": "stdout",
     "output_type": "stream",
     "text": [
      "('Main Town or village', 'Post Oftice', 'Police Station', 'TehsilMandal', 'Rovenu Division', 'District', 'Pin code')\n"
     ]
    },
    {
     "name": "stderr",
     "output_type": "stream",
     "text": [
      "Neither CUDA nor MPS are available - defaulting to CPU. Note: This module is much faster with a GPU.\n"
     ]
    },
    {
     "name": "stdout",
     "output_type": "stream",
     "text": [
      "('Main Town or village', 'Post Oftice', 'Police Station', 'TehsilMandal', 'Rovenu Division', 'District', 'Pin code')\n"
     ]
    },
    {
     "name": "stderr",
     "output_type": "stream",
     "text": [
      "Neither CUDA nor MPS are available - defaulting to CPU. Note: This module is much faster with a GPU.\n"
     ]
    },
    {
     "name": "stdout",
     "output_type": "stream",
     "text": [
      "('Main Town or Village', 'Post Oftice', 'Police Station', 'TehsilMandal', 'Revenue Division', 'District', 'Pin code')\n"
     ]
    },
    {
     "name": "stderr",
     "output_type": "stream",
     "text": [
      "Neither CUDA nor MPS are available - defaulting to CPU. Note: This module is much faster with a GPU.\n"
     ]
    },
    {
     "name": "stdout",
     "output_type": "stream",
     "text": [
      "('Main Town Or Village', 'Post Ofice', 'Police Station', 'TehsiMandal', 'Revenue Division', 'District', 'Pin code')\n"
     ]
    },
    {
     "name": "stderr",
     "output_type": "stream",
     "text": [
      "Neither CUDA nor MPS are available - defaulting to CPU. Note: This module is much faster with a GPU.\n"
     ]
    },
    {
     "name": "stdout",
     "output_type": "stream",
     "text": [
      "('Main Town or village', 'Post Oftice', 'Police Station', 'TehsilMandal', 'Rovenue Division', 'District', 'Pin coda')\n"
     ]
    },
    {
     "name": "stderr",
     "output_type": "stream",
     "text": [
      "Neither CUDA nor MPS are available - defaulting to CPU. Note: This module is much faster with a GPU.\n"
     ]
    },
    {
     "name": "stdout",
     "output_type": "stream",
     "text": [
      "('Main Town Or Village', 'Post Ofice', 'Police Station', 'TehsiMandal', 'Revenue Division', 'District', 'Pin code')\n"
     ]
    },
    {
     "name": "stderr",
     "output_type": "stream",
     "text": [
      "Neither CUDA nor MPS are available - defaulting to CPU. Note: This module is much faster with a GPU.\n"
     ]
    },
    {
     "name": "stdout",
     "output_type": "stream",
     "text": [
      "('Main Town or village', 'Post Oftice', 'Police Station', 'TehsilMandal', 'Rovenu Division', 'District', 'Pin code')\n"
     ]
    },
    {
     "name": "stderr",
     "output_type": "stream",
     "text": [
      "Neither CUDA nor MPS are available - defaulting to CPU. Note: This module is much faster with a GPU.\n"
     ]
    },
    {
     "name": "stdout",
     "output_type": "stream",
     "text": [
      "('Main Town or village', 'Post Oftice', 'Police Station', 'TehsilMandal', 'Rovenu Division', 'District', 'Pin code')\n"
     ]
    },
    {
     "name": "stderr",
     "output_type": "stream",
     "text": [
      "Neither CUDA nor MPS are available - defaulting to CPU. Note: This module is much faster with a GPU.\n"
     ]
    },
    {
     "name": "stdout",
     "output_type": "stream",
     "text": [
      "('Main Town Or village', 'Post Otiice', 'Police Station', 'TehsilMandal', 'Revenue Division', 'District', 'Pin coda')\n"
     ]
    },
    {
     "name": "stderr",
     "output_type": "stream",
     "text": [
      "Neither CUDA nor MPS are available - defaulting to CPU. Note: This module is much faster with a GPU.\n"
     ]
    },
    {
     "name": "stdout",
     "output_type": "stream",
     "text": [
      "('Main Town or village', 'Post Oftice', 'Police Station', 'TehsilMandal', 'Rovenu Division', 'District', 'Pin code')\n"
     ]
    },
    {
     "name": "stderr",
     "output_type": "stream",
     "text": [
      "Neither CUDA nor MPS are available - defaulting to CPU. Note: This module is much faster with a GPU.\n"
     ]
    },
    {
     "name": "stdout",
     "output_type": "stream",
     "text": [
      "('Main Town or village', 'Post Oftice', 'Police Station', 'TehsilMandal', 'Rovenu Division', 'District', 'Pin code')\n"
     ]
    },
    {
     "name": "stderr",
     "output_type": "stream",
     "text": [
      "Neither CUDA nor MPS are available - defaulting to CPU. Note: This module is much faster with a GPU.\n"
     ]
    },
    {
     "name": "stdout",
     "output_type": "stream",
     "text": [
      "('Main Town or village', 'Post Oftice', 'Police Station', 'TehsilMandal', 'Rovenu Division', 'District', 'Pin code')\n"
     ]
    },
    {
     "name": "stderr",
     "output_type": "stream",
     "text": [
      "Neither CUDA nor MPS are available - defaulting to CPU. Note: This module is much faster with a GPU.\n"
     ]
    },
    {
     "name": "stdout",
     "output_type": "stream",
     "text": [
      "('Main Town or village', 'Post Oftice', 'Police Station', 'TehsilMandal', 'Rovenu Division', 'District', 'Pin code')\n"
     ]
    },
    {
     "name": "stderr",
     "output_type": "stream",
     "text": [
      "Neither CUDA nor MPS are available - defaulting to CPU. Note: This module is much faster with a GPU.\n"
     ]
    },
    {
     "name": "stdout",
     "output_type": "stream",
     "text": [
      "('Main Town or village', 'Post Oftice', 'Police Station', 'TehsilMandal', 'Rovenu Division', 'District', 'Pin code')\n"
     ]
    },
    {
     "name": "stderr",
     "output_type": "stream",
     "text": [
      "Neither CUDA nor MPS are available - defaulting to CPU. Note: This module is much faster with a GPU.\n"
     ]
    },
    {
     "name": "stdout",
     "output_type": "stream",
     "text": [
      "('Main Town or village', 'Post Oftice', 'Police Station', 'TehsilMandal', 'Rovenu Division', 'District', 'Pin code')\n"
     ]
    },
    {
     "name": "stderr",
     "output_type": "stream",
     "text": [
      "Neither CUDA nor MPS are available - defaulting to CPU. Note: This module is much faster with a GPU.\n"
     ]
    },
    {
     "name": "stdout",
     "output_type": "stream",
     "text": [
      "('Main Town or village', 'Post Oftice', 'Police Station', 'TehsilMandal', 'Rovenu Division', 'District', 'Pin code')\n"
     ]
    },
    {
     "name": "stderr",
     "output_type": "stream",
     "text": [
      "Neither CUDA nor MPS are available - defaulting to CPU. Note: This module is much faster with a GPU.\n"
     ]
    },
    {
     "name": "stdout",
     "output_type": "stream",
     "text": [
      "('Main Town or village', 'Post Oftice', 'Police Station', 'TehsilMandal', 'Rovenu Division', 'District', 'Pin code')\n"
     ]
    },
    {
     "name": "stderr",
     "output_type": "stream",
     "text": [
      "Neither CUDA nor MPS are available - defaulting to CPU. Note: This module is much faster with a GPU.\n"
     ]
    },
    {
     "name": "stdout",
     "output_type": "stream",
     "text": [
      "('Main Town or village', 'Post Oftice', 'Police Station', 'TehsilMandal', 'Rovenu Division', 'District', 'Pin code')\n"
     ]
    },
    {
     "name": "stderr",
     "output_type": "stream",
     "text": [
      "Neither CUDA nor MPS are available - defaulting to CPU. Note: This module is much faster with a GPU.\n"
     ]
    },
    {
     "name": "stdout",
     "output_type": "stream",
     "text": [
      "('Main Town or village', 'Post Oftice', 'Police Station', 'TehsilMandal', 'Rovenu Division', 'District', 'Pin code')\n"
     ]
    },
    {
     "name": "stderr",
     "output_type": "stream",
     "text": [
      "Neither CUDA nor MPS are available - defaulting to CPU. Note: This module is much faster with a GPU.\n"
     ]
    },
    {
     "name": "stdout",
     "output_type": "stream",
     "text": [
      "('Main Town Or village', 'Post Otiice', 'Police Station', 'TehsilMandal', 'Revenue Division', 'District', 'Pin coda')\n"
     ]
    },
    {
     "name": "stderr",
     "output_type": "stream",
     "text": [
      "Neither CUDA nor MPS are available - defaulting to CPU. Note: This module is much faster with a GPU.\n"
     ]
    },
    {
     "name": "stdout",
     "output_type": "stream",
     "text": [
      "('Main Town or village', 'Post Oftice', 'Police Station', 'TehsilMandal', 'Rovenu Division', 'District', 'Pin code')\n"
     ]
    },
    {
     "name": "stderr",
     "output_type": "stream",
     "text": [
      "Neither CUDA nor MPS are available - defaulting to CPU. Note: This module is much faster with a GPU.\n"
     ]
    },
    {
     "name": "stdout",
     "output_type": "stream",
     "text": [
      "('Main Town Or village', 'Post Oftice', 'Police Station', 'TehsilMandal', 'Rovenue Division', 'District', 'Pin coda')\n"
     ]
    },
    {
     "name": "stderr",
     "output_type": "stream",
     "text": [
      "Neither CUDA nor MPS are available - defaulting to CPU. Note: This module is much faster with a GPU.\n"
     ]
    },
    {
     "name": "stdout",
     "output_type": "stream",
     "text": [
      "('Main Town or village', 'Post Oftice', 'Police Station', 'TehsilMandal', 'Rovenu Division', 'District', 'Pin code')\n"
     ]
    },
    {
     "name": "stderr",
     "output_type": "stream",
     "text": [
      "Neither CUDA nor MPS are available - defaulting to CPU. Note: This module is much faster with a GPU.\n"
     ]
    },
    {
     "name": "stdout",
     "output_type": "stream",
     "text": [
      "('Main Town or village', 'Post Oftice', 'Police Station', 'TehsilMandal', 'Rovenu Division', 'District', 'Pin code')\n"
     ]
    },
    {
     "name": "stderr",
     "output_type": "stream",
     "text": [
      "Neither CUDA nor MPS are available - defaulting to CPU. Note: This module is much faster with a GPU.\n"
     ]
    },
    {
     "name": "stdout",
     "output_type": "stream",
     "text": [
      "('Main Town or village', 'Post Oftice', 'Police Station', 'TehsilMandal', 'Rovenu Division', 'District', 'Pin code')\n"
     ]
    },
    {
     "name": "stderr",
     "output_type": "stream",
     "text": [
      "Neither CUDA nor MPS are available - defaulting to CPU. Note: This module is much faster with a GPU.\n"
     ]
    },
    {
     "name": "stdout",
     "output_type": "stream",
     "text": [
      "('Main Town Or Village', 'Post Oifice', 'Police Station', 'TehsilMandal', 'Revenue Division', 'District', 'Pin code')\n"
     ]
    },
    {
     "name": "stderr",
     "output_type": "stream",
     "text": [
      "Neither CUDA nor MPS are available - defaulting to CPU. Note: This module is much faster with a GPU.\n"
     ]
    },
    {
     "name": "stdout",
     "output_type": "stream",
     "text": [
      "('Main Town or village', 'Post Oftice', 'Police Station', 'TehsilMandal', 'Rovenu Division', 'District', 'Pin code')\n"
     ]
    },
    {
     "name": "stderr",
     "output_type": "stream",
     "text": [
      "Neither CUDA nor MPS are available - defaulting to CPU. Note: This module is much faster with a GPU.\n"
     ]
    },
    {
     "name": "stdout",
     "output_type": "stream",
     "text": [
      "('Main Town or village', 'Post Oftice', 'Police Station', 'TehsilMandal', 'Rovenu Division', 'District', 'Pin code')\n"
     ]
    },
    {
     "name": "stderr",
     "output_type": "stream",
     "text": [
      "Neither CUDA nor MPS are available - defaulting to CPU. Note: This module is much faster with a GPU.\n"
     ]
    },
    {
     "name": "stdout",
     "output_type": "stream",
     "text": [
      "('Main Town or village', 'Post Oftice', 'Police Station', 'TehsilMandal', 'Rovenu Division', 'District', 'Pin code')\n"
     ]
    },
    {
     "name": "stderr",
     "output_type": "stream",
     "text": [
      "Neither CUDA nor MPS are available - defaulting to CPU. Note: This module is much faster with a GPU.\n"
     ]
    },
    {
     "name": "stdout",
     "output_type": "stream",
     "text": [
      "('Main Town or village', 'Post Oftice', 'Police Station', 'TehsilMandal', 'Rovenu Division', 'District', 'Pin code')\n"
     ]
    },
    {
     "name": "stderr",
     "output_type": "stream",
     "text": [
      "Neither CUDA nor MPS are available - defaulting to CPU. Note: This module is much faster with a GPU.\n"
     ]
    },
    {
     "name": "stdout",
     "output_type": "stream",
     "text": [
      "('Main Town Or Village', 'Post Ofiice', 'Police Station', 'TehsiMandal', 'Revenue Division', 'District', 'Pin code')\n"
     ]
    },
    {
     "name": "stderr",
     "output_type": "stream",
     "text": [
      "Neither CUDA nor MPS are available - defaulting to CPU. Note: This module is much faster with a GPU.\n"
     ]
    },
    {
     "name": "stdout",
     "output_type": "stream",
     "text": [
      "('Main Town or village', 'Post Oftice', 'Police Station', 'TehsilMandal', 'Rovenu Division', 'District', 'Pin code')\n"
     ]
    },
    {
     "name": "stderr",
     "output_type": "stream",
     "text": [
      "Neither CUDA nor MPS are available - defaulting to CPU. Note: This module is much faster with a GPU.\n"
     ]
    },
    {
     "name": "stdout",
     "output_type": "stream",
     "text": [
      "('Main Town or village', 'Post Oftice', 'Police Station', 'TehsilMandal', 'Rovenu Division', 'District', 'Pin code')\n"
     ]
    },
    {
     "name": "stderr",
     "output_type": "stream",
     "text": [
      "Neither CUDA nor MPS are available - defaulting to CPU. Note: This module is much faster with a GPU.\n"
     ]
    },
    {
     "name": "stdout",
     "output_type": "stream",
     "text": [
      "('Main Town or village', 'Post Oftice', 'Police Station', 'TehsilMandal', 'Rovenu Division', 'District', 'Pin code')\n"
     ]
    },
    {
     "name": "stderr",
     "output_type": "stream",
     "text": [
      "Neither CUDA nor MPS are available - defaulting to CPU. Note: This module is much faster with a GPU.\n"
     ]
    },
    {
     "name": "stdout",
     "output_type": "stream",
     "text": [
      "('Main Town or village', 'Post Office', 'Police Station', 'TehsilMandal', 'Rovenue Division', 'District', 'Pin coda')\n"
     ]
    },
    {
     "name": "stderr",
     "output_type": "stream",
     "text": [
      "Neither CUDA nor MPS are available - defaulting to CPU. Note: This module is much faster with a GPU.\n"
     ]
    },
    {
     "name": "stdout",
     "output_type": "stream",
     "text": [
      "('Main Town or village', 'Post Office', 'Police Station', 'TehsilMandal', 'Rovenu Division', 'District', 'Pin code')\n"
     ]
    },
    {
     "name": "stderr",
     "output_type": "stream",
     "text": [
      "Neither CUDA nor MPS are available - defaulting to CPU. Note: This module is much faster with a GPU.\n"
     ]
    },
    {
     "name": "stdout",
     "output_type": "stream",
     "text": [
      "('Main Town Or Village', 'Post Otice', 'Police Station', 'TehsilMandal', 'Revenue Division', 'District', 'Pin coda')\n"
     ]
    },
    {
     "name": "stderr",
     "output_type": "stream",
     "text": [
      "Neither CUDA nor MPS are available - defaulting to CPU. Note: This module is much faster with a GPU.\n"
     ]
    },
    {
     "name": "stdout",
     "output_type": "stream",
     "text": [
      "('Main Town Or Village', 'Post Office', 'Police Station', 'TehsilMandal', 'Revenuc Division', 'District', 'Pin code')\n"
     ]
    },
    {
     "name": "stderr",
     "output_type": "stream",
     "text": [
      "Neither CUDA nor MPS are available - defaulting to CPU. Note: This module is much faster with a GPU.\n"
     ]
    },
    {
     "name": "stdout",
     "output_type": "stream",
     "text": [
      "('Main Town Or Village', 'Post Office', 'Police Station', 'TehsilMandal', 'Revenuc Division', 'District', 'Pin code')\n"
     ]
    },
    {
     "name": "stderr",
     "output_type": "stream",
     "text": [
      "Neither CUDA nor MPS are available - defaulting to CPU. Note: This module is much faster with a GPU.\n"
     ]
    },
    {
     "name": "stdout",
     "output_type": "stream",
     "text": [
      "('Main Town or Village', 'Fost Oifice', 'Police Station', 'TehsilMandal', 'Revenue Division', 'District', 'Pin code')\n"
     ]
    },
    {
     "name": "stderr",
     "output_type": "stream",
     "text": [
      "Neither CUDA nor MPS are available - defaulting to CPU. Note: This module is much faster with a GPU.\n"
     ]
    },
    {
     "name": "stdout",
     "output_type": "stream",
     "text": [
      "('Main Town or village', 'Post Oftice', 'Police Station', 'TehsilMandal', 'Revenue Division', 'District', 'Pin code')\n"
     ]
    },
    {
     "name": "stderr",
     "output_type": "stream",
     "text": [
      "Neither CUDA nor MPS are available - defaulting to CPU. Note: This module is much faster with a GPU.\n"
     ]
    },
    {
     "name": "stdout",
     "output_type": "stream",
     "text": [
      "('Main Town or village', 'Post Oftice', 'Police Station', 'TehsilMandal', 'Rovenu Division', 'District', 'Pin code')\n"
     ]
    },
    {
     "name": "stderr",
     "output_type": "stream",
     "text": [
      "Neither CUDA nor MPS are available - defaulting to CPU. Note: This module is much faster with a GPU.\n"
     ]
    },
    {
     "name": "stdout",
     "output_type": "stream",
     "text": [
      "('Main Town Or Village', 'Post Otfice', 'Police Station', 'TehsiMandal', 'Revenuc Division', 'District', 'Pin code')\n"
     ]
    },
    {
     "name": "stderr",
     "output_type": "stream",
     "text": [
      "Neither CUDA nor MPS are available - defaulting to CPU. Note: This module is much faster with a GPU.\n"
     ]
    },
    {
     "name": "stdout",
     "output_type": "stream",
     "text": [
      "('Main Town or village', 'Post Oftice', 'Police Station', 'TehsilMandal', 'Rovenu Division', 'District', 'Pin code')\n"
     ]
    },
    {
     "name": "stderr",
     "output_type": "stream",
     "text": [
      "Neither CUDA nor MPS are available - defaulting to CPU. Note: This module is much faster with a GPU.\n"
     ]
    },
    {
     "name": "stdout",
     "output_type": "stream",
     "text": [
      "('Main Town or village', 'Post Oftice', 'Police Station', 'TehsilMandal', 'Rovenu Division', 'District', 'Pin code')\n"
     ]
    },
    {
     "name": "stderr",
     "output_type": "stream",
     "text": [
      "Neither CUDA nor MPS are available - defaulting to CPU. Note: This module is much faster with a GPU.\n"
     ]
    },
    {
     "name": "stdout",
     "output_type": "stream",
     "text": [
      "('Main Town or village', 'Post Oftice', 'Police Station', 'TehsilMandal', 'Rovenu Division', 'District', 'Pin code')\n"
     ]
    },
    {
     "name": "stderr",
     "output_type": "stream",
     "text": [
      "Neither CUDA nor MPS are available - defaulting to CPU. Note: This module is much faster with a GPU.\n"
     ]
    },
    {
     "name": "stdout",
     "output_type": "stream",
     "text": [
      "('Main Town Or Village', 'Post Ofiice', 'Police Station', 'TehsiMandal', 'Revenue Division', 'District', 'Pin code')\n"
     ]
    },
    {
     "name": "stderr",
     "output_type": "stream",
     "text": [
      "Neither CUDA nor MPS are available - defaulting to CPU. Note: This module is much faster with a GPU.\n"
     ]
    },
    {
     "name": "stdout",
     "output_type": "stream",
     "text": [
      "('Main Town Or Village', 'Post Ofiice', 'Police Station', 'TehsilMandal', 'Aevenue Division', 'District', 'Pin coda')\n"
     ]
    },
    {
     "name": "stderr",
     "output_type": "stream",
     "text": [
      "Neither CUDA nor MPS are available - defaulting to CPU. Note: This module is much faster with a GPU.\n"
     ]
    },
    {
     "name": "stdout",
     "output_type": "stream",
     "text": [
      "('Main Town Or Village', 'Post Ofice', 'Police Station', 'TehsiMandal', 'Revenue Division', 'District', 'Pin code')\n"
     ]
    },
    {
     "name": "stderr",
     "output_type": "stream",
     "text": [
      "Neither CUDA nor MPS are available - defaulting to CPU. Note: This module is much faster with a GPU.\n"
     ]
    },
    {
     "name": "stdout",
     "output_type": "stream",
     "text": [
      "('Main Town or village', 'Post Oftice', 'Police Station', 'TehsilMandal', 'Rovenu Division', 'District', 'Pin code')\n"
     ]
    },
    {
     "name": "stderr",
     "output_type": "stream",
     "text": [
      "Neither CUDA nor MPS are available - defaulting to CPU. Note: This module is much faster with a GPU.\n"
     ]
    },
    {
     "name": "stdout",
     "output_type": "stream",
     "text": [
      "('Main Town or village', 'Post Oftice', 'Police Station', 'TehsilMandal', 'Rovenu Division', 'District', 'Pin code')\n"
     ]
    },
    {
     "name": "stderr",
     "output_type": "stream",
     "text": [
      "Neither CUDA nor MPS are available - defaulting to CPU. Note: This module is much faster with a GPU.\n"
     ]
    },
    {
     "name": "stdout",
     "output_type": "stream",
     "text": [
      "('Main Town or village', 'Post Oftice', 'Police Station', 'TehsilMandal', 'Rovenu Division', 'District', 'Pin code')\n"
     ]
    },
    {
     "name": "stderr",
     "output_type": "stream",
     "text": [
      "Neither CUDA nor MPS are available - defaulting to CPU. Note: This module is much faster with a GPU.\n"
     ]
    },
    {
     "name": "stdout",
     "output_type": "stream",
     "text": [
      "('Main Town or village', 'Post Oftice', 'Police Station', 'TehsilMandal', 'Rovenu Division', 'District', 'Pin code')\n"
     ]
    },
    {
     "name": "stderr",
     "output_type": "stream",
     "text": [
      "Neither CUDA nor MPS are available - defaulting to CPU. Note: This module is much faster with a GPU.\n"
     ]
    },
    {
     "name": "stdout",
     "output_type": "stream",
     "text": [
      "('Main Town or Village', 'Post Oftice', 'Police Station', 'TehsilMandal', 'Revenue Division', 'District', 'Pin code')\n"
     ]
    },
    {
     "name": "stderr",
     "output_type": "stream",
     "text": [
      "Neither CUDA nor MPS are available - defaulting to CPU. Note: This module is much faster with a GPU.\n"
     ]
    },
    {
     "name": "stdout",
     "output_type": "stream",
     "text": [
      "('Main Town or village', 'Post Oftice', 'Police Station', 'TehsilMandal', 'Rovenu Division', 'District', 'Pin code')\n"
     ]
    },
    {
     "name": "stderr",
     "output_type": "stream",
     "text": [
      "Neither CUDA nor MPS are available - defaulting to CPU. Note: This module is much faster with a GPU.\n"
     ]
    },
    {
     "name": "stdout",
     "output_type": "stream",
     "text": [
      "('Main Town or village', 'Post Oftice', 'Police Station', 'TehsilMandal', 'Rovenu Division', 'District', 'Pin code')\n"
     ]
    },
    {
     "name": "stderr",
     "output_type": "stream",
     "text": [
      "Neither CUDA nor MPS are available - defaulting to CPU. Note: This module is much faster with a GPU.\n"
     ]
    },
    {
     "name": "stdout",
     "output_type": "stream",
     "text": [
      "('Main Town or village', 'Post Oftice', 'Police Station', 'TehsilMandal', 'Rovenu Division', 'District', 'Pin code')\n"
     ]
    },
    {
     "name": "stderr",
     "output_type": "stream",
     "text": [
      "Neither CUDA nor MPS are available - defaulting to CPU. Note: This module is much faster with a GPU.\n"
     ]
    },
    {
     "name": "stdout",
     "output_type": "stream",
     "text": [
      "('Main Town or village', 'Post Oftice', 'Police Station', 'TehsilMandal', 'Rovenu Division', 'District', 'Pin code')\n"
     ]
    },
    {
     "name": "stderr",
     "output_type": "stream",
     "text": [
      "Neither CUDA nor MPS are available - defaulting to CPU. Note: This module is much faster with a GPU.\n"
     ]
    },
    {
     "name": "stdout",
     "output_type": "stream",
     "text": [
      "('Main Town or village', 'Post Oftice', 'Police Station', 'TehsilMandal', 'Rovenu Division', 'District', 'Pin code')\n"
     ]
    },
    {
     "name": "stderr",
     "output_type": "stream",
     "text": [
      "Neither CUDA nor MPS are available - defaulting to CPU. Note: This module is much faster with a GPU.\n"
     ]
    },
    {
     "name": "stdout",
     "output_type": "stream",
     "text": [
      "('Main Town or village', 'Post Oftice', 'Police Station', 'TehsilMandal', 'Rovenu Division', 'District', 'Pin code')\n"
     ]
    },
    {
     "name": "stderr",
     "output_type": "stream",
     "text": [
      "Neither CUDA nor MPS are available - defaulting to CPU. Note: This module is much faster with a GPU.\n"
     ]
    },
    {
     "name": "stdout",
     "output_type": "stream",
     "text": [
      "('Main Town or village', 'Post Oftice', 'Police Station', 'TehsilMandal', 'Rovenu Division', 'District', 'Pin code')\n"
     ]
    },
    {
     "name": "stderr",
     "output_type": "stream",
     "text": [
      "Neither CUDA nor MPS are available - defaulting to CPU. Note: This module is much faster with a GPU.\n"
     ]
    },
    {
     "name": "stdout",
     "output_type": "stream",
     "text": [
      "('Main Town or village', 'Post Oftice', 'Police Station', 'TehsilMandal', 'Rovenu Division', 'District', 'Pin code')\n"
     ]
    },
    {
     "name": "stderr",
     "output_type": "stream",
     "text": [
      "Neither CUDA nor MPS are available - defaulting to CPU. Note: This module is much faster with a GPU.\n"
     ]
    },
    {
     "name": "stdout",
     "output_type": "stream",
     "text": [
      "('Main Town or village', 'Post Oftice', 'Police Station', 'TehsilMandal', 'Rovenu Division', 'District', 'Pin code')\n"
     ]
    },
    {
     "name": "stderr",
     "output_type": "stream",
     "text": [
      "Neither CUDA nor MPS are available - defaulting to CPU. Note: This module is much faster with a GPU.\n"
     ]
    },
    {
     "name": "stdout",
     "output_type": "stream",
     "text": [
      "('Main Town or village', 'Post Oftice', 'Police Station', 'TehsilMandal', 'Rovenu Division', 'District', 'Pin code')\n"
     ]
    },
    {
     "name": "stderr",
     "output_type": "stream",
     "text": [
      "Neither CUDA nor MPS are available - defaulting to CPU. Note: This module is much faster with a GPU.\n"
     ]
    },
    {
     "name": "stdout",
     "output_type": "stream",
     "text": [
      "('Main Town or village', 'Post Oftice', 'Police Station', 'TehsilMandal', 'Rovenu Division', 'District', 'Pin code')\n"
     ]
    },
    {
     "name": "stderr",
     "output_type": "stream",
     "text": [
      "Neither CUDA nor MPS are available - defaulting to CPU. Note: This module is much faster with a GPU.\n"
     ]
    },
    {
     "name": "stdout",
     "output_type": "stream",
     "text": [
      "('Main Town or village', 'Post Oftice', 'Police Station', 'TehsilMandal', 'Rovenu Division', 'District', 'Pin code')\n"
     ]
    },
    {
     "name": "stderr",
     "output_type": "stream",
     "text": [
      "Neither CUDA nor MPS are available - defaulting to CPU. Note: This module is much faster with a GPU.\n"
     ]
    },
    {
     "name": "stdout",
     "output_type": "stream",
     "text": [
      "('Main Town or village', 'Post Oftice', 'Police Station', 'TehsilMandal', 'Rovenu Division', 'District', 'Pin code')\n"
     ]
    },
    {
     "name": "stderr",
     "output_type": "stream",
     "text": [
      "Neither CUDA nor MPS are available - defaulting to CPU. Note: This module is much faster with a GPU.\n"
     ]
    },
    {
     "name": "stdout",
     "output_type": "stream",
     "text": [
      "('Main Town or village', 'Post Oftice', 'Police Station', 'TehsilMandal', 'Rovenu Division', 'District', 'Pin code')\n"
     ]
    },
    {
     "name": "stderr",
     "output_type": "stream",
     "text": [
      "Neither CUDA nor MPS are available - defaulting to CPU. Note: This module is much faster with a GPU.\n"
     ]
    },
    {
     "name": "stdout",
     "output_type": "stream",
     "text": [
      "('Main Town or village', 'Post Oftice', 'Police Station', 'TehsilMandal', 'Rovenu Division', 'District', 'Pin code')\n"
     ]
    },
    {
     "name": "stderr",
     "output_type": "stream",
     "text": [
      "Neither CUDA nor MPS are available - defaulting to CPU. Note: This module is much faster with a GPU.\n"
     ]
    },
    {
     "name": "stdout",
     "output_type": "stream",
     "text": [
      "('Main Town or village', 'Post Oftice', 'Police Station', 'TehsilMandal', 'Rovenu Division', 'District', 'Pin code')\n"
     ]
    },
    {
     "name": "stderr",
     "output_type": "stream",
     "text": [
      "Neither CUDA nor MPS are available - defaulting to CPU. Note: This module is much faster with a GPU.\n"
     ]
    },
    {
     "name": "stdout",
     "output_type": "stream",
     "text": [
      "('Main Town or village', 'Post Oftice', 'Police Station', 'TehsilMandal', 'Rovenu Division', 'District', 'Pin code')\n"
     ]
    },
    {
     "name": "stderr",
     "output_type": "stream",
     "text": [
      "Neither CUDA nor MPS are available - defaulting to CPU. Note: This module is much faster with a GPU.\n"
     ]
    },
    {
     "name": "stdout",
     "output_type": "stream",
     "text": [
      "('Main Town or village', 'Post Oftice', 'Police Station', 'TehsilMandal', 'Rovenu Division', 'District', 'Pin code')\n"
     ]
    },
    {
     "name": "stderr",
     "output_type": "stream",
     "text": [
      "Neither CUDA nor MPS are available - defaulting to CPU. Note: This module is much faster with a GPU.\n"
     ]
    },
    {
     "name": "stdout",
     "output_type": "stream",
     "text": [
      "('Main Town or village', 'Post Oftice', 'Police Station', 'TehsilMandal', 'Rovenu Division', 'District', 'Pin code')\n"
     ]
    },
    {
     "name": "stderr",
     "output_type": "stream",
     "text": [
      "Neither CUDA nor MPS are available - defaulting to CPU. Note: This module is much faster with a GPU.\n"
     ]
    },
    {
     "name": "stdout",
     "output_type": "stream",
     "text": [
      "('Main Town or village', 'Post Oftice', 'Police Station', 'TehsilMandal', 'Rovenu Division', 'District', 'Pin code')\n"
     ]
    },
    {
     "name": "stderr",
     "output_type": "stream",
     "text": [
      "Neither CUDA nor MPS are available - defaulting to CPU. Note: This module is much faster with a GPU.\n"
     ]
    },
    {
     "name": "stdout",
     "output_type": "stream",
     "text": [
      "('Main Town or village', 'Post Oftice', 'Police Station', 'TehsilMandal', 'Rovenu Division', 'District', 'Pin code')\n"
     ]
    },
    {
     "name": "stderr",
     "output_type": "stream",
     "text": [
      "Neither CUDA nor MPS are available - defaulting to CPU. Note: This module is much faster with a GPU.\n"
     ]
    },
    {
     "name": "stdout",
     "output_type": "stream",
     "text": [
      "('Main Town cr Village', 'Post Oifice', 'Police Station', 'TehsilMandal', 'Revenue Division', 'District', 'Pin code')\n"
     ]
    },
    {
     "name": "stderr",
     "output_type": "stream",
     "text": [
      "Neither CUDA nor MPS are available - defaulting to CPU. Note: This module is much faster with a GPU.\n"
     ]
    },
    {
     "name": "stdout",
     "output_type": "stream",
     "text": [
      "('Main Town or village', 'Post Oftice', 'Police Station', 'TehsilMandal', 'Rovenu Division', 'District', 'Pin code')\n"
     ]
    },
    {
     "name": "stderr",
     "output_type": "stream",
     "text": [
      "Neither CUDA nor MPS are available - defaulting to CPU. Note: This module is much faster with a GPU.\n"
     ]
    },
    {
     "name": "stdout",
     "output_type": "stream",
     "text": [
      "('Main Town or village', 'Post Oftice', 'Police Station', 'TehsilMandal', 'Rovenu Division', 'District', 'Pin code')\n"
     ]
    },
    {
     "name": "stderr",
     "output_type": "stream",
     "text": [
      "Neither CUDA nor MPS are available - defaulting to CPU. Note: This module is much faster with a GPU.\n"
     ]
    },
    {
     "name": "stdout",
     "output_type": "stream",
     "text": [
      "('Main Town or village', 'Post Oftice', 'Police Station', 'TehsilMandal', 'Rovenu Division', 'District', 'Pin code')\n"
     ]
    },
    {
     "name": "stderr",
     "output_type": "stream",
     "text": [
      "Neither CUDA nor MPS are available - defaulting to CPU. Note: This module is much faster with a GPU.\n"
     ]
    },
    {
     "name": "stdout",
     "output_type": "stream",
     "text": [
      "('Main Town Or Village', 'Post Ofiice', 'Police Station', 'TehsiMandal', 'Revenue Division', 'District', 'Pin code')\n"
     ]
    },
    {
     "name": "stderr",
     "output_type": "stream",
     "text": [
      "Neither CUDA nor MPS are available - defaulting to CPU. Note: This module is much faster with a GPU.\n"
     ]
    },
    {
     "name": "stdout",
     "output_type": "stream",
     "text": [
      "('Main Town or village', 'Post Oftice', 'Police Station', 'TehsilMandal', 'Rovenu Division', 'District', 'Pin code')\n"
     ]
    },
    {
     "name": "stderr",
     "output_type": "stream",
     "text": [
      "Neither CUDA nor MPS are available - defaulting to CPU. Note: This module is much faster with a GPU.\n"
     ]
    },
    {
     "name": "stdout",
     "output_type": "stream",
     "text": [
      "('Main Town or village', 'Post Oftice', 'Police Station', 'TehsilMandal', 'Rovenu Division', 'District', 'Pin code')\n"
     ]
    },
    {
     "name": "stderr",
     "output_type": "stream",
     "text": [
      "Neither CUDA nor MPS are available - defaulting to CPU. Note: This module is much faster with a GPU.\n"
     ]
    },
    {
     "name": "stdout",
     "output_type": "stream",
     "text": [
      "('Main Town or village', 'Post Oftice', 'Police Station', 'TehsilMandal', 'Rovenu Division', 'District', 'Pin code')\n"
     ]
    },
    {
     "name": "stderr",
     "output_type": "stream",
     "text": [
      "Neither CUDA nor MPS are available - defaulting to CPU. Note: This module is much faster with a GPU.\n"
     ]
    },
    {
     "name": "stdout",
     "output_type": "stream",
     "text": [
      "('Main Town or village', 'Post Oftice', 'Police Station', 'TehsilMandal', 'Rovenu Division', 'District', 'Pin code')\n"
     ]
    },
    {
     "name": "stderr",
     "output_type": "stream",
     "text": [
      "Neither CUDA nor MPS are available - defaulting to CPU. Note: This module is much faster with a GPU.\n"
     ]
    },
    {
     "name": "stdout",
     "output_type": "stream",
     "text": [
      "('Main Town or village', 'Post Oftice', 'Police Station', 'TehsilMandal', 'Rovenu Division', 'District', 'Pin code')\n"
     ]
    },
    {
     "name": "stderr",
     "output_type": "stream",
     "text": [
      "Neither CUDA nor MPS are available - defaulting to CPU. Note: This module is much faster with a GPU.\n"
     ]
    },
    {
     "name": "stdout",
     "output_type": "stream",
     "text": [
      "('Main Town Or Village', 'Post Office', 'Police Station', 'TehsiMandal', 'Revenue Division', 'District', 'Pin code')\n"
     ]
    },
    {
     "name": "stderr",
     "output_type": "stream",
     "text": [
      "Neither CUDA nor MPS are available - defaulting to CPU. Note: This module is much faster with a GPU.\n"
     ]
    },
    {
     "name": "stdout",
     "output_type": "stream",
     "text": [
      "('Main Town or village', 'Post Oftice', 'Police Station', 'TehsilMandal', 'Rovenu Division', 'District', 'Pin code')\n"
     ]
    },
    {
     "name": "stderr",
     "output_type": "stream",
     "text": [
      "Neither CUDA nor MPS are available - defaulting to CPU. Note: This module is much faster with a GPU.\n"
     ]
    },
    {
     "name": "stdout",
     "output_type": "stream",
     "text": [
      "('Main Town or village', 'Post Oftice', 'Police Station', 'TehsilMandal', 'Rovenu Division', 'District', 'Pin code')\n"
     ]
    },
    {
     "name": "stderr",
     "output_type": "stream",
     "text": [
      "Neither CUDA nor MPS are available - defaulting to CPU. Note: This module is much faster with a GPU.\n"
     ]
    },
    {
     "name": "stdout",
     "output_type": "stream",
     "text": [
      "('Main Town or village', 'Post Oftice', 'Police Station', 'TehsilMandal', 'Rovenu Division', 'District', 'Pin code')\n"
     ]
    },
    {
     "name": "stderr",
     "output_type": "stream",
     "text": [
      "Neither CUDA nor MPS are available - defaulting to CPU. Note: This module is much faster with a GPU.\n"
     ]
    },
    {
     "name": "stdout",
     "output_type": "stream",
     "text": [
      "('Main Town or village', 'Post Oftice', 'Police Station', 'TehsilMandal', 'Rovenu Division', 'District', 'Pin code')\n"
     ]
    },
    {
     "name": "stderr",
     "output_type": "stream",
     "text": [
      "Neither CUDA nor MPS are available - defaulting to CPU. Note: This module is much faster with a GPU.\n"
     ]
    },
    {
     "name": "stdout",
     "output_type": "stream",
     "text": [
      "('Main Town or village', 'Post Oftice', 'Police Station', 'TehsilMandal', 'Rovenu Division', 'District', 'Pin code')\n"
     ]
    },
    {
     "name": "stderr",
     "output_type": "stream",
     "text": [
      "Neither CUDA nor MPS are available - defaulting to CPU. Note: This module is much faster with a GPU.\n"
     ]
    },
    {
     "name": "stdout",
     "output_type": "stream",
     "text": [
      "('Main Town or village', 'Post Oftice', 'Police Station', 'TehsilMandal', 'Rovenu Division', 'District', 'Pin code')\n"
     ]
    },
    {
     "name": "stderr",
     "output_type": "stream",
     "text": [
      "Neither CUDA nor MPS are available - defaulting to CPU. Note: This module is much faster with a GPU.\n"
     ]
    },
    {
     "name": "stdout",
     "output_type": "stream",
     "text": [
      "('Main Town or village', 'Post Oftice', 'Police Station', 'TehsilMandal', 'Rovenu Division', 'District', 'Pin code')\n"
     ]
    },
    {
     "name": "stderr",
     "output_type": "stream",
     "text": [
      "Neither CUDA nor MPS are available - defaulting to CPU. Note: This module is much faster with a GPU.\n"
     ]
    },
    {
     "name": "stdout",
     "output_type": "stream",
     "text": [
      "('Main Town or village', 'Post Oftice', 'Police Station', 'TehsilMandal', 'Rovenu Division', 'District', 'Pin code')\n"
     ]
    },
    {
     "name": "stderr",
     "output_type": "stream",
     "text": [
      "Neither CUDA nor MPS are available - defaulting to CPU. Note: This module is much faster with a GPU.\n"
     ]
    },
    {
     "name": "stdout",
     "output_type": "stream",
     "text": [
      "('Main Town or village', 'Post Oftice', 'Police Station', 'TehsilMandal', 'Rovenu Division', 'District', 'Pin code')\n"
     ]
    },
    {
     "name": "stderr",
     "output_type": "stream",
     "text": [
      "Neither CUDA nor MPS are available - defaulting to CPU. Note: This module is much faster with a GPU.\n"
     ]
    },
    {
     "name": "stdout",
     "output_type": "stream",
     "text": [
      "('Main Town Or Village', 'Post Ofiice', 'Police Station', 'TehsilMandal', 'Revenue Division', 'District', 'Pin coda')\n"
     ]
    },
    {
     "name": "stderr",
     "output_type": "stream",
     "text": [
      "Neither CUDA nor MPS are available - defaulting to CPU. Note: This module is much faster with a GPU.\n"
     ]
    },
    {
     "name": "stdout",
     "output_type": "stream",
     "text": [
      "('Main Town or village', 'Post Oftice', 'Police Station', 'TehsilMandal', 'Rovenu Division', 'District', 'Pin code')\n"
     ]
    },
    {
     "name": "stderr",
     "output_type": "stream",
     "text": [
      "Neither CUDA nor MPS are available - defaulting to CPU. Note: This module is much faster with a GPU.\n"
     ]
    },
    {
     "name": "stdout",
     "output_type": "stream",
     "text": [
      "('Main Town Or Village', 'Post Office', 'Police Station', 'TehsiMandal', 'Revenue Division', 'District', 'Pin code')\n"
     ]
    },
    {
     "name": "stderr",
     "output_type": "stream",
     "text": [
      "Neither CUDA nor MPS are available - defaulting to CPU. Note: This module is much faster with a GPU.\n"
     ]
    },
    {
     "name": "stdout",
     "output_type": "stream",
     "text": [
      "('Main Town or village', 'Post Oftice', 'Police Station', 'TehsilMandal', 'Rovenu Division', 'District', 'Pin code')\n"
     ]
    },
    {
     "name": "stderr",
     "output_type": "stream",
     "text": [
      "Neither CUDA nor MPS are available - defaulting to CPU. Note: This module is much faster with a GPU.\n"
     ]
    },
    {
     "name": "stdout",
     "output_type": "stream",
     "text": [
      "('Main Town or village', 'Post Oftice', 'Police Station', 'TehsilMandal', 'Rovenu Division', 'District', 'Pin code')\n"
     ]
    },
    {
     "name": "stderr",
     "output_type": "stream",
     "text": [
      "Neither CUDA nor MPS are available - defaulting to CPU. Note: This module is much faster with a GPU.\n"
     ]
    },
    {
     "name": "stdout",
     "output_type": "stream",
     "text": [
      "('Main Town or village', 'Post Oftice', 'Police Station', 'TehsilMandal', 'Rovenu Division', 'District', 'Pin code')\n"
     ]
    },
    {
     "name": "stderr",
     "output_type": "stream",
     "text": [
      "Neither CUDA nor MPS are available - defaulting to CPU. Note: This module is much faster with a GPU.\n"
     ]
    },
    {
     "name": "stdout",
     "output_type": "stream",
     "text": [
      "('Main Town or village', 'Post Oftice', 'Police Station', 'TehsilMandal', 'Rovenu Division', 'District', 'Pin code')\n"
     ]
    },
    {
     "name": "stderr",
     "output_type": "stream",
     "text": [
      "Neither CUDA nor MPS are available - defaulting to CPU. Note: This module is much faster with a GPU.\n"
     ]
    },
    {
     "name": "stdout",
     "output_type": "stream",
     "text": [
      "('Main Town or village', 'Post Oftice', 'Police Station', 'TehsilMandal', 'Rovenu Division', 'District', 'Pin code')\n"
     ]
    },
    {
     "name": "stderr",
     "output_type": "stream",
     "text": [
      "Neither CUDA nor MPS are available - defaulting to CPU. Note: This module is much faster with a GPU.\n"
     ]
    },
    {
     "name": "stdout",
     "output_type": "stream",
     "text": [
      "('Main Town or village', 'Post Oftice', 'Police Station', 'TehsilMandal', 'Rovenu Division', 'District', 'Pin code')\n"
     ]
    },
    {
     "name": "stderr",
     "output_type": "stream",
     "text": [
      "Neither CUDA nor MPS are available - defaulting to CPU. Note: This module is much faster with a GPU.\n"
     ]
    },
    {
     "name": "stdout",
     "output_type": "stream",
     "text": [
      "('Main Town or village', 'Post Oftice', 'Police Station', 'TehsilMandal', 'Rovenu Division', 'District', 'Pin code')\n"
     ]
    },
    {
     "name": "stderr",
     "output_type": "stream",
     "text": [
      "Neither CUDA nor MPS are available - defaulting to CPU. Note: This module is much faster with a GPU.\n"
     ]
    },
    {
     "name": "stdout",
     "output_type": "stream",
     "text": [
      "('Main Town Or Village', 'Post Oifice', 'Police Station', 'TehsilMandal', 'Revenuc Division', 'District', 'Pin code')\n"
     ]
    },
    {
     "name": "stderr",
     "output_type": "stream",
     "text": [
      "Neither CUDA nor MPS are available - defaulting to CPU. Note: This module is much faster with a GPU.\n"
     ]
    },
    {
     "name": "stdout",
     "output_type": "stream",
     "text": [
      "('Main Town or village', 'Post Oftice', 'Police Station', 'TehsilMandal', 'Rovenu Division', 'District', 'Pin code')\n"
     ]
    },
    {
     "name": "stderr",
     "output_type": "stream",
     "text": [
      "Neither CUDA nor MPS are available - defaulting to CPU. Note: This module is much faster with a GPU.\n"
     ]
    },
    {
     "name": "stdout",
     "output_type": "stream",
     "text": [
      "('Main Town or village', 'Post Oftice', 'Police Station', 'TehsilMandal', 'Rovenu Division', 'District', 'Pin code')\n",
      "list index out of range 3\n"
     ]
    },
    {
     "name": "stderr",
     "output_type": "stream",
     "text": [
      "Neither CUDA nor MPS are available - defaulting to CPU. Note: This module is much faster with a GPU.\n"
     ]
    },
    {
     "name": "stdout",
     "output_type": "stream",
     "text": [
      "('Main Town Or Village', 'Post Ofice', 'Police Station', 'TehsiMandal', 'Revenuc Division', 'District', 'Pin code')\n"
     ]
    },
    {
     "name": "stderr",
     "output_type": "stream",
     "text": [
      "Neither CUDA nor MPS are available - defaulting to CPU. Note: This module is much faster with a GPU.\n"
     ]
    },
    {
     "name": "stdout",
     "output_type": "stream",
     "text": [
      "('Main Town or village', 'Post Oftice', 'Police Station', 'TehsilMandal', 'Rovenu Division', 'District', 'Pin code')\n"
     ]
    },
    {
     "name": "stderr",
     "output_type": "stream",
     "text": [
      "Neither CUDA nor MPS are available - defaulting to CPU. Note: This module is much faster with a GPU.\n"
     ]
    },
    {
     "name": "stdout",
     "output_type": "stream",
     "text": [
      "('Main Town or village', 'Post Oftice', 'Police Station', 'TehsilMandal', 'Rovenu Division', 'District', 'Pin code')\n"
     ]
    },
    {
     "name": "stderr",
     "output_type": "stream",
     "text": [
      "Neither CUDA nor MPS are available - defaulting to CPU. Note: This module is much faster with a GPU.\n"
     ]
    },
    {
     "name": "stdout",
     "output_type": "stream",
     "text": [
      "('Main Town or village', 'Post Oftice', 'Police Station', 'TehsilMandal', 'Rovenu Division', 'District', 'Pin code')\n"
     ]
    },
    {
     "name": "stderr",
     "output_type": "stream",
     "text": [
      "Neither CUDA nor MPS are available - defaulting to CPU. Note: This module is much faster with a GPU.\n"
     ]
    },
    {
     "name": "stdout",
     "output_type": "stream",
     "text": [
      "('Main Town or village', 'Post Oftice', 'Police Station', 'TehsilMandal', 'Rovenu Division', 'District', 'Pin code')\n"
     ]
    },
    {
     "name": "stderr",
     "output_type": "stream",
     "text": [
      "Neither CUDA nor MPS are available - defaulting to CPU. Note: This module is much faster with a GPU.\n"
     ]
    },
    {
     "name": "stdout",
     "output_type": "stream",
     "text": [
      "('Main Town or village', 'Post Oftice', 'Police Station', 'TehsilMandal', 'Rovenu Division', 'District', 'Pin code')\n"
     ]
    },
    {
     "name": "stderr",
     "output_type": "stream",
     "text": [
      "Neither CUDA nor MPS are available - defaulting to CPU. Note: This module is much faster with a GPU.\n"
     ]
    },
    {
     "name": "stdout",
     "output_type": "stream",
     "text": [
      "('Main Town or village', 'Post Oftice', 'Police Station', 'TehsilMandal', 'Rovenu Division', 'District', 'Pin code')\n"
     ]
    },
    {
     "name": "stderr",
     "output_type": "stream",
     "text": [
      "Neither CUDA nor MPS are available - defaulting to CPU. Note: This module is much faster with a GPU.\n"
     ]
    },
    {
     "name": "stdout",
     "output_type": "stream",
     "text": [
      "('Main Town or village', 'Post Oftice', 'Police Station', 'TehsilMandal', 'Rovenu Division', 'District', 'Pin code')\n"
     ]
    },
    {
     "name": "stderr",
     "output_type": "stream",
     "text": [
      "Neither CUDA nor MPS are available - defaulting to CPU. Note: This module is much faster with a GPU.\n"
     ]
    },
    {
     "name": "stdout",
     "output_type": "stream",
     "text": [
      "('Main Town cr Village', 'Post Oftice', 'Police Station', 'TehsilMandal', 'Rev Bnue', 'Division', 'District Pin code')\n"
     ]
    },
    {
     "name": "stderr",
     "output_type": "stream",
     "text": [
      "Neither CUDA nor MPS are available - defaulting to CPU. Note: This module is much faster with a GPU.\n"
     ]
    },
    {
     "name": "stdout",
     "output_type": "stream",
     "text": [
      "('Main Town or village', 'Post Oftice', 'Police Station', 'TehsilMandal', 'Rovenu Division', 'District', 'Pin code')\n"
     ]
    },
    {
     "name": "stderr",
     "output_type": "stream",
     "text": [
      "Neither CUDA nor MPS are available - defaulting to CPU. Note: This module is much faster with a GPU.\n"
     ]
    },
    {
     "name": "stdout",
     "output_type": "stream",
     "text": [
      "('Main Town or village', 'Post Oftice', 'Police Station', 'TehsilMandal', 'Rovenu Division', 'District', 'Pin code')\n"
     ]
    },
    {
     "name": "stderr",
     "output_type": "stream",
     "text": [
      "Neither CUDA nor MPS are available - defaulting to CPU. Note: This module is much faster with a GPU.\n"
     ]
    },
    {
     "name": "stdout",
     "output_type": "stream",
     "text": [
      "('Main Town or village', 'Post Oftice', 'Police Station', 'TehsilMandal', 'Rovenu Division', 'District', 'Pin code')\n"
     ]
    },
    {
     "name": "stderr",
     "output_type": "stream",
     "text": [
      "Neither CUDA nor MPS are available - defaulting to CPU. Note: This module is much faster with a GPU.\n"
     ]
    },
    {
     "name": "stdout",
     "output_type": "stream",
     "text": [
      "('Main Town or village', 'Post Oftice', 'Police Station', 'TehsilMandal', 'Rovenu Division', 'District', 'Pin code')\n"
     ]
    },
    {
     "name": "stderr",
     "output_type": "stream",
     "text": [
      "Neither CUDA nor MPS are available - defaulting to CPU. Note: This module is much faster with a GPU.\n"
     ]
    },
    {
     "name": "stdout",
     "output_type": "stream",
     "text": [
      "('Main Town or village', 'Post Oftice', 'Police Station', 'TehsilMandal', 'Rovenu Division', 'District', 'Pin code')\n"
     ]
    }
   ],
   "source": [
    "for i,file_path in tqdm(enumerate(list_of_AC_paths[Start_Ac:End_Ac])):\n",
    "    try:\n",
    "        pdf_folder_path = rf\"{file_path}\"\n",
    "        try:\n",
    "            output_image_folder = os.mkdir(os.path.join(file_path,\"extracted_images\"),exist_ok=True)\n",
    "        except:\n",
    "            output_image_folder = os.path.join(file_path,\"extracted_images\")\n",
    "            pass\n",
    "        Ac=file_path.split(\"\\\\\")[-1]\n",
    "        Ac_no=Ac.split(\"-\")[0]\n",
    "        Ac_name=Ac.split(\"-\")[-1]\n",
    "        extract_first_page_as_image(pdf_folder_path, output_image_folder)\n",
    "        files=glob.glob(f\"{output_image_folder}/*.jpg\")\n",
    "        data=[]\n",
    "        for i in tqdm(files):\n",
    "            try:\n",
    "                final_coor,img_gray=process_image(i)\n",
    "\n",
    "                final_coor=[final_coor[1],final_coor[28],final_coor[19],final_coor[22]]\n",
    "\n",
    "                reader = easyocr.Reader(['en'])\n",
    "\n",
    "                for i in range(0,len(final_coor)):\n",
    "                        x, y, w, h = final_coor[i]\n",
    "                        roi_image = img_gray[y:y+h, x:x+w]\n",
    "\n",
    "                        result = reader.readtext(roi_image)\n",
    "                        extracted_text = [text for (_, text, _) in result]\n",
    "\n",
    "                        sentence=\" \".join(extracted_text)\n",
    "\n",
    "                        #total count\n",
    "                        if i==0:\n",
    "                            try:\n",
    "                                total=sentence\n",
    "                            except Exception as e:\n",
    "                                print(e,i)\n",
    "                                total=\"Error\"\n",
    "                        #polling_no\n",
    "                        elif i==1:\n",
    "                            try:\n",
    "                                PS_no=extract_polling_number(sentence)\n",
    "                            except Exception as e:\n",
    "                                print(e,i)\n",
    "                                PS_no=\"error\"\n",
    "                        #polling_name and adress\n",
    "                        elif i==2:\n",
    "                            try:\n",
    "                                polling_station_name, polling_station_address = extract_polling_station_info(sentence)\n",
    "                            except Exception as e:\n",
    "                                print(e,i)\n",
    "                                polling_station_name, polling_station_address=\"Error\",\"Error\"\n",
    "                        #geo_graphic\n",
    "                        else:\n",
    "                            sentence = sentence.replace(\":\", \"\").replace(\"/\", \"\")\n",
    "                            Main_Town_or_Village,Post_Office,Police_Station,Tehsil_Mandal,Revenue_Division,District,Pin_code=geo_graphic_extraction(sentence)\n",
    "                            numbers = re.findall(r'\\b\\d+\\b', sentence)\n",
    "                            print(geo_graphic_extraction(sentence))\n",
    "                            try:\n",
    "                                pincode=numbers[0]\n",
    "                            except Exception as e:\n",
    "                                print(e,i)\n",
    "                                pincode='None'\n",
    "                            try:\n",
    "                                main_town_or_village=extract_text_between_phrases(sentence,phrase1=Main_Town_or_Village,phrase2=Post_Office)\n",
    "                            except Exception as e:\n",
    "                                print(e,i)\n",
    "                                main_town_or_village='None'\n",
    "                            try:\n",
    "                                post_office = extract_text_between_phrases(sentence,phrase1=Post_Office,phrase2=Police_Station)\n",
    "                            except Exception as e:\n",
    "                                print(e,i)\n",
    "                                post_office = \"None\"\n",
    "                            try:\n",
    "                                police_station = extract_text_between_phrases(sentence,phrase1=Police_Station,phrase2=Tehsil_Mandal)\n",
    "                            except Exception as e:\n",
    "                                print(e,i)\n",
    "                                police_station=\"None\"\n",
    "                            try:\n",
    "                                tehsil_mandal = extract_text_between_phrases(sentence,phrase1=Tehsil_Mandal,phrase2=Revenue_Division)\n",
    "                            except Exception as e:\n",
    "                                print(e,i)\n",
    "                                tehsil_mandal=\"None\"\n",
    "                            try:\n",
    "                                revenue_division= extract_text_between_phrases(sentence,phrase1=Revenue_Division,phrase2=District)\n",
    "                            except Exception as e:\n",
    "                                print(e,i)\n",
    "                                revenue_division= \"None\"\n",
    "                            try:\n",
    "                                district=extract_text_between_phrases(sentence,phrase1=District,phrase2=Pin_code)\n",
    "                            except Exception as e:\n",
    "                                district = \"None\"\n",
    "      \n",
    "                data.append({   \"AC_No\": Ac_no,\n",
    "                                \"AC_Name\": Ac_name,\n",
    "                                'PS_NO':PS_no,\n",
    "                                \"PS_name\":polling_station_name,\n",
    "                                \"PS_adress\":polling_station_address,\n",
    "                                'Total':total,\n",
    "                                'Main_Town':main_town_or_village,\n",
    "                                \"Post_Office\":post_office,\n",
    "                                \"Police_Station\":police_station,\n",
    "                                \"Mandal\":tehsil_mandal,\n",
    "                                \"Revenue_division\":revenue_division,\n",
    "                                \"District\":district,\n",
    "                                \"Pincode\":pincode})\n",
    "            except Exception as e:\n",
    "                print({e})\n",
    "                print(f\"unsucessful-{PS_no}_{polling_station_name}\")\n",
    "        df = pd.DataFrame(data)\n",
    "\n",
    "        output_excel_path = f'F:\\AP EROLL\\AP new\\exports\\{Ac}.xlsx'\n",
    "        df.to_excel(output_excel_path, index=False)\n",
    "        print(f\"Data has been saved to Excel successfully!-{Ac}\")\n",
    "    except Exception as e:\n",
    "        print(f\"{Ac} unsuccessful\")\n",
    "        print({e})"
   ]
  }
 ],
 "metadata": {
  "kernelspec": {
   "display_name": "Ap",
   "language": "python",
   "name": "python3"
  },
  "language_info": {
   "codemirror_mode": {
    "name": "ipython",
    "version": 3
   },
   "file_extension": ".py",
   "mimetype": "text/x-python",
   "name": "python",
   "nbconvert_exporter": "python",
   "pygments_lexer": "ipython3",
   "version": "3.9.18"
  }
 },
 "nbformat": 4,
 "nbformat_minor": 2
}
